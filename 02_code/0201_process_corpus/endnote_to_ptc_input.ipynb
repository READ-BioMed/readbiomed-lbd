{
 "cells": [
  {
   "cell_type": "markdown",
   "id": "a4a18a17",
   "metadata": {},
   "source": [
    "### Goal for PTC: turn the txt format articles to the json/PubTator format\n",
    "- txt format: \"[PMCID].[database].[id].[Title].[Abstract].\"\n",
    "- json format: {\"sourcedb\":\"database\",\"sourceid\":\"id\",\"text\":\"Abstract\"}\n",
    "- PubTator format (this one works):\n",
    "    - [id]|t|[title]\n",
    "    - [id]|a|[abstract]\n",
    "\n",
    "### Goal for NIO: turn the txt format articles to separated txt articles\n",
    "- original txt format: ten abstracts in one txt file \n",
    "- after pre-processing: each abstract is in one txt file. This is because of the input requirement of the ConceptMapper."
   ]
  },
  {
   "cell_type": "markdown",
   "id": "4478c798",
   "metadata": {},
   "source": [
    "### Goal for PTC: turn the txt format articles to the json/PubTator format"
   ]
  },
  {
   "cell_type": "code",
   "execution_count": 8,
   "id": "c3248c56",
   "metadata": {},
   "outputs": [],
   "source": [
    "import json"
   ]
  },
  {
   "cell_type": "code",
   "execution_count": 9,
   "id": "85745cff",
   "metadata": {},
   "outputs": [],
   "source": [
    "path = \"/Users/yidesdo21/Projects/ptc/Code.Python/txt_to_json/ten_recent.txt\"\n",
    "output_path = \"/Users/yidesdo21/Projects/ptc/Code.Python/input/\""
   ]
  },
  {
   "cell_type": "code",
   "execution_count": 10,
   "id": "c0d2f752",
   "metadata": {},
   "outputs": [],
   "source": [
    "with open(path,encoding=\"utf-8-sig\") as f:\n",
    "# with open(path) as f:\n",
    "#     contents = f.read()\n",
    "    contents = f.read().replace(\"\\t\", \"\").splitlines()"
   ]
  },
  {
   "cell_type": "code",
   "execution_count": 11,
   "id": "69639238",
   "metadata": {},
   "outputs": [
    {
     "data": {
      "text/plain": [
       "30"
      ]
     },
     "execution_count": 11,
     "metadata": {},
     "output_type": "execute_result"
    }
   ],
   "source": [
    "len(contents)"
   ]
  },
  {
   "cell_type": "code",
   "execution_count": 12,
   "id": "91d9187d",
   "metadata": {},
   "outputs": [],
   "source": [
    "sepa_content = list()\n",
    "for i in range(len(contents)):\n",
    "    if i%3 == 0:\n",
    "        new = list()\n",
    "        new.append(contents[i])\n",
    "    elif i%3 == 1:\n",
    "        new.append(contents[i])\n",
    "    elif i%3 == 2:\n",
    "#         new.append(contents[i])\n",
    "        sepa_content.append(new)\n",
    "        "
   ]
  },
  {
   "cell_type": "code",
   "execution_count": 13,
   "id": "52e05732",
   "metadata": {},
   "outputs": [
    {
     "data": {
      "text/plain": [
       "[[\"NLM.34060233.The BIN1 rs744373 Alzheimer's disease risk SNP is associated with faster Aβ-associated tau accumulation and cognitive decline.\",\n",
       "  \"INTRODUCTION: The BIN1 rs744373 single nucleotide polymorphism (SNP) is a key genetic risk locus for Alzheimer's disease (AD) associated with tau pathology. Because tau typically accumulates in response to amyloid beta (Aβ), we tested whether BIN1 rs744373 accelerates Aβ-related tau accumulation. METHODS: We included two samples (Alzheimer's Disease Neuroimaging Initiative [ADNI], n\\xa0=\\xa0153; Biomarkers for Identifying Neurodegenerative Disorders Early and Reliably [BioFINDER], n\\xa0=\\xa063) with longitudinal (18) F-Flortaucipir positron emission tomography (PET), Aβ biomarkers, and longitudinal cognitive assessments. We assessed whether BIN1 rs744373 was associated with faster tau-PET accumulation at a given level of Aβ and whether faster BIN1 rs744373-associated tau-PET accumulation mediated cognitive decline. RESULTS: BIN1 rs744373 risk-allele carriers showed faster global tau-PET accumulation (ADNI/BioFINDER, P\\xa0<\\xa0.001/P\\xa0<\\xa0.001). We found significant Aβ by rs744373 interactions on global tau-PET change (ADNI: β/standard error [SE]\\xa0=\\xa00.42/0.14, P\\xa0=\\xa00.002; BioFINDER: β/SE\\xa0=\\xa0-0.35/0.15, P\\xa0=\\xa0.021), BIN1 risk-allele carriers showed accelerated tau-PET accumulation at higher Aβ levels. In ADNI, rs744373 effects on cognitive decline were mediated by faster global tau-PET accumulation (β/SE\\xa0=\\xa00.20/0.07, P\\xa0=\\xa0.005). DISCUSSION: BIN1-associated AD risk is potentially driven by accelerated tau accumulation in the face of Aβ.\"],\n",
       " [\"PMC8145448.NLM.34095440.Alzheimer's disease drug development pipeline: 2021.\",\n",
       "  \"INTRODUCTION: The number of individuals worldwide with Alzheimer's disease (AD) is growing at a rapid rate. New treatments are urgently needed. We review the current pipeline of drugs in clinical trials for the treatment of AD. METHODS: We interrogated ClinicalTrials.gov, the federal registry of clinical trials to identify drugs in trials. RESULTS: There are 126 agents in 152 trials assessing new therapies for AD: 28 treatments in Phase 3 trials, 74 in Phase 2, and 24 in Phase 1. The majority of drugs in trials (82.5%) target the underlying biology of AD with the intent of disease modification; 10.3% are putative cognitive enhancing agents; and 7.1% are drugs being developed to reduce neuropsychiatric symptoms. DISCUSSION: This pipeline analysis shows that target biological processes are more diversified, biomarkers are more regularly used, and repurposed agents are being explored to determine their utility for the treatment of AD.\"],\n",
       " [\"NLM.34101788.Platform Trials to Expedite Drug Development in Alzheimer's Disease: A Report from the EU/US CTAD Task Force.\",\n",
       "  \"A diverse range of platforms has been established to increase the efficiency and speed of clinical trials for Alzheimer's disease (AD). These platforms enable parallel assessment of multiple therapeutics, treatment regimens, or participant groups; use uniform protocols and outcome measures; and may allow treatment arms to be added or dropped based on interim analyses of outcomes. The EU/US CTAD Task Force discussed the lessons learned from the Dominantly Inherited Alzheimer's Network Trials Unit (DIAN-TU) platform trial and the challenges addressed by other platform trials that have launched or are in the planning stages. The landscape of clinical trial platforms in the AD space includes those testing experimental therapies such as DIAN-TU, platforms designed to test multidomain interventions, and those designed to streamline trial recruitment by building trial-ready cohorts. The heterogeneity of the AD patient population, AD drugs, treatment regimens, and analytical methods complicates the design and execution of platform trials, yet Task Force members concluded that platform trials are essential to advance the search for effective AD treatments, including combination therapies.\"],\n",
       " ['PMC8094113.NLM.33730588.The AD tau core spontaneously self-assembles and recruits full-length tau to filaments.',\n",
       "  \"Tau accumulation is a major pathological hallmark of Alzheimer's disease (AD) and other tauopathies, but the mechanism(s) of tau aggregation remains unclear. Taking advantage of the identification of tau filament cores by cryoelectron microscopy, we demonstrate that the AD tau core possesses the intrinsic ability to spontaneously aggregate in the absence of an inducer, with antibodies generated against AD tau core filaments detecting AD tau pathology. The AD tau core also drives aggregation of full-length wild-type tau, increases seeding potential, and templates abnormal forms of tau present in brain homogenates and antemortem cerebrospinal fluid (CSF) from patients with AD in an ultrasensitive real-time quaking-induced conversion (QuIC) assay. Finally, we show that the filament cores in corticobasal degeneration (CBD) and Pick's disease (PiD) similarly assemble into filaments under physiological conditions. These results document an approach to modeling tau aggregation and have significant implications for in\\xa0vivo investigation of tau transmission and biomarker development.\"],\n",
       " ['PMC8129791.NLM.33988687.Alzheimer mutant speeds APP transport.',\n",
       "  \"APPS198P segregates with rare familial forms of Alzheimer's disease and resides within exon 5, unlike 27 other mutations that reside in exons 16 or 17. In this issue, Zhang et al. (2021. J. Exp. Med.https://doi.org/10.1084/jem.20210313) show that the brains of APPS198P transgenic mice accumulate excess levels of Aβ. In cultured cells, APPS198P undergoes accelerated ER folding, leading to early arrival in late vesicular compartments, thereby enhancing generation of Aβ.\"],\n",
       " [\"NLM.33958804.Neuronal ApoE upregulates MHC-I expression to drive selective neurodegeneration in Alzheimer's disease.\",\n",
       "  \"Selective neurodegeneration is a critical causal factor in Alzheimer's disease (AD); however, the mechanisms that lead some neurons to perish, whereas others remain resilient, are unknown. We sought potential drivers of this selective vulnerability using single-nucleus RNA sequencing and discovered that ApoE expression level is a substantial driver of neuronal variability. Strikingly, neuronal expression of ApoE-which has a robust genetic linkage to AD-correlated strongly, on a cell-by-cell basis, with immune response pathways in neurons in the brains of wild-type mice, human ApoE knock-in mice and humans with or without AD. Elimination or over-expression of neuronal ApoE revealed a causal relationship among ApoE expression, neuronal MHC-I expression, tau pathology and neurodegeneration. Functional reduction of MHC-I ameliorated tau pathology in ApoE4-expressing primary neurons and in mouse hippocampi expressing pathological tau. These findings suggest a mechanism linking neuronal ApoE expression to MHC-I expression and, subsequently, to tau pathology and selective neurodegeneration.\"],\n",
       " [\"PMC7078754.NLM.31721178.Tau (297-391) forms filaments that structurally mimic the core of paired helical filaments in Alzheimer's disease brain.\",\n",
       "  \"The constituent paired helical filaments (PHFs) in neurofibrillary tangles are insoluble intracellular deposits central to the development of Alzheimer's disease (AD) and other tauopathies. Full-length tau requires the addition of anionic cofactors such as heparin to enhance assembly. We have shown that a fragment from the proteolytically stable core of the PHF, tau 297-391 known as 'dGAE', spontaneously forms cross-β-containing PHFs and straight filaments under physiological conditions. Here, we have analysed and compared the structures of the filaments formed by dGAE in\\xa0vitro with those deposited in the brains of individuals diagnosed with AD. We show that dGAE forms PHFs that share a macromolecular structure similar to those found in brain tissue. Thus, dGAEs may serve as a model system for studying core domain assembly and for screening for inhibitors of tau aggregation.\"],\n",
       " ['CCC:000637925000033.Glycoengineering artificial receptors for microglia to phagocytose A beta aggregates.',\n",
       "  'Oligomeric and fibrillar amyloid-beta (A beta) are principally internalized via receptor-mediated endocytosis (RME) by microglia, the main scavenger of A beta in the brain. Nevertheless, the inflammatory cascade will be evoked after vast A beta aggregate binding to pattern recognition receptors on the cell membrane, which then significantly decreases the expression of these receptors and further deteriorate A beta deposition. This vicious circle will weaken the ability of microglia for A beta elimination. Herein, a combination of metabolic glycoengineering and self-triggered click chemistry is utilized to engineer microglial membranes with ThS as artificial A beta receptors to promote microglia to phagocytose A beta aggregates. Additionally, to circumvent the undesirable immune response during the process of the bioorthogonal chemistry reaction and A beta-microglial interaction, Mn-porphyrin metal-organic frameworks (Mn-MOFs) with superoxide dismutase (SOD) and catalase (CAT) mimic activity are employed to carry N-azidoacetylmannosamine (AcManNAz) and eradicate over-expressed reactive oxygen species (ROSs). The artificial A beta receptors independent of a signal pathway involved in immunomodulation as well as Mn-MOFs with antioxidant properties can synergistically promote the phagocytosis and clearance of A beta with significantly enhanced activity and negligible adverse effects. The present study will not only provide valuable insight into the rational design of the microglial surface engineering strategy via bioorthogonal chemistry, but also hold great potential for other disease intervention associated with receptor starvation.'],\n",
       " ['CCC:000647663200001.Impairment of visual cortical plasticity by amyloid-beta species.',\n",
       "  'Introduction: A variety of transgenic and knock-in mice that express mutant alleles of Amyloid precursor protein (APP) have been used to model the effects of amyloid-beta (A?) on circuit function in Alzheimer?s disease (AD); however phenotypes described in these mice may be affected by expression of mutant APP or proteolytic cleavage products independent of A?. In addition, the effects of mutant APP expression are attributed to elevated expression of the amyloidogenic, 42-amino acid-long species of A? (A?42) associated with amyloid plaque accumulation in AD, though elevated concentrations of A?40, an A? species produced with normal synaptic activity, may also affect neural function. Methods: To explore the effects of elevated expression of A? on synaptic function in vivo, we assessed visual system plasticity in transgenic mice that express and secrete A? throughout the brain in the absence of APP overexpression. Transgenic mice that express either A?40 or A?42 were assayed for their ability to appropriately demonstrate ocular dominance plasticity following monocular deprivation. Results: Using two complementary approaches to measure the plastic response to monocular deprivation, we find that male and female mice that express either 40- or 42-amino acid?long A? species demonstrate a plasticity defect comparable to that elicited in transgenic mice that express mutant alleles of APP and Presenilin 1 (APP/PS1 mice). Conclusions: These data support the hypothesis that mutant APP-driven plasticity impairment in mouse models of AD is mediated by production and accumulation of A?. Moreover, these findings suggest that soluble species of A? are capable of modulating synaptic plasticity, likely independent of any aggregation. These findings may have implications for the role of soluble species of A? in both development and disease settings.'],\n",
       " ['CCC:000653155500009.An excellent electrochemical aptasensor for amyloid-beta oligomers based on a triple-helix aptamer switch via target-triggered signal transduction DNA displacement events.',\n",
       "  \"An excellent aptasensor for electrochemical detection of amyloid-beta oligomers (A beta Os) at trace levels was fabricated based on a triple-helix aptamer switch (THAS) via target-triggered signal transduction DNA displacement events. Specifically, a single-stranded anti-A beta O aptamer (Apt) carrying two symmetrical arm segments was first attached via Au-S binding to an Au electrode. Gold nanoparticle (GNP)-tagged signal transduction probes (GNP-STPs) were simultaneously hybridized with the two arm segments of the Apt, and a rigid THAS was formed on the Au electrode. Compared to the conventional hybrid, the number of GNPs on the Au electrode increased significantly with the THAS, effectively improving the stability of the Apt to avoid lodging. Trithiocyanuric acid (TA) was utilized to further gather the GNPs and form network-like TA/GNPs. As a result, the differential pulse voltammetry (DPV) response of GNPs was clearly enhanced. When A beta Os were present, target-triggered signal transduction DNA displacement events were carried out from THAS via the reaction of the Apt with the A beta Os, which caused the GNP-STP to dissociate from the Au electrode, and thus a significant reduction in the DPV response was observed. The assay was able to sensitively detect trace A beta Os by monitoring the A beta O-controlled DPV response change. It exhibited a wide linear range from 1 fM to 10 pM with a low detection limit of 0.5 fM, and was successfully employed for the determination of A beta Os in 20 serum samples, with good recovery. Moreover, the developed assay can provide a sensitive and selective platform for many studies or investigations related to Alzheimer's disease (AD) monitoring and treatment.\"]]"
      ]
     },
     "execution_count": 13,
     "metadata": {},
     "output_type": "execute_result"
    }
   ],
   "source": [
    "sepa_content"
   ]
  },
  {
   "cell_type": "code",
   "execution_count": 14,
   "id": "ee9a9a3f",
   "metadata": {},
   "outputs": [
    {
     "data": {
      "text/plain": [
       "10"
      ]
     },
     "execution_count": 14,
     "metadata": {},
     "output_type": "execute_result"
    }
   ],
   "source": [
    "len(sepa_content)"
   ]
  },
  {
   "cell_type": "code",
   "execution_count": 15,
   "id": "1318dbb2",
   "metadata": {},
   "outputs": [
    {
     "name": "stdout",
     "output_type": "stream",
     "text": [
      "PMC8145448.NLM.34095440.Alzheimer's disease drug development pipeline: 2021. INTRODUCTION: The number of individuals worldwide with Alzheimer's disease (AD) is growing at a rapid rate. New treatments are urgently needed. We review the current pipeline of drugs in clinical trials for the treatment of AD. METHODS: We interrogated ClinicalTrials.gov, the federal registry of clinical trials to identify drugs in trials. RESULTS: There are 126 agents in 152 trials assessing new therapies for AD: 28 treatments in Phase 3 trials, 74 in Phase 2, and 24 in Phase 1. The majority of drugs in trials (82.5%) target the underlying biology of AD with the intent of disease modification; 10.3% are putative cognitive enhancing agents; and 7.1% are drugs being developed to reduce neuropsychiatric symptoms. DISCUSSION: This pipeline analysis shows that target biological processes are more diversified, biomarkers are more regularly used, and repurposed agents are being explored to determine their utility for the treatment of AD.\n"
     ]
    }
   ],
   "source": [
    "print(\" \".join(sepa_content[1]))"
   ]
  },
  {
   "cell_type": "code",
   "execution_count": 16,
   "id": "ce060497",
   "metadata": {},
   "outputs": [
    {
     "data": {
      "text/plain": [
       "['PMC8145448',\n",
       " 'NLM',\n",
       " '34095440',\n",
       " \"Alzheimer's disease drug development pipeline: 2021\",\n",
       " '']"
      ]
     },
     "execution_count": 16,
     "metadata": {},
     "output_type": "execute_result"
    }
   ],
   "source": [
    "sepa_content[1][0].split(\".\")"
   ]
  },
  {
   "cell_type": "code",
   "execution_count": 17,
   "id": "51745d70",
   "metadata": {},
   "outputs": [
    {
     "data": {
      "text/plain": [
       "['NLM',\n",
       " '34101788',\n",
       " \"Platform Trials to Expedite Drug Development in Alzheimer's Disease: A Report from the EU/US CTAD Task Force\",\n",
       " '']"
      ]
     },
     "execution_count": 17,
     "metadata": {},
     "output_type": "execute_result"
    }
   ],
   "source": [
    "sepa_content[2][0].split(\".\")"
   ]
  },
  {
   "cell_type": "code",
   "execution_count": 18,
   "id": "7bdfabda",
   "metadata": {},
   "outputs": [
    {
     "data": {
      "text/plain": [
       "['CCC:000637925000033',\n",
       " 'Glycoengineering artificial receptors for microglia to phagocytose A beta aggregates',\n",
       " '']"
      ]
     },
     "execution_count": 18,
     "metadata": {},
     "output_type": "execute_result"
    }
   ],
   "source": [
    "sepa_content[7][0].split(\".\")"
   ]
  },
  {
   "cell_type": "markdown",
   "id": "ce1f0ea3",
   "metadata": {},
   "source": [
    "### save as json"
   ]
  },
  {
   "cell_type": "code",
   "execution_count": 19,
   "id": "69e49263",
   "metadata": {},
   "outputs": [],
   "source": [
    "artitle_num = len(sepa_content)\n",
    "articles = list()\n",
    "article_names = list()\n",
    "\n",
    "for i in range(artitle_num):\n",
    "    art_dict = dict()\n",
    "    article = sepa_content[i]\n",
    "    src_title,abstract = article[0].split(\".\"),article[1]\n",
    "    \n",
    "    if src_title[0].startswith(\"PMC\"):   # have full text annotations in PTC\n",
    "        source_db = src_title[1]\n",
    "        source_id = src_title[2]\n",
    "        text = src_title[3]+\". \"+abstract\n",
    "    \n",
    "    elif src_title[0] == \"NLM\":\n",
    "        source_db = src_title[0]\n",
    "        source_id = src_title[1]\n",
    "        text = src_title[2]+\". \"+abstract\n",
    "    \n",
    "    elif src_title[0].startswith(\"CCC\"): \n",
    "        db_id = src_title[0].split(\":\")\n",
    "        source_db = db_id[0]\n",
    "        source_id = db_id[1]\n",
    "        text = src_title[1]+\". \"+abstract\n",
    "    \n",
    "    else:\n",
    "        print(\"Other database:\", src_title)\n",
    "        continue\n",
    "\n",
    "    art_dict[\"sourcedb\"] = source_db\n",
    "    art_dict[\"sourceid\"] = source_id\n",
    "    art_dict[\"text\"] = text  \n",
    "    \n",
    "    article_names.append(source_db+\"_\"+source_id)\n",
    "    articles.append(art_dict)\n",
    "    "
   ]
  },
  {
   "cell_type": "code",
   "execution_count": 20,
   "id": "c3bd2083",
   "metadata": {
    "scrolled": true
   },
   "outputs": [
    {
     "data": {
      "text/plain": [
       "[{'sourcedb': 'NLM',\n",
       "  'sourceid': '34060233',\n",
       "  'text': \"The BIN1 rs744373 Alzheimer's disease risk SNP is associated with faster Aβ-associated tau accumulation and cognitive decline. INTRODUCTION: The BIN1 rs744373 single nucleotide polymorphism (SNP) is a key genetic risk locus for Alzheimer's disease (AD) associated with tau pathology. Because tau typically accumulates in response to amyloid beta (Aβ), we tested whether BIN1 rs744373 accelerates Aβ-related tau accumulation. METHODS: We included two samples (Alzheimer's Disease Neuroimaging Initiative [ADNI], n\\xa0=\\xa0153; Biomarkers for Identifying Neurodegenerative Disorders Early and Reliably [BioFINDER], n\\xa0=\\xa063) with longitudinal (18) F-Flortaucipir positron emission tomography (PET), Aβ biomarkers, and longitudinal cognitive assessments. We assessed whether BIN1 rs744373 was associated with faster tau-PET accumulation at a given level of Aβ and whether faster BIN1 rs744373-associated tau-PET accumulation mediated cognitive decline. RESULTS: BIN1 rs744373 risk-allele carriers showed faster global tau-PET accumulation (ADNI/BioFINDER, P\\xa0<\\xa0.001/P\\xa0<\\xa0.001). We found significant Aβ by rs744373 interactions on global tau-PET change (ADNI: β/standard error [SE]\\xa0=\\xa00.42/0.14, P\\xa0=\\xa00.002; BioFINDER: β/SE\\xa0=\\xa0-0.35/0.15, P\\xa0=\\xa0.021), BIN1 risk-allele carriers showed accelerated tau-PET accumulation at higher Aβ levels. In ADNI, rs744373 effects on cognitive decline were mediated by faster global tau-PET accumulation (β/SE\\xa0=\\xa00.20/0.07, P\\xa0=\\xa0.005). DISCUSSION: BIN1-associated AD risk is potentially driven by accelerated tau accumulation in the face of Aβ.\"},\n",
       " {'sourcedb': 'NLM',\n",
       "  'sourceid': '34095440',\n",
       "  'text': \"Alzheimer's disease drug development pipeline: 2021. INTRODUCTION: The number of individuals worldwide with Alzheimer's disease (AD) is growing at a rapid rate. New treatments are urgently needed. We review the current pipeline of drugs in clinical trials for the treatment of AD. METHODS: We interrogated ClinicalTrials.gov, the federal registry of clinical trials to identify drugs in trials. RESULTS: There are 126 agents in 152 trials assessing new therapies for AD: 28 treatments in Phase 3 trials, 74 in Phase 2, and 24 in Phase 1. The majority of drugs in trials (82.5%) target the underlying biology of AD with the intent of disease modification; 10.3% are putative cognitive enhancing agents; and 7.1% are drugs being developed to reduce neuropsychiatric symptoms. DISCUSSION: This pipeline analysis shows that target biological processes are more diversified, biomarkers are more regularly used, and repurposed agents are being explored to determine their utility for the treatment of AD.\"},\n",
       " {'sourcedb': 'NLM',\n",
       "  'sourceid': '34101788',\n",
       "  'text': \"Platform Trials to Expedite Drug Development in Alzheimer's Disease: A Report from the EU/US CTAD Task Force. A diverse range of platforms has been established to increase the efficiency and speed of clinical trials for Alzheimer's disease (AD). These platforms enable parallel assessment of multiple therapeutics, treatment regimens, or participant groups; use uniform protocols and outcome measures; and may allow treatment arms to be added or dropped based on interim analyses of outcomes. The EU/US CTAD Task Force discussed the lessons learned from the Dominantly Inherited Alzheimer's Network Trials Unit (DIAN-TU) platform trial and the challenges addressed by other platform trials that have launched or are in the planning stages. The landscape of clinical trial platforms in the AD space includes those testing experimental therapies such as DIAN-TU, platforms designed to test multidomain interventions, and those designed to streamline trial recruitment by building trial-ready cohorts. The heterogeneity of the AD patient population, AD drugs, treatment regimens, and analytical methods complicates the design and execution of platform trials, yet Task Force members concluded that platform trials are essential to advance the search for effective AD treatments, including combination therapies.\"},\n",
       " {'sourcedb': 'NLM',\n",
       "  'sourceid': '33730588',\n",
       "  'text': \"The AD tau core spontaneously self-assembles and recruits full-length tau to filaments. Tau accumulation is a major pathological hallmark of Alzheimer's disease (AD) and other tauopathies, but the mechanism(s) of tau aggregation remains unclear. Taking advantage of the identification of tau filament cores by cryoelectron microscopy, we demonstrate that the AD tau core possesses the intrinsic ability to spontaneously aggregate in the absence of an inducer, with antibodies generated against AD tau core filaments detecting AD tau pathology. The AD tau core also drives aggregation of full-length wild-type tau, increases seeding potential, and templates abnormal forms of tau present in brain homogenates and antemortem cerebrospinal fluid (CSF) from patients with AD in an ultrasensitive real-time quaking-induced conversion (QuIC) assay. Finally, we show that the filament cores in corticobasal degeneration (CBD) and Pick's disease (PiD) similarly assemble into filaments under physiological conditions. These results document an approach to modeling tau aggregation and have significant implications for in\\xa0vivo investigation of tau transmission and biomarker development.\"},\n",
       " {'sourcedb': 'NLM',\n",
       "  'sourceid': '33988687',\n",
       "  'text': \"Alzheimer mutant speeds APP transport. APPS198P segregates with rare familial forms of Alzheimer's disease and resides within exon 5, unlike 27 other mutations that reside in exons 16 or 17. In this issue, Zhang et al. (2021. J. Exp. Med.https://doi.org/10.1084/jem.20210313) show that the brains of APPS198P transgenic mice accumulate excess levels of Aβ. In cultured cells, APPS198P undergoes accelerated ER folding, leading to early arrival in late vesicular compartments, thereby enhancing generation of Aβ.\"},\n",
       " {'sourcedb': 'NLM',\n",
       "  'sourceid': '33958804',\n",
       "  'text': \"Neuronal ApoE upregulates MHC-I expression to drive selective neurodegeneration in Alzheimer's disease. Selective neurodegeneration is a critical causal factor in Alzheimer's disease (AD); however, the mechanisms that lead some neurons to perish, whereas others remain resilient, are unknown. We sought potential drivers of this selective vulnerability using single-nucleus RNA sequencing and discovered that ApoE expression level is a substantial driver of neuronal variability. Strikingly, neuronal expression of ApoE-which has a robust genetic linkage to AD-correlated strongly, on a cell-by-cell basis, with immune response pathways in neurons in the brains of wild-type mice, human ApoE knock-in mice and humans with or without AD. Elimination or over-expression of neuronal ApoE revealed a causal relationship among ApoE expression, neuronal MHC-I expression, tau pathology and neurodegeneration. Functional reduction of MHC-I ameliorated tau pathology in ApoE4-expressing primary neurons and in mouse hippocampi expressing pathological tau. These findings suggest a mechanism linking neuronal ApoE expression to MHC-I expression and, subsequently, to tau pathology and selective neurodegeneration.\"},\n",
       " {'sourcedb': 'NLM',\n",
       "  'sourceid': '31721178',\n",
       "  'text': \"Tau (297-391) forms filaments that structurally mimic the core of paired helical filaments in Alzheimer's disease brain. The constituent paired helical filaments (PHFs) in neurofibrillary tangles are insoluble intracellular deposits central to the development of Alzheimer's disease (AD) and other tauopathies. Full-length tau requires the addition of anionic cofactors such as heparin to enhance assembly. We have shown that a fragment from the proteolytically stable core of the PHF, tau 297-391 known as 'dGAE', spontaneously forms cross-β-containing PHFs and straight filaments under physiological conditions. Here, we have analysed and compared the structures of the filaments formed by dGAE in\\xa0vitro with those deposited in the brains of individuals diagnosed with AD. We show that dGAE forms PHFs that share a macromolecular structure similar to those found in brain tissue. Thus, dGAEs may serve as a model system for studying core domain assembly and for screening for inhibitors of tau aggregation.\"},\n",
       " {'sourcedb': 'CCC',\n",
       "  'sourceid': '000637925000033',\n",
       "  'text': 'Glycoengineering artificial receptors for microglia to phagocytose A beta aggregates. Oligomeric and fibrillar amyloid-beta (A beta) are principally internalized via receptor-mediated endocytosis (RME) by microglia, the main scavenger of A beta in the brain. Nevertheless, the inflammatory cascade will be evoked after vast A beta aggregate binding to pattern recognition receptors on the cell membrane, which then significantly decreases the expression of these receptors and further deteriorate A beta deposition. This vicious circle will weaken the ability of microglia for A beta elimination. Herein, a combination of metabolic glycoengineering and self-triggered click chemistry is utilized to engineer microglial membranes with ThS as artificial A beta receptors to promote microglia to phagocytose A beta aggregates. Additionally, to circumvent the undesirable immune response during the process of the bioorthogonal chemistry reaction and A beta-microglial interaction, Mn-porphyrin metal-organic frameworks (Mn-MOFs) with superoxide dismutase (SOD) and catalase (CAT) mimic activity are employed to carry N-azidoacetylmannosamine (AcManNAz) and eradicate over-expressed reactive oxygen species (ROSs). The artificial A beta receptors independent of a signal pathway involved in immunomodulation as well as Mn-MOFs with antioxidant properties can synergistically promote the phagocytosis and clearance of A beta with significantly enhanced activity and negligible adverse effects. The present study will not only provide valuable insight into the rational design of the microglial surface engineering strategy via bioorthogonal chemistry, but also hold great potential for other disease intervention associated with receptor starvation.'},\n",
       " {'sourcedb': 'CCC',\n",
       "  'sourceid': '000647663200001',\n",
       "  'text': 'Impairment of visual cortical plasticity by amyloid-beta species. Introduction: A variety of transgenic and knock-in mice that express mutant alleles of Amyloid precursor protein (APP) have been used to model the effects of amyloid-beta (A?) on circuit function in Alzheimer?s disease (AD); however phenotypes described in these mice may be affected by expression of mutant APP or proteolytic cleavage products independent of A?. In addition, the effects of mutant APP expression are attributed to elevated expression of the amyloidogenic, 42-amino acid-long species of A? (A?42) associated with amyloid plaque accumulation in AD, though elevated concentrations of A?40, an A? species produced with normal synaptic activity, may also affect neural function. Methods: To explore the effects of elevated expression of A? on synaptic function in vivo, we assessed visual system plasticity in transgenic mice that express and secrete A? throughout the brain in the absence of APP overexpression. Transgenic mice that express either A?40 or A?42 were assayed for their ability to appropriately demonstrate ocular dominance plasticity following monocular deprivation. Results: Using two complementary approaches to measure the plastic response to monocular deprivation, we find that male and female mice that express either 40- or 42-amino acid?long A? species demonstrate a plasticity defect comparable to that elicited in transgenic mice that express mutant alleles of APP and Presenilin 1 (APP/PS1 mice). Conclusions: These data support the hypothesis that mutant APP-driven plasticity impairment in mouse models of AD is mediated by production and accumulation of A?. Moreover, these findings suggest that soluble species of A? are capable of modulating synaptic plasticity, likely independent of any aggregation. These findings may have implications for the role of soluble species of A? in both development and disease settings.'},\n",
       " {'sourcedb': 'CCC',\n",
       "  'sourceid': '000653155500009',\n",
       "  'text': \"An excellent electrochemical aptasensor for amyloid-beta oligomers based on a triple-helix aptamer switch via target-triggered signal transduction DNA displacement events. An excellent aptasensor for electrochemical detection of amyloid-beta oligomers (A beta Os) at trace levels was fabricated based on a triple-helix aptamer switch (THAS) via target-triggered signal transduction DNA displacement events. Specifically, a single-stranded anti-A beta O aptamer (Apt) carrying two symmetrical arm segments was first attached via Au-S binding to an Au electrode. Gold nanoparticle (GNP)-tagged signal transduction probes (GNP-STPs) were simultaneously hybridized with the two arm segments of the Apt, and a rigid THAS was formed on the Au electrode. Compared to the conventional hybrid, the number of GNPs on the Au electrode increased significantly with the THAS, effectively improving the stability of the Apt to avoid lodging. Trithiocyanuric acid (TA) was utilized to further gather the GNPs and form network-like TA/GNPs. As a result, the differential pulse voltammetry (DPV) response of GNPs was clearly enhanced. When A beta Os were present, target-triggered signal transduction DNA displacement events were carried out from THAS via the reaction of the Apt with the A beta Os, which caused the GNP-STP to dissociate from the Au electrode, and thus a significant reduction in the DPV response was observed. The assay was able to sensitively detect trace A beta Os by monitoring the A beta O-controlled DPV response change. It exhibited a wide linear range from 1 fM to 10 pM with a low detection limit of 0.5 fM, and was successfully employed for the determination of A beta Os in 20 serum samples, with good recovery. Moreover, the developed assay can provide a sensitive and selective platform for many studies or investigations related to Alzheimer's disease (AD) monitoring and treatment.\"}]"
      ]
     },
     "execution_count": 20,
     "metadata": {},
     "output_type": "execute_result"
    }
   ],
   "source": [
    "articles"
   ]
  },
  {
   "cell_type": "code",
   "execution_count": 21,
   "id": "7a9cf16f",
   "metadata": {},
   "outputs": [],
   "source": [
    "# with open(output_path+\"ten_recent.json\", 'w') as json_file:\n",
    "#     json.dump(articles, json_file, indent = 4)"
   ]
  },
  {
   "cell_type": "code",
   "execution_count": 22,
   "id": "4cb60cee",
   "metadata": {},
   "outputs": [],
   "source": [
    "# with open(output_path+\"ten_recent.json\", 'rb') as json_file:\n",
    "#     data = json.load(json_file)"
   ]
  },
  {
   "cell_type": "code",
   "execution_count": null,
   "id": "4de1e640",
   "metadata": {},
   "outputs": [],
   "source": []
  },
  {
   "cell_type": "markdown",
   "id": "08516cfd",
   "metadata": {},
   "source": [
    "### save as PubTator"
   ]
  },
  {
   "cell_type": "code",
   "execution_count": 23,
   "id": "bd1fbbf2",
   "metadata": {},
   "outputs": [],
   "source": [
    "with open(\"/Users/yidesdo21/Projects/ptc/Code.Python/input/ex.PubTator\") as f:\n",
    "# with open(path) as f:\n",
    "#     contents = f.read()\n",
    "    contents = f.read()"
   ]
  },
  {
   "cell_type": "code",
   "execution_count": 24,
   "id": "7b3b3236",
   "metadata": {
    "scrolled": false
   },
   "outputs": [
    {
     "data": {
      "text/plain": [
       "str"
      ]
     },
     "execution_count": 24,
     "metadata": {},
     "output_type": "execute_result"
    }
   ],
   "source": [
    "type(contents)"
   ]
  },
  {
   "cell_type": "code",
   "execution_count": 25,
   "id": "0dcf8393",
   "metadata": {
    "scrolled": true
   },
   "outputs": [
    {
     "data": {
      "text/plain": [
       "'10617681|t|Possible role of valvular serotonin 5-HT(2B) receptors in the cardiopathy associated with fenfluramine.\\n10617681|a|Dexfenfluramine was approved in the United States for long-term use as an appetite suppressant until it was reported to be associated with valvular heart disease. The valvular changes (myofibroblast proliferation) are histopathologically indistinguishable from those observed in carcinoid disease or after long-term exposure to 5-hydroxytryptamine (5-HT)(2)-preferring ergot drugs (ergotamine, methysergide). 5-HT(2) receptor stimulation is known to cause fibroblast mitogenesis, which could contribute to this lesion. To elucidate the mechanism of \"fen-phen\"-associated valvular lesions, we examined the interaction of fenfluramine and its metabolite norfenfluramine with 5-HT(2) receptor subtypes and examined the expression of these receptors in human and porcine heart valves. Fenfluramine binds weakly to 5-HT(2A), 5-HT(2B), and 5-HT(2C) receptors. In contrast, norfenfluramine exhibited high affinity for 5-HT(2B) and 5-HT(2C) receptors and more moderate affinity for 5-HT(2A) receptors. In cells expressing recombinant 5-HT(2B) receptors, norfenfluramine potently stimulated the hydrolysis of inositol phosphates, increased intracellular Ca(2+), and activated the mitogen-activated protein kinase cascade, the latter of which has been linked to mitogenic actions of the 5-HT(2B) receptor. The level of 5-HT(2B) and 5-HT(2A) receptor transcripts in heart valves was at least 300-fold higher than the levels of 5-HT(2C) receptor transcript, which were barely detectable. We propose that preferential stimulation of valvular 5-HT(2B) receptors by norfenfluramine, ergot drugs, or 5-HT released from carcinoid tumors (with or without accompanying 5-HT(2A) receptor activation) may contribute to valvular fibroplasia in humans.\\n\\n20921890|t|An open-label tolerability study of BL-1020 antipsychotic: a novel gamma aminobutyric acid ester of perphenazine.\\n20921890|a|BACKGROUND: BL-1020, a novel gamma aminobutyric acid (GABA) ester of perphenazine, is a new oral antipsychotic with a strong affinity for dopamine and serotonin receptors. Unlike first- and second-generation antipsychotics, it has agonist activity at GABA(A). OBJECTIVE: This is the first study to examine tolerability and safety of BL-1020 in schizophrenia. METHODS: This was a phase-II, open-label, multicenter, 6-week study treating patients (n = 36) with chronic schizophrenia. Dosing started at 20 mg/d and increased over 7 days to 40 mg/d. Weekly assessments were conducted. RESULTS: All but 1 patient was titrated to 30 mg/d at day 4; on day 7, 30 were titrated to 40 mg/d. Four patients discontinued the study prematurely. There was no clinically relevant increase in vital signs, sedation, dizziness, or other central nervous system effects or electrocardiogram or laboratory abnormalities and a small increase in weight. Ten patients experienced extrapyramidal symptoms (EPS) requiring treatment with an anticholinergic; 4 patients were unable to reach maximum dose because of EPS. Extrapyramidal Symptom Rating Scale did not indicate clinically significant changes in EPS. The most common adverse event was insomnia (6 patients); other frequent adverse effects (all n = 3) were extrapyramidal disorder, headache, parkinsonism, tremor, and hyperprolactinemia. There was improvement on Positive and Negative Syndrome Scale and Clinical Global Impression of Change with 22 patients showing at least 20% decrease by end point on Positive and Negative Syndrome Scale and 31 patients showing at least minimal improvement on Clinical Global Impression of Change. CONCLUSIONS: These data suggest that 20 to 40 mg/d of BL-1020 is associated with clinically relevant improvement of psychosis with no worsening of EPS and support further testing in randomized controlled trials.\\n\\n'"
      ]
     },
     "execution_count": 25,
     "metadata": {},
     "output_type": "execute_result"
    }
   ],
   "source": [
    "contents"
   ]
  },
  {
   "cell_type": "code",
   "execution_count": 26,
   "id": "93fa0800",
   "metadata": {},
   "outputs": [],
   "source": [
    "artitle_num = len(sepa_content)\n",
    "txts = \"\"\n",
    "\n",
    "for i in range(artitle_num):\n",
    "    article = sepa_content[i]\n",
    "    src_title,abstract = article[0].split(\".\"),article[1]\n",
    "\n",
    "    if src_title[0].startswith(\"PMC\"):   # have full text annotations in PTC\n",
    "        source_id = src_title[2]\n",
    "        title = src_title[3]\n",
    "        \n",
    "    elif src_title[0] == \"NLM\":\n",
    "        source_id = src_title[1]\n",
    "        title = src_title[2] \n",
    "    \n",
    "    elif src_title[0].startswith(\"CCC\"): \n",
    "        db_id = src_title[0].split(\":\")\n",
    "        source_id = db_id[1]\n",
    "        title = src_title[1]\n",
    "    \n",
    "    else:\n",
    "        print(\"Other database:\", src_title)\n",
    "        break\n",
    "#         continue\n",
    "    \n",
    "#     print(article)\n",
    "#     print(source_id, title)\n",
    "#     print(\"--------\")\n",
    "    txts += source_id+\"|t|\"+title+\"\\n\"+source_id+\"|a|\"+abstract+\"\\n\"+\"\\n\"\n",
    "    \n",
    "    "
   ]
  },
  {
   "cell_type": "code",
   "execution_count": 21,
   "id": "2dff39fc",
   "metadata": {},
   "outputs": [],
   "source": [
    "f = open(output_path+\"ten_recent.PubTator\", \"w\")\n",
    "f.write(txts)\n",
    "f.close()"
   ]
  },
  {
   "cell_type": "code",
   "execution_count": null,
   "id": "8f102294",
   "metadata": {},
   "outputs": [],
   "source": []
  },
  {
   "cell_type": "code",
   "execution_count": null,
   "id": "095930a8",
   "metadata": {},
   "outputs": [],
   "source": []
  },
  {
   "cell_type": "code",
   "execution_count": null,
   "id": "eeeb48e3",
   "metadata": {},
   "outputs": [],
   "source": []
  },
  {
   "cell_type": "markdown",
   "id": "b468c995",
   "metadata": {},
   "source": [
    "### Goal for NIO: turn the txt format articles to separated txt articles"
   ]
  },
  {
   "cell_type": "code",
   "execution_count": 27,
   "id": "9e913ec6",
   "metadata": {},
   "outputs": [],
   "source": [
    "nio_path = \"/Users/yidesdo21/Projects/inputs/articles/04_ptc_ten_recent/articles-txt-format/\""
   ]
  },
  {
   "cell_type": "code",
   "execution_count": 28,
   "id": "76da80db",
   "metadata": {},
   "outputs": [
    {
     "data": {
      "text/plain": [
       "['NLM_34060233',\n",
       " 'NLM_34095440',\n",
       " 'NLM_34101788',\n",
       " 'NLM_33730588',\n",
       " 'NLM_33988687',\n",
       " 'NLM_33958804',\n",
       " 'NLM_31721178',\n",
       " 'CCC_000637925000033',\n",
       " 'CCC_000647663200001',\n",
       " 'CCC_000653155500009']"
      ]
     },
     "execution_count": 28,
     "metadata": {},
     "output_type": "execute_result"
    }
   ],
   "source": [
    "article_names"
   ]
  },
  {
   "cell_type": "code",
   "execution_count": 44,
   "id": "d837ec9d",
   "metadata": {},
   "outputs": [],
   "source": [
    "for i in range(len(sepa_content)):\n",
    "    file_name = article_names[i]\n",
    "    with open(nio_path+file_name+\".txt\", 'w') as f:\n",
    "        content = sepa_content[i]\n",
    "        title = content[0].split(\".\")[-2]\n",
    "        abstract = content[1]\n",
    "        f.write(title+\".\"+abstract)"
   ]
  },
  {
   "cell_type": "code",
   "execution_count": null,
   "id": "d8304fda",
   "metadata": {},
   "outputs": [],
   "source": []
  },
  {
   "cell_type": "code",
   "execution_count": null,
   "id": "35828c28",
   "metadata": {},
   "outputs": [],
   "source": []
  }
 ],
 "metadata": {
  "kernelspec": {
   "display_name": "Python 3",
   "language": "python",
   "name": "python3"
  },
  "language_info": {
   "codemirror_mode": {
    "name": "ipython",
    "version": 3
   },
   "file_extension": ".py",
   "mimetype": "text/x-python",
   "name": "python",
   "nbconvert_exporter": "python",
   "pygments_lexer": "ipython3",
   "version": "3.8.8"
  }
 },
 "nbformat": 4,
 "nbformat_minor": 5
}

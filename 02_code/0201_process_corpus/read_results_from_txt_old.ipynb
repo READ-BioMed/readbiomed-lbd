{
 "cells": [
  {
   "cell_type": "code",
   "execution_count": 1,
   "id": "d38ee3b1",
   "metadata": {},
   "outputs": [],
   "source": [
    "path = \"/Users/yidesdo21/Projects/inputs/articles-txt-format/\""
   ]
  },
  {
   "cell_type": "code",
   "execution_count": 8,
   "id": "334ad639",
   "metadata": {},
   "outputs": [],
   "source": [
    "article_id = 173349"
   ]
  },
  {
   "cell_type": "code",
   "execution_count": 9,
   "id": "d06fdf35",
   "metadata": {},
   "outputs": [],
   "source": [
    "with open(path+str(article_id)+\".txt\") as f:\n",
    "    article = f.readlines()"
   ]
  },
  {
   "cell_type": "code",
   "execution_count": 10,
   "id": "b98bfcda",
   "metadata": {},
   "outputs": [
    {
     "data": {
      "text/plain": [
       "['Unno, K., et al. (2020). \"Mutation in Sodium-Glucose Cotransporter 2 Results in Down-Regulation of Amyloid Beta (A4) Precursor-Like Protein 1 in Young Age, Which May Lead to Poor Memory Retention in Old Age.\" International Journal of Molecular Sciences 21(15): 5579-5579. Senescence-accelerated mouse prone 10 (SAMP10) exhibits cerebral atrophy and depression-like behavior. A line of SAMP10 with spontaneous mutation in theSlc5a2gene encoding the sodium-glucose cotransporter (SGLT) 2 was named SAMP10/TaSlc-Slc5a2(slc)(SAMP10-Delta Sglt2) and was identified as a renal diabetes model. In contrast, a line of SAMP10 with no mutation in SGLT2 (SAMP10/TaIdrSlc, SAMP10(+)) was recently established under a specific pathogen-free condition. Here, we examined the mutation effect inSGLT2on brain function and longevity. No differences were found in the survival curve, depression-like behavior, and age-related brain atrophy between SAMP10-Delta Sglt2 and SAMP10(+). However, memory retention was lower in SAMP10-Delta Sglt2 mice than SAMP10(+). Amyloid beta (A4) precursor-like protein 1 (Aplp1) expression was significantly lower in the hippocampus of SAMP10-Delta SGLT2 than in SAMP10(+) at 2 months of age, but was similar at 12 months of age. CaM kinase-like vesicle association (Camkv) expression was remarkably lower in SAMP10(+). These genes have been reported to be involved in dendrite function. Amyloid precursor proteins have been reported to involve in maintaining homeostasis of glucose and insulin. These results suggest that mutation inSGLT2results in down-regulation ofAplp1in young age, which can lead to poor memory retention in old age.']"
      ]
     },
     "execution_count": 10,
     "metadata": {},
     "output_type": "execute_result"
    }
   ],
   "source": [
    "article"
   ]
  },
  {
   "cell_type": "code",
   "execution_count": 15,
   "id": "ed4cb8f9",
   "metadata": {},
   "outputs": [
    {
     "data": {
      "text/plain": [
       "'genes'"
      ]
     },
     "execution_count": 15,
     "metadata": {},
     "output_type": "execute_result"
    }
   ],
   "source": [
    "article[0][1341:1346]"
   ]
  },
  {
   "cell_type": "code",
   "execution_count": 7,
   "id": "7a6b753d",
   "metadata": {},
   "outputs": [
    {
     "data": {
      "text/plain": [
       "'model'"
      ]
     },
     "execution_count": 7,
     "metadata": {},
     "output_type": "execute_result"
    }
   ],
   "source": [
    "article[0][725:730]"
   ]
  },
  {
   "cell_type": "code",
   "execution_count": null,
   "id": "568d4c93",
   "metadata": {},
   "outputs": [],
   "source": []
  },
  {
   "cell_type": "code",
   "execution_count": null,
   "id": "ffe65ca7",
   "metadata": {},
   "outputs": [],
   "source": []
  },
  {
   "cell_type": "code",
   "execution_count": null,
   "id": "30e35a14",
   "metadata": {},
   "outputs": [],
   "source": []
  }
 ],
 "metadata": {
  "kernelspec": {
   "display_name": "Python 3",
   "language": "python",
   "name": "python3"
  },
  "language_info": {
   "codemirror_mode": {
    "name": "ipython",
    "version": 3
   },
   "file_extension": ".py",
   "mimetype": "text/x-python",
   "name": "python",
   "nbconvert_exporter": "python",
   "pygments_lexer": "ipython3",
   "version": "3.8.8"
  }
 },
 "nbformat": 4,
 "nbformat_minor": 5
}

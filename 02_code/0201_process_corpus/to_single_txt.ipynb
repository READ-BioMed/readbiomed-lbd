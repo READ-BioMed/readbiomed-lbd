{
 "cells": [
  {
   "cell_type": "code",
   "execution_count": 1,
   "id": "e3a8f0be",
   "metadata": {},
   "outputs": [],
   "source": [
    "path = \"/Users/yidesdo21/Projects/inputs/AD bibliography-SavedTK-Converted.txt\"\n",
    "folder_path = \"/Users/yidesdo21/Projects/inputs/articles-txt-format/\""
   ]
  },
  {
   "cell_type": "code",
   "execution_count": 12,
   "id": "72d8e19f",
   "metadata": {},
   "outputs": [],
   "source": [
    "from numpy.random import seed\n",
    "from numpy.random import randint"
   ]
  },
  {
   "cell_type": "code",
   "execution_count": 2,
   "id": "07ade6fc",
   "metadata": {},
   "outputs": [],
   "source": [
    "with open(path) as f:\n",
    "    contents = f.read().replace(\"\\t\", \"\").splitlines()\n",
    "#     contents = f.readlines()"
   ]
  },
  {
   "cell_type": "code",
   "execution_count": 3,
   "id": "d80a5d50",
   "metadata": {},
   "outputs": [
    {
     "data": {
      "text/plain": [
       "30"
      ]
     },
     "execution_count": 3,
     "metadata": {},
     "output_type": "execute_result"
    }
   ],
   "source": [
    "len(contents)"
   ]
  },
  {
   "cell_type": "code",
   "execution_count": 4,
   "id": "1fd13e2c",
   "metadata": {},
   "outputs": [
    {
     "data": {
      "text/plain": [
       "['\\ufeffYu, J. M., et al. (2021). \"Akt and calcium-permeable AMPA receptor are involved in the effect of pinoresinol on amyloid beta-induced synaptic plasticity and memory deficits.\" Biochemical Pharmacology 184: 14366-14366.',\n",
       " \"Alzheimer's disease (AD) is one of the most prevalent neurodegenerative disorders characterized by memory deficits. Although no drug has given promising results, synaptic dysfunction-modulating agents might be considered potential candidates for alleviating this disorder. Pinoresinol, a lignan found in Forsythia suspensa, is a memory-enhancing agent with excitatory synaptic activation. In the present study, we tested whether pinoresinol reduces learning and memory and excitatory synaptic deficits in an amyloid beta (A beta)-induced AD-like mouse model. Pinoresinol enhanced hippocampal long-term potentiation (LTP) through calcium-permeable AMPA receptor, which was mediated by Akt activation. Moreover, pinoresinol ameliorated LTP deficits in amyloid beta (A beta)treated hippocampal slices via Akt signaling. Oral administration of pinoresinol ameliorated A beta-induced memory deficits without sensory dysfunction. Moreover, AD-like pathology, including neuroinflammation and synaptic deficit, were ameliorated by pinoresinol administration. Collectively, pinoresinol may be a good candidate for AD therapy by modulating synaptic functions.\",\n",
       " '',\n",
       " 'Oliveira, M. M., et al. (2021). \"Correction of eIF2-dependent defects in brain protein synthesis, synaptic plasticity, and memory in mouse models of Alzheimer\\'s disease.\" Sci Signal 14(668).',\n",
       " \"Neuronal protein synthesis is essential for long-term memory consolidation, and its dysregulation is implicated in various neurodegenerative disorders, including Alzheimer's disease (AD). Cellular stress triggers the activation of protein kinases that converge on the phosphorylation of eukaryotic translation initiation factor 2α (eIF2α), which attenuates mRNA translation. This translational inhibition is one aspect of the integrated stress response (ISR). We found that postmortem brain tissue from AD patients showed increased phosphorylation of eIF2α and reduced abundance of eIF2B, another key component of the translation initiation complex. Systemic administration of the small-molecule compound ISRIB (which blocks the ISR downstream of phosphorylated eIF2α) rescued protein synthesis in the hippocampus, measures of synaptic plasticity, and performance on memory-associated behavior tests in wild-type mice cotreated with salubrinal (which inhibits translation by inducing eIF2α phosphorylation) and in both β-amyloid-treated and transgenic AD model mice. Thus, attenuating the ISR downstream of phosphorylated eIF2α may restore hippocampal protein synthesis and delay cognitive decline in AD patients.\",\n",
       " '',\n",
       " 'Hanseeuw, B. J., et al. (2021). \"Defining a Centiloid scale threshold predicting long-term progression to dementia in patients attending the memory clinic: an F-18 flutemetamol amyloid PET study.\" European Journal of Nuclear Medicine and Molecular Imaging 48(1): 302-310.',\n",
       " 'Purpose To evaluate cerebral amyloid-beta(A beta) pathology in older adults with cognitive complaints, visual assessment of PET images is approved as the routine method for image interpretation. In research studies however, A beta-PET semi-quantitative measures are associated with greater risk of progression to dementia; but until recently, these measures lacked standardization. Therefore, the Centiloid scale, providing standardized A beta-PET semi-quantitation, was recently validated. We aimed to determine the predictive values of visual assessments and Centiloids in non-demented patients, using long-term progression to dementia as our standard of truth. Methods One hundred sixty non-demented participants (age, 54-86) were enrolled in a monocentric [F-18] flutemetamol A beta-PET study. Flutemetamol images were interpreted visually following the manufacturers recommendations. SUVr values were converted to the Centiloid scale using the GAAIN guidelines. Ninety-eight persons were followed until dementia diagnosis or were clinically stable for a median of 6 years (min = 4.0; max = 8.0). Twenty-five patients with short follow-up (median = 2.0 years; min = 0.8; max = 3.9) and 37 patients with no follow-up were excluded. We computed ROC curves predicting subsequent dementia using baseline PET data and calculated negative (NPV) and positive (PPV) predictive values. Results In the 98 participants with long follow-up, Centiloid = 26 provided the highest overall predictive value = 87% (NPV = 85%, PPV = 88%). Visual assessment corresponded to Centiloid = 40, which predicted dementia with an overall predictive value = 86% (NPV = 81%, PPV = 92%). Inclusion of the 25 patients who only had a 2-year follow-up decreased the PPV = 67% (NPV = 88%), reflecting the many positive cases that did not progress to dementia after short follow-ups. Conclusion A Centiloid threshold = 26 optimally predicts progression to dementia 6 years after PET. Visual assessment provides similar predictive value, with higher specificity and lower sensitivity.',\n",
       " '',\n",
       " 'Younan, D., et al. (2020). \"Particulate matter and episodic memory decline mediated by early neuroanatomic biomarkers of Alzheimer\\'s disease.\" Brain 143(1): 289-302.',\n",
       " \"Evidence suggests exposure to particulate matter with aerodynamic diameter <2.5 μm (PM2.5) may increase the risk for Alzheimer's disease and related dementias. Whether PM2.5 alters brain structure and accelerates the preclinical neuropsychological processes remains unknown. Early decline of episodic memory is detectable in preclinical Alzheimer's disease. Therefore, we conducted a longitudinal study to examine whether PM2.5 affects the episodic memory decline, and also explored the potential mediating role of increased neuroanatomic risk of Alzheimer's disease associated with exposure. Participants included older females (n = 998; aged 73-87) enrolled in both the Women's Health Initiative Study of Cognitive Aging and the Women's Health Initiative Memory Study of Magnetic Resonance Imaging, with annual (1999-2010) episodic memory assessment by the California Verbal Learning Test, including measures of immediate free recall/new learning (List A Trials 1-3; List B) and delayed free recall (short- and long-delay), and up to two brain scans (MRI-1: 2005-06; MRI-2: 2009-10). Subjects were assigned Alzheimer's disease pattern similarity scores (a brain-MRI measured neuroanatomical risk for Alzheimer's disease), developed by supervised machine learning and validated with data from the Alzheimer's Disease Neuroimaging Initiative. Based on residential histories and environmental data on air monitoring and simulated atmospheric chemistry, we used a spatiotemporal model to estimate 3-year average PM2.5 exposure preceding MRI-1. In multilevel structural equation models, PM2.5 was associated with greater declines in immediate recall and new learning, but no association was found with decline in delayed-recall or composite scores. For each interquartile increment (2.81 μg/m3) of PM2.5, the annual decline rate was significantly accelerated by 19.3% [95% confidence interval (CI) = 1.9% to 36.2%] for Trials 1-3 and 14.8% (4.4% to 24.9%) for List B performance, adjusting for multiple potential confounders. Long-term PM2.5 exposure was associated with increased Alzheimer's disease pattern similarity scores, which accounted for 22.6% (95% CI: 1% to 68.9%) and 10.7% (95% CI: 1.0% to 30.3%) of the total adverse PM2.5 effects on Trials 1-3 and List B, respectively. The observed associations remained after excluding incident cases of dementia and stroke during the follow-up, or further adjusting for small-vessel ischaemic disease volumes. Our findings illustrate the continuum of PM2.5 neurotoxicity that contributes to early decline of immediate free recall/new learning at the preclinical stage, which is mediated by progressive atrophy of grey matter indicative of increased Alzheimer's disease risk, independent of cerebrovascular damage.\",\n",
       " '',\n",
       " 'Yi, J. H., et al. (2020). \"REDD1 Is Involved in Amyloid beta-Induced Synaptic Dysfunction and Memory Impairment.\" International Journal of Molecular Sciences 21(24): 9482-9482.',\n",
       " \"Alzheimer's disease (AD) is a neurodegenerative disease characterized by neurological dysfunction, including memory impairment, attributed to the accumulation of amyloid beta (A beta) in the brain. Although several studies reported possible mechanisms involved in A beta pathology, much remains unknown. Previous findings suggested that a protein regulated in development and DNA damage response 1 (REDD1), a stress-coping regulator, is an A beta-responsive gene involved in A beta cytotoxicity. However, we still do not know how A beta increases the level of REDD1 and whether REDD1 mediates A beta-induced synaptic dysfunction. To elucidate this, we examined the effect of A beta on REDD1-expression using acute hippocampal slices from mice, and the effect of REDD1 short hairpin RNA (shRNA) on A beta-induced synaptic dysfunction. Lastly, we observed the effect of REDD1 shRNA on memory deficit in an AD-like mouse model. Through the experiments, we found that A beta-incubated acute hippocampal slices showed increased REDD1 levels. Moreover, A beta injection into the lateral ventricle increased REDD1 levels in the hippocampus. Anisomycin, but not actinomycin D, blocked A beta-induced increase in REDD1 levels in the acute hippocampal slices, suggesting that A beta may increase REDD1 translation rather than transcription. A beta activated Fyn/ERK/S6 cascade, and inhibitors for Fyn/ERK/S6 or mGluR5 blocked A beta-induced REDD1 upregulation. REDD1 inducer, a transcriptional activator, and A beta blocked synaptic plasticity in the acute hippocampal slices. REDD1 inducer inhibited mTOR/Akt signaling. REDD1 shRNA blocked A beta-induced synaptic deficits. REDD1 shRNA also blocked A beta-induced memory deficits in passive-avoidance and object-recognition tests. Collectively, these results demonstrate that REDD1 participates in A beta pathology and could be a target for AD therapy.\",\n",
       " '',\n",
       " 'Wang, X. C., et al. (2020). \"Astragaloside IV prevents A beta(1-42) oligomers-induced memory impairment and hippocampal cell apoptosis by promoting PPAR gamma/BDNF signaling pathway.\" Brain Research 1747: 47041-47041.',\n",
       " \"Astragaloside IV (AS-IV), a natural product derived from Radix Astragali (Astragalus membranaceus), is beneficial for the treatment of Alzheimer's disease (AD), but the mechanisms underlying this benefit are not completely understood. Peroxisome proliferator-activated receptor gamma (PPAR gamma) and brain-derived neurotrophic factor (BDNF) are potential therapeutic targets for AD. In this study, we found that amyloid beta protein fragment 1-42 oligomers (A beta O) suppressed BDNF and PPAR gamma expression, and inhibited tyrosine receptor kinase B (TrkB) phosphorylation in cultured hippocampal neurons; these changes were ameliorated by treatment with AS-IV. Inhibition of PPAR gamma by genetic and pharmacological methods also blocked the effect of AS-IV on BDNF expression in A beta O-treated cells. Importantly, exogenous BDNF protected against neurotoxicity and apoptosis induced by A beta O, whereas inhibition of PPAR gamma reversed protective effects of AS-IV against these outcomes. In vivo data further revealed that AS-IV improved A beta O-induced memory impairment and reduced apoptosis of hippocampal neurons. Moreover, AS-IV suppressed the A beta O-induced reduction in BDNF by promoting PPAR gamma activation in the hippocampus. Taken together, these results indicate that AS-IV prevents A beta O-induced memory impairment and hippocampal neuronal apoptosis, probably by promoting the PPAR gamma/BDNF signaling pathway.\",\n",
       " '',\n",
       " 'Vergallo, A., et al. (2020). \"Association of plasma YKL-40 with brain amyloid-beta levels, memory performance, and sex in subjective memory complainers.\" Neurobiology of Aging 96: 22-32.',\n",
       " \"Neuroinflammation, a key early pathomechanistic alteration of Alzheimer's disease, may represent either a detrimental or a compensatory mechanism or both (according to the disease stage). YKL-40, a glycoprotein highly expressed in differentiated glial cells, is a candidate biomarker for in vivo tracking neuroinflammation in humans. We performed a longitudinal study in a monocentric cohort of cognitively healthy individuals at risk for Alzheimer's disease exploring whether age, sex, and the apolipoprotein E epsilon 4 allele affect plasma YKL-40 concentrations. We investigated whether YKL-40 is associated with brain amyloid-beta (A beta) deposition, neuronal activity, and neurodegeneration as assessed via neuroimaging biomarkers. Finally, we investigated whether YKL-40 may predict cognitive performance. We found an age-associated increase of YKL-40 and observed that men display higher concentrations than women, indicating a potential sexual dimorphism. Moreover, YKL-40 was positively associated with memory performance and negatively associated with brain A beta deposition (but not with metabolic signal). Consistent with translational studies, our results suggest a potentially protective effect of glia on incipient brain A beta accumulation and neuronal homeostasis. (C) 2020 Elsevier Inc. All rights reserved.\",\n",
       " '',\n",
       " 'Unno, K., et al. (2020). \"Mutation in Sodium-Glucose Cotransporter 2 Results in Down-Regulation of Amyloid Beta (A4) Precursor-Like Protein 1 in Young Age, Which May Lead to Poor Memory Retention in Old Age.\" International Journal of Molecular Sciences 21(15): 5579-5579.',\n",
       " 'Senescence-accelerated mouse prone 10 (SAMP10) exhibits cerebral atrophy and depression-like behavior. A line of SAMP10 with spontaneous mutation in theSlc5a2gene encoding the sodium-glucose cotransporter (SGLT) 2 was named SAMP10/TaSlc-Slc5a2(slc)(SAMP10-Delta Sglt2) and was identified as a renal diabetes model. In contrast, a line of SAMP10 with no mutation in SGLT2 (SAMP10/TaIdrSlc, SAMP10(+)) was recently established under a specific pathogen-free condition. Here, we examined the mutation effect inSGLT2on brain function and longevity. No differences were found in the survival curve, depression-like behavior, and age-related brain atrophy between SAMP10-Delta Sglt2 and SAMP10(+). However, memory retention was lower in SAMP10-Delta Sglt2 mice than SAMP10(+). Amyloid beta (A4) precursor-like protein 1 (Aplp1) expression was significantly lower in the hippocampus of SAMP10-Delta SGLT2 than in SAMP10(+) at 2 months of age, but was similar at 12 months of age. CaM kinase-like vesicle association (Camkv) expression was remarkably lower in SAMP10(+). These genes have been reported to be involved in dendrite function. Amyloid precursor proteins have been reported to involve in maintaining homeostasis of glucose and insulin. These results suggest that mutation inSGLT2results in down-regulation ofAplp1in young age, which can lead to poor memory retention in old age.',\n",
       " '',\n",
       " 'Sun, C. M., et al. (2020). \"Long-term oral melatonin alleviates memory deficits, reduces amyloid-beta deposition associated with downregulation of BACE1 and mitophagy in APP/PS1 transgenic mice.\" Neuroscience Letters 735: 35192-35192.',\n",
       " \"Melatonin is a tryptophan metabolite synthesized by the pineal gland. Recent research showed that melatonin has a protective effect in Alzheimer's disease (AD). However, its exact mechanism is still unclear. This study was designed to investigate the effects of long-term oral melatonin on spatial learning and memory, A beta deposition and soluble A beta levels, amyloidogenic amyloid precursor protein (APP) processing, mitochondrial structure and mitophagy in APP/PS1 transgenic mice, a model of AD. The spatial learning and memory ability of mice were examined by using the Morris water maze. Thioflavin S staining was used to observe A beta deposition. ELISA was used to evaluate the levels of A beta(40) and A beta(42). The expression levels of mitophagy proteins (PINK1, Parkin, LC3-II and LC3-I) and amyloidogenic APP processing proteins (BACE1, APP and CTF beta) were examined by western blotting analysis. Finally, transmission electron microscopy was used to observe mitochondrial structure and mitophagy vesicles. Our results showed that APP/PS1 transgenic mice with long-term oral melatonin showed improved spatial learning, alleviated memory impairment, reduced A beta deposition and restrained damage of mitochondrial structure. In addition, the number of mitophagy vesicles and expression levels of mitophagy factors (PINK1, Parkin, LC3-II/LC3-I) were decreased, as was the expression levels of amyloidogenic APP processing proteins (BACE1, APP and CTF beta). Long-term oral melatonin decreased A beta deposition and improved spatial learning and memory in APP/PS1 transgenic mice by a mechanism associated with down-regulation of BACE1 and mitophagy.\",\n",
       " '',\n",
       " 'Squarzoni, P., et al. (2020). \"Relationship Between PET-Assessed Amyloid Burden and Visual and Verbal Episodic Memory Performance in Elderly Subjects.\" Journal of Alzheimers Disease 78(1): 229-244.',\n",
       " \"Background: Studies of elderly subjects using biomarkers that are proxies for Alzheimer's disease (AD) pathology have the potential to document meaningful relationships between cognitive performance and biomarker changes along the AD continuum. Objective: To document cognitive performance differences across distinct AD stages using a categorization based on the presence of PET-assessed amyloid-beta (A beta) burden and neurodegeneration. Methods: Patients with mild dementia compatible with AD (n = 38) or amnestic mild cognitive impairment (aMCI; n = 43) and a cognitively unimpaired group (n = 27) underwent PET with Pittsburgh compound-B (PiB) assessing A beta aggregation (A+) and [F-18]FDG-PET assessing neurodegeneration ((N)+). Cognitive performance was assessed with verbal and visual episodic memory tests and the Mini-Mental State Examination. Results: The A+(N)+ subgroup (n = 32) showed decreased (p < 0.001) cognitive test scores compared to both A+(N)-(n = 18) and A-(N)- (n = 49) subjects, who presented highly similar mean cognitive scores. Despite its modest size (n = 9), the A-(N)+ subgroup showed lower (p < 0.043) verbal memory scores relative to A-(N)- subjects, and trend lower (p = 0.096) scores relative to A+(N)- subjects. Continuous A beta measures (standard uptake value ratios of PiB uptake) were correlated most significantly with visual memory scores both in the overall sample and when analyses were restricted to dementia or (N)+ subjects, but not in non-dementia or (N)- groups. Conclusion: These results demonstrate that significant A beta-cognition relationships are highly salient at disease stages involving neurodegeneration. The fact that findings relating A beta burden to memory performance were detected only at (N)+ stages, together with the similarity of test scores between A+(N)- and A-(N)- subjects, reinforce the view that A beta-cognition relationships during early AD stages may remain undetectable unless substantially large samples are evaluated.\",\n",
       " '']"
      ]
     },
     "execution_count": 4,
     "metadata": {},
     "output_type": "execute_result"
    }
   ],
   "source": [
    "contents"
   ]
  },
  {
   "cell_type": "code",
   "execution_count": 54,
   "id": "3ef30fc3",
   "metadata": {},
   "outputs": [
    {
     "data": {
      "text/plain": [
       "0"
      ]
     },
     "execution_count": 54,
     "metadata": {},
     "output_type": "execute_result"
    }
   ],
   "source": [
    "6%3"
   ]
  },
  {
   "cell_type": "code",
   "execution_count": 5,
   "id": "d6687575",
   "metadata": {},
   "outputs": [],
   "source": [
    "sepa_content = list()\n",
    "for i in range(len(contents)):\n",
    "    if i%3 == 0:\n",
    "        new = list()\n",
    "        new.append(contents[i])\n",
    "    elif i%3 == 1:\n",
    "        new.append(contents[i])\n",
    "    elif i%3 == 2:\n",
    "#         new.append(contents[i])\n",
    "        sepa_content.append(new)\n",
    "        "
   ]
  },
  {
   "cell_type": "code",
   "execution_count": 6,
   "id": "967ea0a5",
   "metadata": {},
   "outputs": [
    {
     "data": {
      "text/plain": [
       "[['\\ufeffYu, J. M., et al. (2021). \"Akt and calcium-permeable AMPA receptor are involved in the effect of pinoresinol on amyloid beta-induced synaptic plasticity and memory deficits.\" Biochemical Pharmacology 184: 14366-14366.',\n",
       "  \"Alzheimer's disease (AD) is one of the most prevalent neurodegenerative disorders characterized by memory deficits. Although no drug has given promising results, synaptic dysfunction-modulating agents might be considered potential candidates for alleviating this disorder. Pinoresinol, a lignan found in Forsythia suspensa, is a memory-enhancing agent with excitatory synaptic activation. In the present study, we tested whether pinoresinol reduces learning and memory and excitatory synaptic deficits in an amyloid beta (A beta)-induced AD-like mouse model. Pinoresinol enhanced hippocampal long-term potentiation (LTP) through calcium-permeable AMPA receptor, which was mediated by Akt activation. Moreover, pinoresinol ameliorated LTP deficits in amyloid beta (A beta)treated hippocampal slices via Akt signaling. Oral administration of pinoresinol ameliorated A beta-induced memory deficits without sensory dysfunction. Moreover, AD-like pathology, including neuroinflammation and synaptic deficit, were ameliorated by pinoresinol administration. Collectively, pinoresinol may be a good candidate for AD therapy by modulating synaptic functions.\"],\n",
       " ['Oliveira, M. M., et al. (2021). \"Correction of eIF2-dependent defects in brain protein synthesis, synaptic plasticity, and memory in mouse models of Alzheimer\\'s disease.\" Sci Signal 14(668).',\n",
       "  \"Neuronal protein synthesis is essential for long-term memory consolidation, and its dysregulation is implicated in various neurodegenerative disorders, including Alzheimer's disease (AD). Cellular stress triggers the activation of protein kinases that converge on the phosphorylation of eukaryotic translation initiation factor 2α (eIF2α), which attenuates mRNA translation. This translational inhibition is one aspect of the integrated stress response (ISR). We found that postmortem brain tissue from AD patients showed increased phosphorylation of eIF2α and reduced abundance of eIF2B, another key component of the translation initiation complex. Systemic administration of the small-molecule compound ISRIB (which blocks the ISR downstream of phosphorylated eIF2α) rescued protein synthesis in the hippocampus, measures of synaptic plasticity, and performance on memory-associated behavior tests in wild-type mice cotreated with salubrinal (which inhibits translation by inducing eIF2α phosphorylation) and in both β-amyloid-treated and transgenic AD model mice. Thus, attenuating the ISR downstream of phosphorylated eIF2α may restore hippocampal protein synthesis and delay cognitive decline in AD patients.\"],\n",
       " ['Hanseeuw, B. J., et al. (2021). \"Defining a Centiloid scale threshold predicting long-term progression to dementia in patients attending the memory clinic: an F-18 flutemetamol amyloid PET study.\" European Journal of Nuclear Medicine and Molecular Imaging 48(1): 302-310.',\n",
       "  'Purpose To evaluate cerebral amyloid-beta(A beta) pathology in older adults with cognitive complaints, visual assessment of PET images is approved as the routine method for image interpretation. In research studies however, A beta-PET semi-quantitative measures are associated with greater risk of progression to dementia; but until recently, these measures lacked standardization. Therefore, the Centiloid scale, providing standardized A beta-PET semi-quantitation, was recently validated. We aimed to determine the predictive values of visual assessments and Centiloids in non-demented patients, using long-term progression to dementia as our standard of truth. Methods One hundred sixty non-demented participants (age, 54-86) were enrolled in a monocentric [F-18] flutemetamol A beta-PET study. Flutemetamol images were interpreted visually following the manufacturers recommendations. SUVr values were converted to the Centiloid scale using the GAAIN guidelines. Ninety-eight persons were followed until dementia diagnosis or were clinically stable for a median of 6 years (min = 4.0; max = 8.0). Twenty-five patients with short follow-up (median = 2.0 years; min = 0.8; max = 3.9) and 37 patients with no follow-up were excluded. We computed ROC curves predicting subsequent dementia using baseline PET data and calculated negative (NPV) and positive (PPV) predictive values. Results In the 98 participants with long follow-up, Centiloid = 26 provided the highest overall predictive value = 87% (NPV = 85%, PPV = 88%). Visual assessment corresponded to Centiloid = 40, which predicted dementia with an overall predictive value = 86% (NPV = 81%, PPV = 92%). Inclusion of the 25 patients who only had a 2-year follow-up decreased the PPV = 67% (NPV = 88%), reflecting the many positive cases that did not progress to dementia after short follow-ups. Conclusion A Centiloid threshold = 26 optimally predicts progression to dementia 6 years after PET. Visual assessment provides similar predictive value, with higher specificity and lower sensitivity.'],\n",
       " ['Younan, D., et al. (2020). \"Particulate matter and episodic memory decline mediated by early neuroanatomic biomarkers of Alzheimer\\'s disease.\" Brain 143(1): 289-302.',\n",
       "  \"Evidence suggests exposure to particulate matter with aerodynamic diameter <2.5 μm (PM2.5) may increase the risk for Alzheimer's disease and related dementias. Whether PM2.5 alters brain structure and accelerates the preclinical neuropsychological processes remains unknown. Early decline of episodic memory is detectable in preclinical Alzheimer's disease. Therefore, we conducted a longitudinal study to examine whether PM2.5 affects the episodic memory decline, and also explored the potential mediating role of increased neuroanatomic risk of Alzheimer's disease associated with exposure. Participants included older females (n = 998; aged 73-87) enrolled in both the Women's Health Initiative Study of Cognitive Aging and the Women's Health Initiative Memory Study of Magnetic Resonance Imaging, with annual (1999-2010) episodic memory assessment by the California Verbal Learning Test, including measures of immediate free recall/new learning (List A Trials 1-3; List B) and delayed free recall (short- and long-delay), and up to two brain scans (MRI-1: 2005-06; MRI-2: 2009-10). Subjects were assigned Alzheimer's disease pattern similarity scores (a brain-MRI measured neuroanatomical risk for Alzheimer's disease), developed by supervised machine learning and validated with data from the Alzheimer's Disease Neuroimaging Initiative. Based on residential histories and environmental data on air monitoring and simulated atmospheric chemistry, we used a spatiotemporal model to estimate 3-year average PM2.5 exposure preceding MRI-1. In multilevel structural equation models, PM2.5 was associated with greater declines in immediate recall and new learning, but no association was found with decline in delayed-recall or composite scores. For each interquartile increment (2.81 μg/m3) of PM2.5, the annual decline rate was significantly accelerated by 19.3% [95% confidence interval (CI) = 1.9% to 36.2%] for Trials 1-3 and 14.8% (4.4% to 24.9%) for List B performance, adjusting for multiple potential confounders. Long-term PM2.5 exposure was associated with increased Alzheimer's disease pattern similarity scores, which accounted for 22.6% (95% CI: 1% to 68.9%) and 10.7% (95% CI: 1.0% to 30.3%) of the total adverse PM2.5 effects on Trials 1-3 and List B, respectively. The observed associations remained after excluding incident cases of dementia and stroke during the follow-up, or further adjusting for small-vessel ischaemic disease volumes. Our findings illustrate the continuum of PM2.5 neurotoxicity that contributes to early decline of immediate free recall/new learning at the preclinical stage, which is mediated by progressive atrophy of grey matter indicative of increased Alzheimer's disease risk, independent of cerebrovascular damage.\"],\n",
       " ['Yi, J. H., et al. (2020). \"REDD1 Is Involved in Amyloid beta-Induced Synaptic Dysfunction and Memory Impairment.\" International Journal of Molecular Sciences 21(24): 9482-9482.',\n",
       "  \"Alzheimer's disease (AD) is a neurodegenerative disease characterized by neurological dysfunction, including memory impairment, attributed to the accumulation of amyloid beta (A beta) in the brain. Although several studies reported possible mechanisms involved in A beta pathology, much remains unknown. Previous findings suggested that a protein regulated in development and DNA damage response 1 (REDD1), a stress-coping regulator, is an A beta-responsive gene involved in A beta cytotoxicity. However, we still do not know how A beta increases the level of REDD1 and whether REDD1 mediates A beta-induced synaptic dysfunction. To elucidate this, we examined the effect of A beta on REDD1-expression using acute hippocampal slices from mice, and the effect of REDD1 short hairpin RNA (shRNA) on A beta-induced synaptic dysfunction. Lastly, we observed the effect of REDD1 shRNA on memory deficit in an AD-like mouse model. Through the experiments, we found that A beta-incubated acute hippocampal slices showed increased REDD1 levels. Moreover, A beta injection into the lateral ventricle increased REDD1 levels in the hippocampus. Anisomycin, but not actinomycin D, blocked A beta-induced increase in REDD1 levels in the acute hippocampal slices, suggesting that A beta may increase REDD1 translation rather than transcription. A beta activated Fyn/ERK/S6 cascade, and inhibitors for Fyn/ERK/S6 or mGluR5 blocked A beta-induced REDD1 upregulation. REDD1 inducer, a transcriptional activator, and A beta blocked synaptic plasticity in the acute hippocampal slices. REDD1 inducer inhibited mTOR/Akt signaling. REDD1 shRNA blocked A beta-induced synaptic deficits. REDD1 shRNA also blocked A beta-induced memory deficits in passive-avoidance and object-recognition tests. Collectively, these results demonstrate that REDD1 participates in A beta pathology and could be a target for AD therapy.\"],\n",
       " ['Wang, X. C., et al. (2020). \"Astragaloside IV prevents A beta(1-42) oligomers-induced memory impairment and hippocampal cell apoptosis by promoting PPAR gamma/BDNF signaling pathway.\" Brain Research 1747: 47041-47041.',\n",
       "  \"Astragaloside IV (AS-IV), a natural product derived from Radix Astragali (Astragalus membranaceus), is beneficial for the treatment of Alzheimer's disease (AD), but the mechanisms underlying this benefit are not completely understood. Peroxisome proliferator-activated receptor gamma (PPAR gamma) and brain-derived neurotrophic factor (BDNF) are potential therapeutic targets for AD. In this study, we found that amyloid beta protein fragment 1-42 oligomers (A beta O) suppressed BDNF and PPAR gamma expression, and inhibited tyrosine receptor kinase B (TrkB) phosphorylation in cultured hippocampal neurons; these changes were ameliorated by treatment with AS-IV. Inhibition of PPAR gamma by genetic and pharmacological methods also blocked the effect of AS-IV on BDNF expression in A beta O-treated cells. Importantly, exogenous BDNF protected against neurotoxicity and apoptosis induced by A beta O, whereas inhibition of PPAR gamma reversed protective effects of AS-IV against these outcomes. In vivo data further revealed that AS-IV improved A beta O-induced memory impairment and reduced apoptosis of hippocampal neurons. Moreover, AS-IV suppressed the A beta O-induced reduction in BDNF by promoting PPAR gamma activation in the hippocampus. Taken together, these results indicate that AS-IV prevents A beta O-induced memory impairment and hippocampal neuronal apoptosis, probably by promoting the PPAR gamma/BDNF signaling pathway.\"],\n",
       " ['Vergallo, A., et al. (2020). \"Association of plasma YKL-40 with brain amyloid-beta levels, memory performance, and sex in subjective memory complainers.\" Neurobiology of Aging 96: 22-32.',\n",
       "  \"Neuroinflammation, a key early pathomechanistic alteration of Alzheimer's disease, may represent either a detrimental or a compensatory mechanism or both (according to the disease stage). YKL-40, a glycoprotein highly expressed in differentiated glial cells, is a candidate biomarker for in vivo tracking neuroinflammation in humans. We performed a longitudinal study in a monocentric cohort of cognitively healthy individuals at risk for Alzheimer's disease exploring whether age, sex, and the apolipoprotein E epsilon 4 allele affect plasma YKL-40 concentrations. We investigated whether YKL-40 is associated with brain amyloid-beta (A beta) deposition, neuronal activity, and neurodegeneration as assessed via neuroimaging biomarkers. Finally, we investigated whether YKL-40 may predict cognitive performance. We found an age-associated increase of YKL-40 and observed that men display higher concentrations than women, indicating a potential sexual dimorphism. Moreover, YKL-40 was positively associated with memory performance and negatively associated with brain A beta deposition (but not with metabolic signal). Consistent with translational studies, our results suggest a potentially protective effect of glia on incipient brain A beta accumulation and neuronal homeostasis. (C) 2020 Elsevier Inc. All rights reserved.\"],\n",
       " ['Unno, K., et al. (2020). \"Mutation in Sodium-Glucose Cotransporter 2 Results in Down-Regulation of Amyloid Beta (A4) Precursor-Like Protein 1 in Young Age, Which May Lead to Poor Memory Retention in Old Age.\" International Journal of Molecular Sciences 21(15): 5579-5579.',\n",
       "  'Senescence-accelerated mouse prone 10 (SAMP10) exhibits cerebral atrophy and depression-like behavior. A line of SAMP10 with spontaneous mutation in theSlc5a2gene encoding the sodium-glucose cotransporter (SGLT) 2 was named SAMP10/TaSlc-Slc5a2(slc)(SAMP10-Delta Sglt2) and was identified as a renal diabetes model. In contrast, a line of SAMP10 with no mutation in SGLT2 (SAMP10/TaIdrSlc, SAMP10(+)) was recently established under a specific pathogen-free condition. Here, we examined the mutation effect inSGLT2on brain function and longevity. No differences were found in the survival curve, depression-like behavior, and age-related brain atrophy between SAMP10-Delta Sglt2 and SAMP10(+). However, memory retention was lower in SAMP10-Delta Sglt2 mice than SAMP10(+). Amyloid beta (A4) precursor-like protein 1 (Aplp1) expression was significantly lower in the hippocampus of SAMP10-Delta SGLT2 than in SAMP10(+) at 2 months of age, but was similar at 12 months of age. CaM kinase-like vesicle association (Camkv) expression was remarkably lower in SAMP10(+). These genes have been reported to be involved in dendrite function. Amyloid precursor proteins have been reported to involve in maintaining homeostasis of glucose and insulin. These results suggest that mutation inSGLT2results in down-regulation ofAplp1in young age, which can lead to poor memory retention in old age.'],\n",
       " ['Sun, C. M., et al. (2020). \"Long-term oral melatonin alleviates memory deficits, reduces amyloid-beta deposition associated with downregulation of BACE1 and mitophagy in APP/PS1 transgenic mice.\" Neuroscience Letters 735: 35192-35192.',\n",
       "  \"Melatonin is a tryptophan metabolite synthesized by the pineal gland. Recent research showed that melatonin has a protective effect in Alzheimer's disease (AD). However, its exact mechanism is still unclear. This study was designed to investigate the effects of long-term oral melatonin on spatial learning and memory, A beta deposition and soluble A beta levels, amyloidogenic amyloid precursor protein (APP) processing, mitochondrial structure and mitophagy in APP/PS1 transgenic mice, a model of AD. The spatial learning and memory ability of mice were examined by using the Morris water maze. Thioflavin S staining was used to observe A beta deposition. ELISA was used to evaluate the levels of A beta(40) and A beta(42). The expression levels of mitophagy proteins (PINK1, Parkin, LC3-II and LC3-I) and amyloidogenic APP processing proteins (BACE1, APP and CTF beta) were examined by western blotting analysis. Finally, transmission electron microscopy was used to observe mitochondrial structure and mitophagy vesicles. Our results showed that APP/PS1 transgenic mice with long-term oral melatonin showed improved spatial learning, alleviated memory impairment, reduced A beta deposition and restrained damage of mitochondrial structure. In addition, the number of mitophagy vesicles and expression levels of mitophagy factors (PINK1, Parkin, LC3-II/LC3-I) were decreased, as was the expression levels of amyloidogenic APP processing proteins (BACE1, APP and CTF beta). Long-term oral melatonin decreased A beta deposition and improved spatial learning and memory in APP/PS1 transgenic mice by a mechanism associated with down-regulation of BACE1 and mitophagy.\"],\n",
       " ['Squarzoni, P., et al. (2020). \"Relationship Between PET-Assessed Amyloid Burden and Visual and Verbal Episodic Memory Performance in Elderly Subjects.\" Journal of Alzheimers Disease 78(1): 229-244.',\n",
       "  \"Background: Studies of elderly subjects using biomarkers that are proxies for Alzheimer's disease (AD) pathology have the potential to document meaningful relationships between cognitive performance and biomarker changes along the AD continuum. Objective: To document cognitive performance differences across distinct AD stages using a categorization based on the presence of PET-assessed amyloid-beta (A beta) burden and neurodegeneration. Methods: Patients with mild dementia compatible with AD (n = 38) or amnestic mild cognitive impairment (aMCI; n = 43) and a cognitively unimpaired group (n = 27) underwent PET with Pittsburgh compound-B (PiB) assessing A beta aggregation (A+) and [F-18]FDG-PET assessing neurodegeneration ((N)+). Cognitive performance was assessed with verbal and visual episodic memory tests and the Mini-Mental State Examination. Results: The A+(N)+ subgroup (n = 32) showed decreased (p < 0.001) cognitive test scores compared to both A+(N)-(n = 18) and A-(N)- (n = 49) subjects, who presented highly similar mean cognitive scores. Despite its modest size (n = 9), the A-(N)+ subgroup showed lower (p < 0.043) verbal memory scores relative to A-(N)- subjects, and trend lower (p = 0.096) scores relative to A+(N)- subjects. Continuous A beta measures (standard uptake value ratios of PiB uptake) were correlated most significantly with visual memory scores both in the overall sample and when analyses were restricted to dementia or (N)+ subjects, but not in non-dementia or (N)- groups. Conclusion: These results demonstrate that significant A beta-cognition relationships are highly salient at disease stages involving neurodegeneration. The fact that findings relating A beta burden to memory performance were detected only at (N)+ stages, together with the similarity of test scores between A+(N)- and A-(N)- subjects, reinforce the view that A beta-cognition relationships during early AD stages may remain undetectable unless substantially large samples are evaluated.\"]]"
      ]
     },
     "execution_count": 6,
     "metadata": {},
     "output_type": "execute_result"
    }
   ],
   "source": [
    "sepa_content"
   ]
  },
  {
   "cell_type": "code",
   "execution_count": 7,
   "id": "2884025a",
   "metadata": {},
   "outputs": [
    {
     "data": {
      "text/plain": [
       "'Akt and calcium-permeable AMPA receptor are involved in the effect of pinoresinol on amyloid beta-induced synaptic plasticity and memory deficits.'"
      ]
     },
     "execution_count": 7,
     "metadata": {},
     "output_type": "execute_result"
    }
   ],
   "source": [
    "sepa_content[0][0].split('\"')[1]"
   ]
  },
  {
   "cell_type": "code",
   "execution_count": 8,
   "id": "c06eabec",
   "metadata": {},
   "outputs": [
    {
     "data": {
      "text/plain": [
       "['\\ufeffYu, J. M., et al. (2021). \"Akt and calcium-permeable AMPA receptor are involved in the effect of pinoresinol on amyloid beta-induced synaptic plasticity and memory deficits.\" Biochemical Pharmacology 184: 14366-14366.',\n",
       " \"Alzheimer's disease (AD) is one of the most prevalent neurodegenerative disorders characterized by memory deficits. Although no drug has given promising results, synaptic dysfunction-modulating agents might be considered potential candidates for alleviating this disorder. Pinoresinol, a lignan found in Forsythia suspensa, is a memory-enhancing agent with excitatory synaptic activation. In the present study, we tested whether pinoresinol reduces learning and memory and excitatory synaptic deficits in an amyloid beta (A beta)-induced AD-like mouse model. Pinoresinol enhanced hippocampal long-term potentiation (LTP) through calcium-permeable AMPA receptor, which was mediated by Akt activation. Moreover, pinoresinol ameliorated LTP deficits in amyloid beta (A beta)treated hippocampal slices via Akt signaling. Oral administration of pinoresinol ameliorated A beta-induced memory deficits without sensory dysfunction. Moreover, AD-like pathology, including neuroinflammation and synaptic deficit, were ameliorated by pinoresinol administration. Collectively, pinoresinol may be a good candidate for AD therapy by modulating synaptic functions.\"]"
      ]
     },
     "execution_count": 8,
     "metadata": {},
     "output_type": "execute_result"
    }
   ],
   "source": [
    "sepa_content[0]"
   ]
  },
  {
   "cell_type": "code",
   "execution_count": 9,
   "id": "12a63ec0",
   "metadata": {},
   "outputs": [
    {
     "name": "stdout",
     "output_type": "stream",
     "text": [
      "Oliveira, M. M., et al. (2021). \"Correction of eIF2-dependent defects in brain protein synthesis, synaptic plasticity, and memory in mouse models of Alzheimer's disease.\" Sci Signal 14(668). Neuronal protein synthesis is essential for long-term memory consolidation, and its dysregulation is implicated in various neurodegenerative disorders, including Alzheimer's disease (AD). Cellular stress triggers the activation of protein kinases that converge on the phosphorylation of eukaryotic translation initiation factor 2α (eIF2α), which attenuates mRNA translation. This translational inhibition is one aspect of the integrated stress response (ISR). We found that postmortem brain tissue from AD patients showed increased phosphorylation of eIF2α and reduced abundance of eIF2B, another key component of the translation initiation complex. Systemic administration of the small-molecule compound ISRIB (which blocks the ISR downstream of phosphorylated eIF2α) rescued protein synthesis in the hippocampus, measures of synaptic plasticity, and performance on memory-associated behavior tests in wild-type mice cotreated with salubrinal (which inhibits translation by inducing eIF2α phosphorylation) and in both β-amyloid-treated and transgenic AD model mice. Thus, attenuating the ISR downstream of phosphorylated eIF2α may restore hippocampal protein synthesis and delay cognitive decline in AD patients.\n"
     ]
    }
   ],
   "source": [
    "print(\" \".join(sepa_content[1]))"
   ]
  },
  {
   "cell_type": "code",
   "execution_count": 14,
   "id": "d955b7b6",
   "metadata": {},
   "outputs": [
    {
     "name": "stdout",
     "output_type": "stream",
     "text": [
      "[228037 591755 570924 891624 591263 936489 471403 173349 217583 121440]\n"
     ]
    }
   ],
   "source": [
    "# seed random number generator\n",
    "seed(1)\n",
    "# generate some integers\n",
    "values = randint(100000, 999999, 10)\n",
    "print(values)"
   ]
  },
  {
   "cell_type": "code",
   "execution_count": null,
   "id": "f1dcaa5d",
   "metadata": {},
   "outputs": [],
   "source": []
  },
  {
   "cell_type": "code",
   "execution_count": 17,
   "id": "ccdd28a3",
   "metadata": {},
   "outputs": [],
   "source": [
    "for i in range(len(sepa_content)):\n",
    "    file_name = str(values[i])\n",
    "    with open(folder_path+file_name+\".txt\", 'w') as f:\n",
    "        f.write(\" \".join(sepa_content[i]))"
   ]
  },
  {
   "cell_type": "code",
   "execution_count": null,
   "id": "71dec033",
   "metadata": {},
   "outputs": [],
   "source": []
  }
 ],
 "metadata": {
  "kernelspec": {
   "display_name": "Python 3",
   "language": "python",
   "name": "python3"
  },
  "language_info": {
   "codemirror_mode": {
    "name": "ipython",
    "version": 3
   },
   "file_extension": ".py",
   "mimetype": "text/x-python",
   "name": "python",
   "nbconvert_exporter": "python",
   "pygments_lexer": "ipython3",
   "version": "3.8.8"
  }
 },
 "nbformat": 4,
 "nbformat_minor": 5
}

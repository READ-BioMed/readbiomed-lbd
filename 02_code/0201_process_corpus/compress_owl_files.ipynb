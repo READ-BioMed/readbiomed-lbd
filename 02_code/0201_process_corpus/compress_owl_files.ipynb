{
 "cells": [
  {
   "cell_type": "code",
   "execution_count": 1,
   "id": "4da9b414",
   "metadata": {},
   "outputs": [],
   "source": [
    "import gzip\n",
    "content = b\"Lots of content here\"\n",
    "with gzip.open('/Users/yidesdo21/Projects/outputs/file.txt.gz', 'wb') as f:\n",
    "    f.write(content)"
   ]
  },
  {
   "cell_type": "code",
   "execution_count": 2,
   "id": "9fef4b32",
   "metadata": {},
   "outputs": [],
   "source": [
    "import shutil\n",
    "with open('/Users/yidesdo21/Projects/inputs/ncbitaxon.owl', 'rb') as f_in:\n",
    "    with gzip.open('/Users/yidesdo21/Projects/inputs/ncbitaxon.owl.gz', 'wb') as f_out:\n",
    "        shutil.copyfileobj(f_in, f_out)"
   ]
  },
  {
   "cell_type": "code",
   "execution_count": null,
   "id": "07054ec5",
   "metadata": {},
   "outputs": [],
   "source": []
  }
 ],
 "metadata": {
  "kernelspec": {
   "display_name": "Python 3",
   "language": "python",
   "name": "python3"
  },
  "language_info": {
   "codemirror_mode": {
    "name": "ipython",
    "version": 3
   },
   "file_extension": ".py",
   "mimetype": "text/x-python",
   "name": "python",
   "nbconvert_exporter": "python",
   "pygments_lexer": "ipython3",
   "version": "3.8.8"
  }
 },
 "nbformat": 4,
 "nbformat_minor": 5
}

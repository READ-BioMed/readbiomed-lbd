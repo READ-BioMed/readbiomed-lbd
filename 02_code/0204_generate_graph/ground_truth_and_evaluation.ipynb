{
 "cells": [
  {
   "cell_type": "code",
   "execution_count": null,
   "id": "b4618efb",
   "metadata": {},
   "outputs": [],
   "source": [
    "import tensorflow as tf\n"
   ]
  },
  {
   "cell_type": "code",
   "execution_count": null,
   "id": "dfc9ba51",
   "metadata": {},
   "outputs": [],
   "source": []
  },
  {
   "cell_type": "code",
   "execution_count": null,
   "id": "df408961",
   "metadata": {},
   "outputs": [],
   "source": [
    "hubs_2000 = {'AlzheimerOntology:cerebrospinal_fluid', 'NDDUO:Enzymes', '10090', '54226', 'NDDUO:Cluster', 'obo:BFO_0000066', 'AlzheimerOntology:presenilin_1', 'MESH:D019636', 'NDDUO:Mouse_', 'AlzheimerOntology:Subtypes', 'AlzheimerOntology:protein', 'AlzheimerOntology:t_tau', 'NDDUO:Risk_factor', 'obo:RO_0000079', 'AlzheimerOntology:t_tau_Amyloid_beta_42', 'obo:BFO_0000015', 'NDDUO:Exposure', 'obo:ND_0003000', 'snap:Function', 'AlzheimerOntology:Brain_Imaging', 'NDDUO:male', 'obo:FMA_62493', 'AlzheimerOntology:vascular_dementia', 'MESH:D003072', 'NDDUO:Intervention', 'AlzheimerOntology:Memory_orientation_screening_test', 'obo:OGMS_0000023', 'AlzheimerOntology:Oxidative_stress', 'snap:Role', 'AlzheimerOntology:Microglia', 'MESH:D064420', 'AlzheimerOntology:Membrane', 'NDDUO:disorder', 'obo:UO_0000033', 'NDDUO:biomarker', 'AlzheimerOntology:brain', 'AlzheimerOntology:control_group_study_arm', 'NDDUO:Distribution', 'NDDUO:Clinical', 'AlzheimerOntology:presenilin', 'NDDUO:In_vivo_models', 'AlzheimerOntology:secretase', 'MESH:D000544', 'AlzheimerOntology:APP', 'MESH:D014867', 'AlzheimerOntology:cortex', 'AlzheimerOntology:disease_onset', 'obo:UO_0000036', 'obo:UO_0000035', 'AlzheimerOntology:Mild_cognitive_Impairment', 'obo:IAO_0000651', 'span:Process', 'obo:BFO_0000023', 'NDDUO:Cell_death', 'obo:ND_0000113', 'obo:OGMS_0000031', 'NDDUO:Age', 'obo:BFO_0000034', 'AlzheimerOntology:antibody', 'obo:IAO_0000230', '11820', 'NDDUO:disease', 'AlzheimerOntology:senile_dementia', 'NDDUO:gene', 'NDDUO:drug', 'AlzheimerOntology:Moderate_cognitive_Decline', 'AlzheimerOntology:ApoE_Protein', 'AlzheimerOntology:lipid', 'NDDUO:Rat', 'AlzheimerOntology:presence_of_amyloid_plaque', 'AlzheimerOntology:age_risk_factor', 'NDDUO:model', 'AlzheimerOntology:amyloid_precursor_protein', 'AlzheimerOntology:Phosphorylation', 'snap:Site', 'AlzheimerOntology:Cognitive_Tests', 'AlzheimerOntology:ratio', 'obo:FMA_50801', 'AlzheimerOntology:advanced_glycation_end_product', '9606', 'AlzheimerOntology:Receptors', 'obo:PATO_0000011', 'AlzheimerOntology:inflammation', 'AlzheimerOntology:frontotemporal_dementia', 'obo:GO_0007612', 'MESH:D009410', 'NDDUO:Mild', 'NDDUO:Sampling', 'AlzheimerOntology:senile_plaque', 'MESH:D003704', 'NDDUO:In_vivo', 'AlzheimerOntology:Hippocampus', '351', 'NDDUO:neurodegenerative_disease', 'obo:ND_0000152', 'obo:GO_0007613', 'NDDUO:Proportion', 'AlzheimerOntology:Late_Onset_Alzheimer_s_Disease', 'obo:NBO_0000215', 'NDDUO:In_vitro', 'NDDUO:Study_type', 'MESH:D008569', 'obo:OBI_0000753', 'obo:NBO_0000282', 'NDDUO:Neurons', 'AlzheimerOntology:amyloid_beta_protein', 'AlzheimerOntology:Fibrils', 'MESH:D020258', '10116', 'AlzheimerOntology:amyloid_beta_deposition', 'obo:OBI_0000070', 'AlzheimerOntology:Gama_secretase', 'NDDUO:rate', 'AlzheimerOntology:enzyme', 'AlzheimerOntology:Apoptosis', 'obo:IDO_0000666', 'AlzheimerOntology:mutation', 'obo:FMA_61109', '4137', 'obo:IAO_0000101', 'obo:RO_0000081', 'AlzheimerOntology:Abeta_42', 'MESH:D003643', 'obo:NPT_0015009', 'NDDUO:inhibitor', 'obo:RO_0002211', 'NDDUO:Stages', 'AlzheimerOntology:mental_disorder', 'NDDUO:Pathogenesis', 'AlzheimerOntology:Intervention', 'AlzheimerOntology:neurotoxic'}\n",
    "\n",
    "# print(len(hubs_2000))\n"
   ]
  },
  {
   "cell_type": "code",
   "execution_count": null,
   "id": "4106e57b",
   "metadata": {},
   "outputs": [],
   "source": []
  },
  {
   "cell_type": "code",
   "execution_count": null,
   "id": "fac025ef",
   "metadata": {},
   "outputs": [],
   "source": []
  }
 ],
 "metadata": {
  "kernelspec": {
   "display_name": "Python 3.9.6 64-bit",
   "language": "python",
   "name": "python3"
  },
  "language_info": {
   "codemirror_mode": {
    "name": "ipython",
    "version": 3
   },
   "file_extension": ".py",
   "mimetype": "text/x-python",
   "name": "python",
   "nbconvert_exporter": "python",
   "pygments_lexer": "ipython3",
   "version": "3.9.6"
  },
  "vscode": {
   "interpreter": {
    "hash": "31f2aee4e71d21fbe5cf8b01ff0e069b9275f58929596ceb00d14d90e3e16cd6"
   }
  }
 },
 "nbformat": 4,
 "nbformat_minor": 5
}

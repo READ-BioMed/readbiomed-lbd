{
 "cells": [
  {
   "cell_type": "code",
   "execution_count": 33,
   "id": "4734b6b9",
   "metadata": {},
   "outputs": [],
   "source": [
    "from Bio import Entrez\n",
    "import urllib.parse\n",
    "import time\n",
    "import xmltodict\n",
    "from xml.dom import minidom"
   ]
  },
  {
   "cell_type": "code",
   "execution_count": 34,
   "id": "b9e57673",
   "metadata": {},
   "outputs": [],
   "source": [
    "Entrez.email = \"yiyuanp1@student.unimelb.edu.au\""
   ]
  },
  {
   "cell_type": "code",
   "execution_count": 35,
   "id": "47452bc2",
   "metadata": {},
   "outputs": [],
   "source": [
    "# import NIO dictionary token id and canonicals\n",
    "# the canonicals with be the elements inside the queries to be encoded \n",
    "xml_path = \"/Users/yidesdo21/Projects/inputs/dictionary/\"\n",
    "\n",
    "with open(xml_path+\"nio_ado_case.xml\") as f:\n",
    "    nio_xml = f.read()\n",
    "\n",
    "nio_parsed = xmltodict.parse(nio_xml)"
   ]
  },
  {
   "cell_type": "code",
   "execution_count": 36,
   "id": "96fd4706",
   "metadata": {},
   "outputs": [],
   "source": [
    "nio_dict = nio_parsed[\"synonym\"][\"token\"]"
   ]
  },
  {
   "cell_type": "code",
   "execution_count": 37,
   "id": "fd175af8",
   "metadata": {
    "scrolled": true
   },
   "outputs": [
    {
     "data": {
      "text/plain": [
       "[OrderedDict([('@id', 'NDDO:Geriatric_Depression_Scale_Assessment_design'),\n",
       "              ('@canonical', 'Geriatric Depression Scale Assessment design'),\n",
       "              ('variant',\n",
       "               OrderedDict([('@base',\n",
       "                             'Geriatric Depression Scale Assessment design')]))]),\n",
       " OrderedDict([('@id', 'NDDO:NDDO_00000021'),\n",
       "              ('@canonical', 'visit'),\n",
       "              ('variant', OrderedDict([('@base', 'visit')]))]),\n",
       " OrderedDict([('@id', 'NDDO:NDDO_00000022'),\n",
       "              ('@canonical', 'diagnostic data'),\n",
       "              ('variant', OrderedDict([('@base', 'diagnostic data')]))]),\n",
       " OrderedDict([('@id', 'NDDO:NDDO_00000023'),\n",
       "              ('@canonical', 'MRI image'),\n",
       "              ('variant', OrderedDict([('@base', 'MRI image')]))]),\n",
       " OrderedDict([('@id', 'NDDO:NDDO_00000024'),\n",
       "              ('@canonical', 'clinical data'),\n",
       "              ('variant', OrderedDict([('@base', 'clinical data')]))])]"
      ]
     },
     "execution_count": 37,
     "metadata": {},
     "output_type": "execute_result"
    }
   ],
   "source": [
    "nio_dict[:5]"
   ]
  },
  {
   "cell_type": "code",
   "execution_count": 38,
   "id": "219c53d5",
   "metadata": {},
   "outputs": [],
   "source": [
    "# for now, we only use the concept ids from AlzheimerOntology\n",
    "token_ids, canos = list(), list()\n",
    "\n",
    "for nio in nio_dict:\n",
    "    token_id, cano = nio[\"@id\"], nio[\"@canonical\"]\n",
    "    if token_id.startswith(\"AlzheimerOntology\"):\n",
    "        token_ids.append(token_id)\n",
    "        canos.append(cano)\n",
    "#         print(token_id)\n",
    "#         print(cano)\n",
    "#         print(nio)\n",
    "#         print(\"-------------\")"
   ]
  },
  {
   "cell_type": "code",
   "execution_count": 39,
   "id": "e29eba81",
   "metadata": {},
   "outputs": [
    {
     "data": {
      "text/plain": [
       "1306"
      ]
     },
     "execution_count": 39,
     "metadata": {},
     "output_type": "execute_result"
    }
   ],
   "source": [
    "len(token_ids)"
   ]
  },
  {
   "cell_type": "code",
   "execution_count": 40,
   "id": "e8cba61e",
   "metadata": {},
   "outputs": [
    {
     "data": {
      "text/plain": [
       "1306"
      ]
     },
     "execution_count": 40,
     "metadata": {},
     "output_type": "execute_result"
    }
   ],
   "source": [
    "len(canos)"
   ]
  },
  {
   "cell_type": "code",
   "execution_count": 41,
   "id": "85c1a317",
   "metadata": {},
   "outputs": [
    {
     "data": {
      "text/plain": [
       "1306"
      ]
     },
     "execution_count": 41,
     "metadata": {},
     "output_type": "execute_result"
    }
   ],
   "source": [
    "len(canos)"
   ]
  },
  {
   "cell_type": "code",
   "execution_count": null,
   "id": "59bff567",
   "metadata": {},
   "outputs": [],
   "source": []
  },
  {
   "cell_type": "code",
   "execution_count": 42,
   "id": "2ba7c843",
   "metadata": {},
   "outputs": [],
   "source": [
    "# why \"alzheimer's disease\" is not working? \n",
    "# esearch should return 4 uids in the website, but it return 0 here\n",
    "# queries = [\"alzheimer's disease\", \"vomiting\", \"apoe\", \"APoE\"]\n",
    "queries = canos[:305]   # test\n",
    "# queries = canos\n",
    "encodings = list()\n",
    "\n",
    "for query in queries:\n",
    "    encoding = urllib.parse.quote_plus(query)  # it doesn't matter using \"%20\" or \"+\" for the space\n",
    "    encodings.append(encoding)\n",
    "    \n",
    "query_enc = dict(zip(encodings, queries))"
   ]
  },
  {
   "cell_type": "code",
   "execution_count": 19,
   "id": "270f6d23",
   "metadata": {},
   "outputs": [
    {
     "name": "stdout",
     "output_type": "stream",
     "text": [
      "['AKT1', 'Difficulty+in+learning+new+things', 'Alexy', 'AGER', 'PLAT', 'SIRT4', 'NRG1', 'Early+onset+Alzheimer%27s+Disease', 'Taking+longer+than+before+to+complete+normal+daily+tasks', 'IRS1']\n"
     ]
    }
   ],
   "source": [
    "print(encodings)"
   ]
  },
  {
   "cell_type": "code",
   "execution_count": 43,
   "id": "e1c7ca49",
   "metadata": {},
   "outputs": [
    {
     "data": {
      "text/plain": [
       "1306"
      ]
     },
     "execution_count": 43,
     "metadata": {},
     "output_type": "execute_result"
    }
   ],
   "source": [
    "len(encodings)"
   ]
  },
  {
   "cell_type": "code",
   "execution_count": 22,
   "id": "067c25aa",
   "metadata": {},
   "outputs": [
    {
     "name": "stdout",
     "output_type": "stream",
     "text": [
      "{'AKT1': 'AKT1', 'Difficulty+in+learning+new+things': 'Difficulty in learning new things', 'Alexy': 'Alexy', 'AGER': 'AGER', 'PLAT': 'PLAT', 'SIRT4': 'SIRT4', 'NRG1': 'NRG1', 'Early+onset+Alzheimer%27s+Disease': \"Early onset Alzheimer's Disease\", 'Taking+longer+than+before+to+complete+normal+daily+tasks': 'Taking longer than before to complete normal daily tasks', 'IRS1': 'IRS1'}\n"
     ]
    }
   ],
   "source": [
    "print(query_enc)"
   ]
  },
  {
   "cell_type": "code",
   "execution_count": 44,
   "id": "21905b16",
   "metadata": {},
   "outputs": [
    {
     "data": {
      "text/plain": [
       "1304"
      ]
     },
     "execution_count": 44,
     "metadata": {},
     "output_type": "execute_result"
    }
   ],
   "source": [
    "len(query_enc)"
   ]
  },
  {
   "cell_type": "code",
   "execution_count": 45,
   "id": "857862d2",
   "metadata": {},
   "outputs": [],
   "source": [
    "database = \"mesh\""
   ]
  },
  {
   "cell_type": "code",
   "execution_count": 48,
   "id": "a6696c8c",
   "metadata": {
    "scrolled": true
   },
   "outputs": [
    {
     "name": "stdout",
     "output_type": "stream",
     "text": [
      "Processing 100 uids\n",
      "Processing 200 uids\n",
      "Processing 300 uids\n"
     ]
    },
    {
     "ename": "KeyboardInterrupt",
     "evalue": "",
     "output_type": "error",
     "traceback": [
      "\u001b[0;31m---------------------------------------------------------------------------\u001b[0m",
      "\u001b[0;31mKeyboardInterrupt\u001b[0m                         Traceback (most recent call last)",
      "\u001b[0;32m<ipython-input-48-930aff9a5b55>\u001b[0m in \u001b[0;36m<module>\u001b[0;34m\u001b[0m\n\u001b[1;32m      9\u001b[0m \u001b[0;31m#     print(e)\u001b[0m\u001b[0;34m\u001b[0m\u001b[0;34m\u001b[0m\u001b[0;34m\u001b[0m\u001b[0m\n\u001b[1;32m     10\u001b[0m \u001b[0;31m#     print(query_enc.get(e))\u001b[0m\u001b[0;34m\u001b[0m\u001b[0;34m\u001b[0m\u001b[0;34m\u001b[0m\u001b[0m\n\u001b[0;32m---> 11\u001b[0;31m     \u001b[0mhandle\u001b[0m \u001b[0;34m=\u001b[0m \u001b[0mEntrez\u001b[0m\u001b[0;34m.\u001b[0m\u001b[0mesearch\u001b[0m\u001b[0;34m(\u001b[0m\u001b[0mdb\u001b[0m\u001b[0;34m=\u001b[0m\u001b[0mdatabase\u001b[0m\u001b[0;34m,\u001b[0m \u001b[0mterm\u001b[0m\u001b[0;34m=\u001b[0m\u001b[0me\u001b[0m\u001b[0;34m)\u001b[0m  \u001b[0;31m# handle is a wrapper around text information\u001b[0m\u001b[0;34m\u001b[0m\u001b[0;34m\u001b[0m\u001b[0m\n\u001b[0m\u001b[1;32m     12\u001b[0m     \u001b[0mrecord\u001b[0m \u001b[0;34m=\u001b[0m \u001b[0mEntrez\u001b[0m\u001b[0;34m.\u001b[0m\u001b[0mread\u001b[0m\u001b[0;34m(\u001b[0m\u001b[0mhandle\u001b[0m\u001b[0;34m)\u001b[0m\u001b[0;34m\u001b[0m\u001b[0;34m\u001b[0m\u001b[0m\n\u001b[1;32m     13\u001b[0m     \u001b[0mhandle\u001b[0m\u001b[0;34m.\u001b[0m\u001b[0mclose\u001b[0m\u001b[0;34m(\u001b[0m\u001b[0;34m)\u001b[0m\u001b[0;34m\u001b[0m\u001b[0;34m\u001b[0m\u001b[0m\n",
      "\u001b[0;32m~/opt/anaconda3/lib/python3.8/site-packages/Bio/Entrez/__init__.py\u001b[0m in \u001b[0;36mesearch\u001b[0;34m(db, term, **keywds)\u001b[0m\n\u001b[1;32m    240\u001b[0m     \u001b[0mvariables\u001b[0m \u001b[0;34m=\u001b[0m \u001b[0;34m{\u001b[0m\u001b[0;34m\"db\"\u001b[0m\u001b[0;34m:\u001b[0m \u001b[0mdb\u001b[0m\u001b[0;34m,\u001b[0m \u001b[0;34m\"term\"\u001b[0m\u001b[0;34m:\u001b[0m \u001b[0mterm\u001b[0m\u001b[0;34m}\u001b[0m\u001b[0;34m\u001b[0m\u001b[0;34m\u001b[0m\u001b[0m\n\u001b[1;32m    241\u001b[0m     \u001b[0mvariables\u001b[0m\u001b[0;34m.\u001b[0m\u001b[0mupdate\u001b[0m\u001b[0;34m(\u001b[0m\u001b[0mkeywds\u001b[0m\u001b[0;34m)\u001b[0m\u001b[0;34m\u001b[0m\u001b[0;34m\u001b[0m\u001b[0m\n\u001b[0;32m--> 242\u001b[0;31m     \u001b[0;32mreturn\u001b[0m \u001b[0m_open\u001b[0m\u001b[0;34m(\u001b[0m\u001b[0mcgi\u001b[0m\u001b[0;34m,\u001b[0m \u001b[0mvariables\u001b[0m\u001b[0;34m)\u001b[0m\u001b[0;34m\u001b[0m\u001b[0;34m\u001b[0m\u001b[0m\n\u001b[0m\u001b[1;32m    243\u001b[0m \u001b[0;34m\u001b[0m\u001b[0m\n\u001b[1;32m    244\u001b[0m \u001b[0;34m\u001b[0m\u001b[0m\n",
      "\u001b[0;32m~/opt/anaconda3/lib/python3.8/site-packages/Bio/Entrez/__init__.py\u001b[0m in \u001b[0;36m_open\u001b[0;34m(cgi, params, post, ecitmatch)\u001b[0m\n\u001b[1;32m    604\u001b[0m                 \u001b[0mhandle\u001b[0m \u001b[0;34m=\u001b[0m \u001b[0murlopen\u001b[0m\u001b[0;34m(\u001b[0m\u001b[0mcgi\u001b[0m\u001b[0;34m,\u001b[0m \u001b[0mdata\u001b[0m\u001b[0;34m=\u001b[0m\u001b[0moptions\u001b[0m\u001b[0;34m.\u001b[0m\u001b[0mencode\u001b[0m\u001b[0;34m(\u001b[0m\u001b[0;34m\"utf8\"\u001b[0m\u001b[0;34m)\u001b[0m\u001b[0;34m)\u001b[0m\u001b[0;34m\u001b[0m\u001b[0;34m\u001b[0m\u001b[0m\n\u001b[1;32m    605\u001b[0m             \u001b[0;32melse\u001b[0m\u001b[0;34m:\u001b[0m\u001b[0;34m\u001b[0m\u001b[0;34m\u001b[0m\u001b[0m\n\u001b[0;32m--> 606\u001b[0;31m                 \u001b[0mhandle\u001b[0m \u001b[0;34m=\u001b[0m \u001b[0murlopen\u001b[0m\u001b[0;34m(\u001b[0m\u001b[0mcgi\u001b[0m\u001b[0;34m)\u001b[0m\u001b[0;34m\u001b[0m\u001b[0;34m\u001b[0m\u001b[0m\n\u001b[0m\u001b[1;32m    607\u001b[0m         \u001b[0;32mexcept\u001b[0m \u001b[0mHTTPError\u001b[0m \u001b[0;32mas\u001b[0m \u001b[0mexception\u001b[0m\u001b[0;34m:\u001b[0m\u001b[0;34m\u001b[0m\u001b[0;34m\u001b[0m\u001b[0m\n\u001b[1;32m    608\u001b[0m             \u001b[0;31m# Reraise if the final try fails\u001b[0m\u001b[0;34m\u001b[0m\u001b[0;34m\u001b[0m\u001b[0;34m\u001b[0m\u001b[0m\n",
      "\u001b[0;32m~/opt/anaconda3/lib/python3.8/urllib/request.py\u001b[0m in \u001b[0;36murlopen\u001b[0;34m(url, data, timeout, cafile, capath, cadefault, context)\u001b[0m\n\u001b[1;32m    220\u001b[0m     \u001b[0;32melse\u001b[0m\u001b[0;34m:\u001b[0m\u001b[0;34m\u001b[0m\u001b[0;34m\u001b[0m\u001b[0m\n\u001b[1;32m    221\u001b[0m         \u001b[0mopener\u001b[0m \u001b[0;34m=\u001b[0m \u001b[0m_opener\u001b[0m\u001b[0;34m\u001b[0m\u001b[0;34m\u001b[0m\u001b[0m\n\u001b[0;32m--> 222\u001b[0;31m     \u001b[0;32mreturn\u001b[0m \u001b[0mopener\u001b[0m\u001b[0;34m.\u001b[0m\u001b[0mopen\u001b[0m\u001b[0;34m(\u001b[0m\u001b[0murl\u001b[0m\u001b[0;34m,\u001b[0m \u001b[0mdata\u001b[0m\u001b[0;34m,\u001b[0m \u001b[0mtimeout\u001b[0m\u001b[0;34m)\u001b[0m\u001b[0;34m\u001b[0m\u001b[0;34m\u001b[0m\u001b[0m\n\u001b[0m\u001b[1;32m    223\u001b[0m \u001b[0;34m\u001b[0m\u001b[0m\n\u001b[1;32m    224\u001b[0m \u001b[0;32mdef\u001b[0m \u001b[0minstall_opener\u001b[0m\u001b[0;34m(\u001b[0m\u001b[0mopener\u001b[0m\u001b[0;34m)\u001b[0m\u001b[0;34m:\u001b[0m\u001b[0;34m\u001b[0m\u001b[0;34m\u001b[0m\u001b[0m\n",
      "\u001b[0;32m~/opt/anaconda3/lib/python3.8/urllib/request.py\u001b[0m in \u001b[0;36mopen\u001b[0;34m(self, fullurl, data, timeout)\u001b[0m\n\u001b[1;32m    523\u001b[0m \u001b[0;34m\u001b[0m\u001b[0m\n\u001b[1;32m    524\u001b[0m         \u001b[0msys\u001b[0m\u001b[0;34m.\u001b[0m\u001b[0maudit\u001b[0m\u001b[0;34m(\u001b[0m\u001b[0;34m'urllib.Request'\u001b[0m\u001b[0;34m,\u001b[0m \u001b[0mreq\u001b[0m\u001b[0;34m.\u001b[0m\u001b[0mfull_url\u001b[0m\u001b[0;34m,\u001b[0m \u001b[0mreq\u001b[0m\u001b[0;34m.\u001b[0m\u001b[0mdata\u001b[0m\u001b[0;34m,\u001b[0m \u001b[0mreq\u001b[0m\u001b[0;34m.\u001b[0m\u001b[0mheaders\u001b[0m\u001b[0;34m,\u001b[0m \u001b[0mreq\u001b[0m\u001b[0;34m.\u001b[0m\u001b[0mget_method\u001b[0m\u001b[0;34m(\u001b[0m\u001b[0;34m)\u001b[0m\u001b[0;34m)\u001b[0m\u001b[0;34m\u001b[0m\u001b[0;34m\u001b[0m\u001b[0m\n\u001b[0;32m--> 525\u001b[0;31m         \u001b[0mresponse\u001b[0m \u001b[0;34m=\u001b[0m \u001b[0mself\u001b[0m\u001b[0;34m.\u001b[0m\u001b[0m_open\u001b[0m\u001b[0;34m(\u001b[0m\u001b[0mreq\u001b[0m\u001b[0;34m,\u001b[0m \u001b[0mdata\u001b[0m\u001b[0;34m)\u001b[0m\u001b[0;34m\u001b[0m\u001b[0;34m\u001b[0m\u001b[0m\n\u001b[0m\u001b[1;32m    526\u001b[0m \u001b[0;34m\u001b[0m\u001b[0m\n\u001b[1;32m    527\u001b[0m         \u001b[0;31m# post-process response\u001b[0m\u001b[0;34m\u001b[0m\u001b[0;34m\u001b[0m\u001b[0;34m\u001b[0m\u001b[0m\n",
      "\u001b[0;32m~/opt/anaconda3/lib/python3.8/urllib/request.py\u001b[0m in \u001b[0;36m_open\u001b[0;34m(self, req, data)\u001b[0m\n\u001b[1;32m    540\u001b[0m \u001b[0;34m\u001b[0m\u001b[0m\n\u001b[1;32m    541\u001b[0m         \u001b[0mprotocol\u001b[0m \u001b[0;34m=\u001b[0m \u001b[0mreq\u001b[0m\u001b[0;34m.\u001b[0m\u001b[0mtype\u001b[0m\u001b[0;34m\u001b[0m\u001b[0;34m\u001b[0m\u001b[0m\n\u001b[0;32m--> 542\u001b[0;31m         result = self._call_chain(self.handle_open, protocol, protocol +\n\u001b[0m\u001b[1;32m    543\u001b[0m                                   '_open', req)\n\u001b[1;32m    544\u001b[0m         \u001b[0;32mif\u001b[0m \u001b[0mresult\u001b[0m\u001b[0;34m:\u001b[0m\u001b[0;34m\u001b[0m\u001b[0;34m\u001b[0m\u001b[0m\n",
      "\u001b[0;32m~/opt/anaconda3/lib/python3.8/urllib/request.py\u001b[0m in \u001b[0;36m_call_chain\u001b[0;34m(self, chain, kind, meth_name, *args)\u001b[0m\n\u001b[1;32m    500\u001b[0m         \u001b[0;32mfor\u001b[0m \u001b[0mhandler\u001b[0m \u001b[0;32min\u001b[0m \u001b[0mhandlers\u001b[0m\u001b[0;34m:\u001b[0m\u001b[0;34m\u001b[0m\u001b[0;34m\u001b[0m\u001b[0m\n\u001b[1;32m    501\u001b[0m             \u001b[0mfunc\u001b[0m \u001b[0;34m=\u001b[0m \u001b[0mgetattr\u001b[0m\u001b[0;34m(\u001b[0m\u001b[0mhandler\u001b[0m\u001b[0;34m,\u001b[0m \u001b[0mmeth_name\u001b[0m\u001b[0;34m)\u001b[0m\u001b[0;34m\u001b[0m\u001b[0;34m\u001b[0m\u001b[0m\n\u001b[0;32m--> 502\u001b[0;31m             \u001b[0mresult\u001b[0m \u001b[0;34m=\u001b[0m \u001b[0mfunc\u001b[0m\u001b[0;34m(\u001b[0m\u001b[0;34m*\u001b[0m\u001b[0margs\u001b[0m\u001b[0;34m)\u001b[0m\u001b[0;34m\u001b[0m\u001b[0;34m\u001b[0m\u001b[0m\n\u001b[0m\u001b[1;32m    503\u001b[0m             \u001b[0;32mif\u001b[0m \u001b[0mresult\u001b[0m \u001b[0;32mis\u001b[0m \u001b[0;32mnot\u001b[0m \u001b[0;32mNone\u001b[0m\u001b[0;34m:\u001b[0m\u001b[0;34m\u001b[0m\u001b[0;34m\u001b[0m\u001b[0m\n\u001b[1;32m    504\u001b[0m                 \u001b[0;32mreturn\u001b[0m \u001b[0mresult\u001b[0m\u001b[0;34m\u001b[0m\u001b[0;34m\u001b[0m\u001b[0m\n",
      "\u001b[0;32m~/opt/anaconda3/lib/python3.8/urllib/request.py\u001b[0m in \u001b[0;36mhttps_open\u001b[0;34m(self, req)\u001b[0m\n\u001b[1;32m   1395\u001b[0m \u001b[0;34m\u001b[0m\u001b[0m\n\u001b[1;32m   1396\u001b[0m         \u001b[0;32mdef\u001b[0m \u001b[0mhttps_open\u001b[0m\u001b[0;34m(\u001b[0m\u001b[0mself\u001b[0m\u001b[0;34m,\u001b[0m \u001b[0mreq\u001b[0m\u001b[0;34m)\u001b[0m\u001b[0;34m:\u001b[0m\u001b[0;34m\u001b[0m\u001b[0;34m\u001b[0m\u001b[0m\n\u001b[0;32m-> 1397\u001b[0;31m             return self.do_open(http.client.HTTPSConnection, req,\n\u001b[0m\u001b[1;32m   1398\u001b[0m                 context=self._context, check_hostname=self._check_hostname)\n\u001b[1;32m   1399\u001b[0m \u001b[0;34m\u001b[0m\u001b[0m\n",
      "\u001b[0;32m~/opt/anaconda3/lib/python3.8/urllib/request.py\u001b[0m in \u001b[0;36mdo_open\u001b[0;34m(self, http_class, req, **http_conn_args)\u001b[0m\n\u001b[1;32m   1352\u001b[0m         \u001b[0;32mtry\u001b[0m\u001b[0;34m:\u001b[0m\u001b[0;34m\u001b[0m\u001b[0;34m\u001b[0m\u001b[0m\n\u001b[1;32m   1353\u001b[0m             \u001b[0;32mtry\u001b[0m\u001b[0;34m:\u001b[0m\u001b[0;34m\u001b[0m\u001b[0;34m\u001b[0m\u001b[0m\n\u001b[0;32m-> 1354\u001b[0;31m                 h.request(req.get_method(), req.selector, req.data, headers,\n\u001b[0m\u001b[1;32m   1355\u001b[0m                           encode_chunked=req.has_header('Transfer-encoding'))\n\u001b[1;32m   1356\u001b[0m             \u001b[0;32mexcept\u001b[0m \u001b[0mOSError\u001b[0m \u001b[0;32mas\u001b[0m \u001b[0merr\u001b[0m\u001b[0;34m:\u001b[0m \u001b[0;31m# timeout error\u001b[0m\u001b[0;34m\u001b[0m\u001b[0;34m\u001b[0m\u001b[0m\n",
      "\u001b[0;32m~/opt/anaconda3/lib/python3.8/http/client.py\u001b[0m in \u001b[0;36mrequest\u001b[0;34m(self, method, url, body, headers, encode_chunked)\u001b[0m\n\u001b[1;32m   1253\u001b[0m                 encode_chunked=False):\n\u001b[1;32m   1254\u001b[0m         \u001b[0;34m\"\"\"Send a complete request to the server.\"\"\"\u001b[0m\u001b[0;34m\u001b[0m\u001b[0;34m\u001b[0m\u001b[0m\n\u001b[0;32m-> 1255\u001b[0;31m         \u001b[0mself\u001b[0m\u001b[0;34m.\u001b[0m\u001b[0m_send_request\u001b[0m\u001b[0;34m(\u001b[0m\u001b[0mmethod\u001b[0m\u001b[0;34m,\u001b[0m \u001b[0murl\u001b[0m\u001b[0;34m,\u001b[0m \u001b[0mbody\u001b[0m\u001b[0;34m,\u001b[0m \u001b[0mheaders\u001b[0m\u001b[0;34m,\u001b[0m \u001b[0mencode_chunked\u001b[0m\u001b[0;34m)\u001b[0m\u001b[0;34m\u001b[0m\u001b[0;34m\u001b[0m\u001b[0m\n\u001b[0m\u001b[1;32m   1256\u001b[0m \u001b[0;34m\u001b[0m\u001b[0m\n\u001b[1;32m   1257\u001b[0m     \u001b[0;32mdef\u001b[0m \u001b[0m_send_request\u001b[0m\u001b[0;34m(\u001b[0m\u001b[0mself\u001b[0m\u001b[0;34m,\u001b[0m \u001b[0mmethod\u001b[0m\u001b[0;34m,\u001b[0m \u001b[0murl\u001b[0m\u001b[0;34m,\u001b[0m \u001b[0mbody\u001b[0m\u001b[0;34m,\u001b[0m \u001b[0mheaders\u001b[0m\u001b[0;34m,\u001b[0m \u001b[0mencode_chunked\u001b[0m\u001b[0;34m)\u001b[0m\u001b[0;34m:\u001b[0m\u001b[0;34m\u001b[0m\u001b[0;34m\u001b[0m\u001b[0m\n",
      "\u001b[0;32m~/opt/anaconda3/lib/python3.8/http/client.py\u001b[0m in \u001b[0;36m_send_request\u001b[0;34m(self, method, url, body, headers, encode_chunked)\u001b[0m\n\u001b[1;32m   1299\u001b[0m             \u001b[0;31m# default charset of iso-8859-1.\u001b[0m\u001b[0;34m\u001b[0m\u001b[0;34m\u001b[0m\u001b[0;34m\u001b[0m\u001b[0m\n\u001b[1;32m   1300\u001b[0m             \u001b[0mbody\u001b[0m \u001b[0;34m=\u001b[0m \u001b[0m_encode\u001b[0m\u001b[0;34m(\u001b[0m\u001b[0mbody\u001b[0m\u001b[0;34m,\u001b[0m \u001b[0;34m'body'\u001b[0m\u001b[0;34m)\u001b[0m\u001b[0;34m\u001b[0m\u001b[0;34m\u001b[0m\u001b[0m\n\u001b[0;32m-> 1301\u001b[0;31m         \u001b[0mself\u001b[0m\u001b[0;34m.\u001b[0m\u001b[0mendheaders\u001b[0m\u001b[0;34m(\u001b[0m\u001b[0mbody\u001b[0m\u001b[0;34m,\u001b[0m \u001b[0mencode_chunked\u001b[0m\u001b[0;34m=\u001b[0m\u001b[0mencode_chunked\u001b[0m\u001b[0;34m)\u001b[0m\u001b[0;34m\u001b[0m\u001b[0;34m\u001b[0m\u001b[0m\n\u001b[0m\u001b[1;32m   1302\u001b[0m \u001b[0;34m\u001b[0m\u001b[0m\n\u001b[1;32m   1303\u001b[0m     \u001b[0;32mdef\u001b[0m \u001b[0mgetresponse\u001b[0m\u001b[0;34m(\u001b[0m\u001b[0mself\u001b[0m\u001b[0;34m)\u001b[0m\u001b[0;34m:\u001b[0m\u001b[0;34m\u001b[0m\u001b[0;34m\u001b[0m\u001b[0m\n",
      "\u001b[0;32m~/opt/anaconda3/lib/python3.8/http/client.py\u001b[0m in \u001b[0;36mendheaders\u001b[0;34m(self, message_body, encode_chunked)\u001b[0m\n\u001b[1;32m   1248\u001b[0m         \u001b[0;32melse\u001b[0m\u001b[0;34m:\u001b[0m\u001b[0;34m\u001b[0m\u001b[0;34m\u001b[0m\u001b[0m\n\u001b[1;32m   1249\u001b[0m             \u001b[0;32mraise\u001b[0m \u001b[0mCannotSendHeader\u001b[0m\u001b[0;34m(\u001b[0m\u001b[0;34m)\u001b[0m\u001b[0;34m\u001b[0m\u001b[0;34m\u001b[0m\u001b[0m\n\u001b[0;32m-> 1250\u001b[0;31m         \u001b[0mself\u001b[0m\u001b[0;34m.\u001b[0m\u001b[0m_send_output\u001b[0m\u001b[0;34m(\u001b[0m\u001b[0mmessage_body\u001b[0m\u001b[0;34m,\u001b[0m \u001b[0mencode_chunked\u001b[0m\u001b[0;34m=\u001b[0m\u001b[0mencode_chunked\u001b[0m\u001b[0;34m)\u001b[0m\u001b[0;34m\u001b[0m\u001b[0;34m\u001b[0m\u001b[0m\n\u001b[0m\u001b[1;32m   1251\u001b[0m \u001b[0;34m\u001b[0m\u001b[0m\n\u001b[1;32m   1252\u001b[0m     def request(self, method, url, body=None, headers={}, *,\n",
      "\u001b[0;32m~/opt/anaconda3/lib/python3.8/http/client.py\u001b[0m in \u001b[0;36m_send_output\u001b[0;34m(self, message_body, encode_chunked)\u001b[0m\n\u001b[1;32m   1008\u001b[0m         \u001b[0mmsg\u001b[0m \u001b[0;34m=\u001b[0m \u001b[0;34mb\"\\r\\n\"\u001b[0m\u001b[0;34m.\u001b[0m\u001b[0mjoin\u001b[0m\u001b[0;34m(\u001b[0m\u001b[0mself\u001b[0m\u001b[0;34m.\u001b[0m\u001b[0m_buffer\u001b[0m\u001b[0;34m)\u001b[0m\u001b[0;34m\u001b[0m\u001b[0;34m\u001b[0m\u001b[0m\n\u001b[1;32m   1009\u001b[0m         \u001b[0;32mdel\u001b[0m \u001b[0mself\u001b[0m\u001b[0;34m.\u001b[0m\u001b[0m_buffer\u001b[0m\u001b[0;34m[\u001b[0m\u001b[0;34m:\u001b[0m\u001b[0;34m]\u001b[0m\u001b[0;34m\u001b[0m\u001b[0;34m\u001b[0m\u001b[0m\n\u001b[0;32m-> 1010\u001b[0;31m         \u001b[0mself\u001b[0m\u001b[0;34m.\u001b[0m\u001b[0msend\u001b[0m\u001b[0;34m(\u001b[0m\u001b[0mmsg\u001b[0m\u001b[0;34m)\u001b[0m\u001b[0;34m\u001b[0m\u001b[0;34m\u001b[0m\u001b[0m\n\u001b[0m\u001b[1;32m   1011\u001b[0m \u001b[0;34m\u001b[0m\u001b[0m\n\u001b[1;32m   1012\u001b[0m         \u001b[0;32mif\u001b[0m \u001b[0mmessage_body\u001b[0m \u001b[0;32mis\u001b[0m \u001b[0;32mnot\u001b[0m \u001b[0;32mNone\u001b[0m\u001b[0;34m:\u001b[0m\u001b[0;34m\u001b[0m\u001b[0;34m\u001b[0m\u001b[0m\n",
      "\u001b[0;32m~/opt/anaconda3/lib/python3.8/http/client.py\u001b[0m in \u001b[0;36msend\u001b[0;34m(self, data)\u001b[0m\n\u001b[1;32m    948\u001b[0m         \u001b[0;32mif\u001b[0m \u001b[0mself\u001b[0m\u001b[0;34m.\u001b[0m\u001b[0msock\u001b[0m \u001b[0;32mis\u001b[0m \u001b[0;32mNone\u001b[0m\u001b[0;34m:\u001b[0m\u001b[0;34m\u001b[0m\u001b[0;34m\u001b[0m\u001b[0m\n\u001b[1;32m    949\u001b[0m             \u001b[0;32mif\u001b[0m \u001b[0mself\u001b[0m\u001b[0;34m.\u001b[0m\u001b[0mauto_open\u001b[0m\u001b[0;34m:\u001b[0m\u001b[0;34m\u001b[0m\u001b[0;34m\u001b[0m\u001b[0m\n\u001b[0;32m--> 950\u001b[0;31m                 \u001b[0mself\u001b[0m\u001b[0;34m.\u001b[0m\u001b[0mconnect\u001b[0m\u001b[0;34m(\u001b[0m\u001b[0;34m)\u001b[0m\u001b[0;34m\u001b[0m\u001b[0;34m\u001b[0m\u001b[0m\n\u001b[0m\u001b[1;32m    951\u001b[0m             \u001b[0;32melse\u001b[0m\u001b[0;34m:\u001b[0m\u001b[0;34m\u001b[0m\u001b[0;34m\u001b[0m\u001b[0m\n\u001b[1;32m    952\u001b[0m                 \u001b[0;32mraise\u001b[0m \u001b[0mNotConnected\u001b[0m\u001b[0;34m(\u001b[0m\u001b[0;34m)\u001b[0m\u001b[0;34m\u001b[0m\u001b[0;34m\u001b[0m\u001b[0m\n",
      "\u001b[0;32m~/opt/anaconda3/lib/python3.8/http/client.py\u001b[0m in \u001b[0;36mconnect\u001b[0;34m(self)\u001b[0m\n\u001b[1;32m   1422\u001b[0m                 \u001b[0mserver_hostname\u001b[0m \u001b[0;34m=\u001b[0m \u001b[0mself\u001b[0m\u001b[0;34m.\u001b[0m\u001b[0mhost\u001b[0m\u001b[0;34m\u001b[0m\u001b[0;34m\u001b[0m\u001b[0m\n\u001b[1;32m   1423\u001b[0m \u001b[0;34m\u001b[0m\u001b[0m\n\u001b[0;32m-> 1424\u001b[0;31m             self.sock = self._context.wrap_socket(self.sock,\n\u001b[0m\u001b[1;32m   1425\u001b[0m                                                   server_hostname=server_hostname)\n\u001b[1;32m   1426\u001b[0m \u001b[0;34m\u001b[0m\u001b[0m\n",
      "\u001b[0;32m~/opt/anaconda3/lib/python3.8/ssl.py\u001b[0m in \u001b[0;36mwrap_socket\u001b[0;34m(self, sock, server_side, do_handshake_on_connect, suppress_ragged_eofs, server_hostname, session)\u001b[0m\n\u001b[1;32m    498\u001b[0m         \u001b[0;31m# SSLSocket class handles server_hostname encoding before it calls\u001b[0m\u001b[0;34m\u001b[0m\u001b[0;34m\u001b[0m\u001b[0;34m\u001b[0m\u001b[0m\n\u001b[1;32m    499\u001b[0m         \u001b[0;31m# ctx._wrap_socket()\u001b[0m\u001b[0;34m\u001b[0m\u001b[0;34m\u001b[0m\u001b[0;34m\u001b[0m\u001b[0m\n\u001b[0;32m--> 500\u001b[0;31m         return self.sslsocket_class._create(\n\u001b[0m\u001b[1;32m    501\u001b[0m             \u001b[0msock\u001b[0m\u001b[0;34m=\u001b[0m\u001b[0msock\u001b[0m\u001b[0;34m,\u001b[0m\u001b[0;34m\u001b[0m\u001b[0;34m\u001b[0m\u001b[0m\n\u001b[1;32m    502\u001b[0m             \u001b[0mserver_side\u001b[0m\u001b[0;34m=\u001b[0m\u001b[0mserver_side\u001b[0m\u001b[0;34m,\u001b[0m\u001b[0;34m\u001b[0m\u001b[0;34m\u001b[0m\u001b[0m\n",
      "\u001b[0;32m~/opt/anaconda3/lib/python3.8/ssl.py\u001b[0m in \u001b[0;36m_create\u001b[0;34m(cls, sock, server_side, do_handshake_on_connect, suppress_ragged_eofs, server_hostname, context, session)\u001b[0m\n\u001b[1;32m   1038\u001b[0m                         \u001b[0;31m# non-blocking\u001b[0m\u001b[0;34m\u001b[0m\u001b[0;34m\u001b[0m\u001b[0;34m\u001b[0m\u001b[0m\n\u001b[1;32m   1039\u001b[0m                         \u001b[0;32mraise\u001b[0m \u001b[0mValueError\u001b[0m\u001b[0;34m(\u001b[0m\u001b[0;34m\"do_handshake_on_connect should not be specified for non-blocking sockets\"\u001b[0m\u001b[0;34m)\u001b[0m\u001b[0;34m\u001b[0m\u001b[0;34m\u001b[0m\u001b[0m\n\u001b[0;32m-> 1040\u001b[0;31m                     \u001b[0mself\u001b[0m\u001b[0;34m.\u001b[0m\u001b[0mdo_handshake\u001b[0m\u001b[0;34m(\u001b[0m\u001b[0;34m)\u001b[0m\u001b[0;34m\u001b[0m\u001b[0;34m\u001b[0m\u001b[0m\n\u001b[0m\u001b[1;32m   1041\u001b[0m             \u001b[0;32mexcept\u001b[0m \u001b[0;34m(\u001b[0m\u001b[0mOSError\u001b[0m\u001b[0;34m,\u001b[0m \u001b[0mValueError\u001b[0m\u001b[0;34m)\u001b[0m\u001b[0;34m:\u001b[0m\u001b[0;34m\u001b[0m\u001b[0;34m\u001b[0m\u001b[0m\n\u001b[1;32m   1042\u001b[0m                 \u001b[0mself\u001b[0m\u001b[0;34m.\u001b[0m\u001b[0mclose\u001b[0m\u001b[0;34m(\u001b[0m\u001b[0;34m)\u001b[0m\u001b[0;34m\u001b[0m\u001b[0;34m\u001b[0m\u001b[0m\n",
      "\u001b[0;32m~/opt/anaconda3/lib/python3.8/ssl.py\u001b[0m in \u001b[0;36mdo_handshake\u001b[0;34m(self, block)\u001b[0m\n\u001b[1;32m   1307\u001b[0m             \u001b[0;32mif\u001b[0m \u001b[0mtimeout\u001b[0m \u001b[0;34m==\u001b[0m \u001b[0;36m0.0\u001b[0m \u001b[0;32mand\u001b[0m \u001b[0mblock\u001b[0m\u001b[0;34m:\u001b[0m\u001b[0;34m\u001b[0m\u001b[0;34m\u001b[0m\u001b[0m\n\u001b[1;32m   1308\u001b[0m                 \u001b[0mself\u001b[0m\u001b[0;34m.\u001b[0m\u001b[0msettimeout\u001b[0m\u001b[0;34m(\u001b[0m\u001b[0;32mNone\u001b[0m\u001b[0;34m)\u001b[0m\u001b[0;34m\u001b[0m\u001b[0;34m\u001b[0m\u001b[0m\n\u001b[0;32m-> 1309\u001b[0;31m             \u001b[0mself\u001b[0m\u001b[0;34m.\u001b[0m\u001b[0m_sslobj\u001b[0m\u001b[0;34m.\u001b[0m\u001b[0mdo_handshake\u001b[0m\u001b[0;34m(\u001b[0m\u001b[0;34m)\u001b[0m\u001b[0;34m\u001b[0m\u001b[0;34m\u001b[0m\u001b[0m\n\u001b[0m\u001b[1;32m   1310\u001b[0m         \u001b[0;32mfinally\u001b[0m\u001b[0;34m:\u001b[0m\u001b[0;34m\u001b[0m\u001b[0;34m\u001b[0m\u001b[0m\n\u001b[1;32m   1311\u001b[0m             \u001b[0mself\u001b[0m\u001b[0;34m.\u001b[0m\u001b[0msettimeout\u001b[0m\u001b[0;34m(\u001b[0m\u001b[0mtimeout\u001b[0m\u001b[0;34m)\u001b[0m\u001b[0;34m\u001b[0m\u001b[0;34m\u001b[0m\u001b[0m\n",
      "\u001b[0;31mKeyboardInterrupt\u001b[0m: "
     ]
    }
   ],
   "source": [
    "# can we link the uids to the heading uid? how to know which level is what we need?\n",
    "start_time = time.time()\n",
    "database = \"mesh\"\n",
    "Database = database.upper()+\":\"\n",
    "uid_lists = list()\n",
    "cnt = 0\n",
    "\n",
    "for e in encodings:\n",
    "#     print(e)\n",
    "#     print(query_enc.get(e))\n",
    "    handle = Entrez.esearch(db=database, term=e)  # handle is a wrapper around text information\n",
    "    record = Entrez.read(handle)\n",
    "    handle.close()\n",
    "    count, idlist = record[\"Count\"], record[\"IdList\"]\n",
    "    \n",
    "    # turn the MeSH id into the format in the PTC identifier\n",
    "    uid_list = [Database+chr(int(i[:2]))+i[2:] for i in idlist if len(i) >= 8]        \n",
    "    uid_lists.append(uid_list)\n",
    "    \n",
    "#     print(count)\n",
    "#     print(idlist)\n",
    "#     print(len(uid_list))\n",
    "#     print(uid_list)\n",
    "#     print(\"-----------\")\n",
    "    cnt += 1\n",
    "    if cnt % 100 == 0:\n",
    "        print(\"Processing %s uids\" % cnt)\n",
    "\n",
    "elapsed_time = time.time() - start_time\n",
    "print(\"Time of running the codes:\", round(elapsed_time,2), \"secs.\")"
   ]
  },
  {
   "cell_type": "code",
   "execution_count": 49,
   "id": "73de2b8a",
   "metadata": {},
   "outputs": [
    {
     "data": {
      "text/plain": [
       "305"
      ]
     },
     "execution_count": 49,
     "metadata": {},
     "output_type": "execute_result"
    }
   ],
   "source": [
    "len(uid_lists)"
   ]
  },
  {
   "cell_type": "code",
   "execution_count": 50,
   "id": "eb29006e",
   "metadata": {
    "scrolled": true
   },
   "outputs": [
    {
     "name": "stdout",
     "output_type": "stream",
     "text": [
      "[['MESH:D051057', 'MESH:C532657', 'MESH:C516104', 'MESH:C514862', 'MESH:C508191', 'MESH:C494920', 'MESH:C494918', 'MESH:C494917', 'MESH:C484523', 'MESH:C417562', 'MESH:C074500'], [], [], ['MESH:C452619'], ['MESH:C111406', 'MESH:C067262'], ['MESH:C525357', 'MESH:C514813'], ['MESH:D020890', 'MESH:C551996', 'MESH:C490582', 'MESH:C490581', 'MESH:C490580', 'MESH:C117881', 'MESH:C094131'], [], [], ['MESH:C580705', 'MESH:C526296', 'MESH:C526295', 'MESH:C526294', 'MESH:C526292', 'MESH:C072216'], [], [], [], ['MESH:C547408', 'MESH:C510282', 'MESH:C049312'], [], ['MESH:C559639', 'MESH:C542006', 'MESH:C524492', 'MESH:C435197', 'MESH:C121799', 'MESH:C103631', 'MESH:C098681', 'MESH:C070440'], ['MESH:D056566', 'MESH:C525046', 'MESH:C466093'], ['MESH:D060086', 'MESH:D059038', 'MESH:D055008', 'MESH:D053260', 'MESH:D051039', 'MESH:D046936', 'MESH:D046009', 'MESH:D044383', 'MESH:D032407', 'MESH:D032324', 'MESH:D032304', 'MESH:D032107', 'MESH:D031965', 'MESH:D031885', 'MESH:D031881', 'MESH:D031329', 'MESH:D031324', 'MESH:D031301', 'MESH:D031186', 'MESH:D030017'], ['MESH:D015988'], ['MESH:C548798', 'MESH:C499786', 'MESH:C491745', 'MESH:C115785', 'MESH:C113062', 'MESH:C111337', 'MESH:C103773'], [], [], ['MESH:D020250', 'MESH:D014840', 'MESH:D014839', 'MESH:D006939', 'MESH:C564023', 'MESH:C564022', 'MESH:C537562', 'MESH:C536228'], [], ['MESH:D001526'], ['MESH:D006179'], ['MESH:D065726'], ['MESH:D050796', 'MESH:D022782', 'MESH:D019947', 'MESH:D015850', 'MESH:C577686', 'MESH:C565798', 'MESH:C545012', 'MESH:C508600', 'MESH:C497252', 'MESH:C104543', 'MESH:C089276', 'MESH:C081484', 'MESH:C070649', 'MESH:C064058'], [], ['MESH:R014151', 'MESH:D060805', 'MESH:D016854', 'MESH:D014151', 'MESH:D013732', 'MESH:D008347', 'MESH:D001010', 'MESH:D001009', 'MESH:D001008', 'MESH:D001007'], [], ['MESH:D009483'], ['MESH:D020803'], ['MESH:D066328', 'MESH:D020267', 'MESH:D017072', 'MESH:D003342', 'MESH:C489931', 'MESH:C489930', 'MESH:C488189', 'MESH:C486702', 'MESH:C442475'], [], ['MESH:C542005', 'MESH:C524778', 'MESH:C506812', 'MESH:C499524', 'MESH:C493231', 'MESH:C493230', 'MESH:C086055'], [], [], [], ['MESH:D006970'], ['MESH:C555477', 'MESH:C555476', 'MESH:C555475', 'MESH:C504269', 'MESH:C498623'], ['MESH:D020207', 'MESH:D020197', 'MESH:D016489', 'MESH:D006259'], ['MESH:D035503', 'MESH:D026801', 'MESH:D003160', 'MESH:D000883', 'MESH:D000717'], [], [], ['MESH:D051155', 'MESH:C568642', 'MESH:C568638', 'MESH:C524360', 'MESH:C495249', 'MESH:C495247', 'MESH:C495246', 'MESH:C495245', 'MESH:C492067', 'MESH:C492066', 'MESH:C413323', 'MESH:C400081', 'MESH:C116396', 'MESH:C115044'], ['MESH:D007037', 'MESH:D003409', 'MESH:C576976', 'MESH:C567935', 'MESH:C567123', 'MESH:C567034', 'MESH:C566852', 'MESH:C565705', 'MESH:C565605', 'MESH:C565604', 'MESH:C564766', 'MESH:C564608', 'MESH:C563206', 'MESH:C562771', 'MESH:C562770', 'MESH:C562769', 'MESH:C562768', 'MESH:C537901', 'MESH:C537694', 'MESH:C536721'], ['MESH:D051672', 'MESH:C497017', 'MESH:C497016', 'MESH:C497015'], ['MESH:C584079', 'MESH:C547120', 'MESH:C442341', 'MESH:C055269', 'MESH:C005810'], ['MESH:D020197', 'MESH:D016489', 'MESH:D006259'], [], ['MESH:C540442', 'MESH:C510550', 'MESH:C492951', 'MESH:C467728'], [], [], ['MESH:D017029', 'MESH:D012640'], [], [], ['MESH:D009714', 'MESH:C516477', 'MESH:C484605', 'MESH:C108190'], [], ['MESH:D051275', 'MESH:C524856', 'MESH:C495694', 'MESH:C495693', 'MESH:C495692', 'MESH:C480633'], ['MESH:D010296'], ['MESH:D051076', 'MESH:C539297', 'MESH:C494964', 'MESH:C494963', 'MESH:C494961', 'MESH:C494960', 'MESH:C494957', 'MESH:C491468', 'MESH:C490512', 'MESH:C490511', 'MESH:C484351', 'MESH:C115785', 'MESH:C106957', 'MESH:C100882', 'MESH:C097281', 'MESH:C092830'], ['MESH:D056654', 'MESH:D056651', 'MESH:D056547', 'MESH:D020712', 'MESH:D020534', 'MESH:D006624'], ['MESH:D053592', 'MESH:D053450', 'MESH:D053449', 'MESH:D053422', 'MESH:D053362', 'MESH:D053340', 'MESH:D053338', 'MESH:D053330', 'MESH:D053326', 'MESH:D053320', 'MESH:D053319', 'MESH:D053308', 'MESH:D053301', 'MESH:D053300', 'MESH:D053285', 'MESH:D053282', 'MESH:D053278', 'MESH:D053265', 'MESH:D053264', 'MESH:D053262'], ['MESH:D056565', 'MESH:C521855', 'MESH:C474199', 'MESH:C447899', 'MESH:C418743', 'MESH:C097475'], ['MESH:D017463', 'MESH:C509991', 'MESH:C482970', 'MESH:C118252', 'MESH:C107019', 'MESH:C104085', 'MESH:C082885', 'MESH:C075060'], ['MESH:D054577', 'MESH:D019966', 'MESH:D016320', 'MESH:D015819', 'MESH:D015813', 'MESH:D014482'], [], [], ['MESH:C516584', 'MESH:C512285', 'MESH:C509255', 'MESH:C433676', 'MESH:C433675', 'MESH:C048233', 'MESH:C046528', 'MESH:C020415'], ['MESH:D020250', 'MESH:D009325', 'MESH:C564156', 'MESH:C071458'], ['MESH:D059907', 'MESH:D059906'], ['MESH:D009483'], [], ['MESH:D055879', 'MESH:D018577', 'MESH:C586472', 'MESH:C584675', 'MESH:C581092', 'MESH:C575028', 'MESH:C569304', 'MESH:C569303', 'MESH:C563425', 'MESH:C525653', 'MESH:C523638', 'MESH:C519883', 'MESH:C514817', 'MESH:C514545', 'MESH:C507325', 'MESH:C506928', 'MESH:C501301', 'MESH:C498578', 'MESH:C490694', 'MESH:C490693'], [], ['MESH:C470003'], ['MESH:D066263', 'MESH:D065098', 'MESH:D053860', 'MESH:D051100', 'MESH:D046690', 'MESH:D043222', 'MESH:D020734', 'MESH:D020532', 'MESH:D020267', 'MESH:D020149', 'MESH:D018780', 'MESH:D018726', 'MESH:D016631', 'MESH:D015632', 'MESH:D014927', 'MESH:D014202', 'MESH:D012642', 'MESH:D010891', 'MESH:D010479', 'MESH:D010302'], ['MESH:D054220', 'MESH:D002541', 'MESH:D002540', 'MESH:C047908'], ['MESH:C548080', 'MESH:C538137', 'MESH:C507433'], ['MESH:C584097', 'MESH:C581727'], [], [], ['MESH:D054592', 'MESH:C578054', 'MESH:C575069', 'MESH:C569963', 'MESH:C569962', 'MESH:C569016', 'MESH:C569015', 'MESH:C569014', 'MESH:C567584', 'MESH:C551965', 'MESH:C545959', 'MESH:C478060'], ['MESH:C581314', 'MESH:C562317', 'MESH:C527271', 'MESH:C419573', 'MESH:C101274', 'MESH:C076106'], ['MESH:D007175'], [], ['MESH:C585530', 'MESH:C585420', 'MESH:C584427', 'MESH:C584426', 'MESH:C583038', 'MESH:C578092', 'MESH:C574648', 'MESH:C574647', 'MESH:C569204', 'MESH:C561565', 'MESH:C555325', 'MESH:C555324', 'MESH:C551841', 'MESH:C532840', 'MESH:C509282', 'MESH:C509281', 'MESH:C509280'], [], ['MESH:D051028', 'MESH:C570227', 'MESH:C561462', 'MESH:C560419', 'MESH:C539791', 'MESH:C523829', 'MESH:C518281', 'MESH:C494828', 'MESH:C494827', 'MESH:C494826', 'MESH:C491862', 'MESH:C490015', 'MESH:C484209', 'MESH:C474007', 'MESH:C113548', 'MESH:C088008', 'MESH:C006175', 'MESH:C002886'], ['MESH:C496760', 'MESH:C496749'], ['MESH:D050177', 'MESH:D015992', 'MESH:D009767', 'MESH:D009765', 'MESH:C586999', 'MESH:C517715', 'MESH:C493485', 'MESH:C489421', 'MESH:C480542', 'MESH:C430284', 'MESH:C400328'], [], [], [], ['MESH:D048052', 'MESH:C499045'], [], ['MESH:D063268', 'MESH:C571165', 'MESH:C571163'], ['MESH:D065814', 'MESH:D006223', 'MESH:D002531', 'MESH:D002528', 'MESH:D002526', 'MESH:C567314', 'MESH:C492123', 'MESH:C492122', 'MESH:C491812', 'MESH:C491811', 'MESH:C491595', 'MESH:C491594', 'MESH:C491593', 'MESH:C418623', 'MESH:C100431', 'MESH:C029152'], [], ['MESH:C573094', 'MESH:C512398', 'MESH:C511819', 'MESH:C499980', 'MESH:C439003'], ['MESH:C565143', 'MESH:C564678', 'MESH:C512657', 'MESH:C512656', 'MESH:C437319'], ['MESH:D050988', 'MESH:C494808', 'MESH:C494807', 'MESH:C494706'], ['MESH:D003680'], ['MESH:D054390', 'MESH:D018945', 'MESH:D018932', 'MESH:C528578', 'MESH:C491768', 'MESH:C491766', 'MESH:C459449', 'MESH:C111835', 'MESH:C079489', 'MESH:C030011'], ['MESH:D006179'], ['MESH:D011503'], [], ['MESH:D057178', 'MESH:D018888', 'MESH:D018887', 'MESH:D018886', 'MESH:D009483', 'MESH:D009155', 'MESH:D007807', 'MESH:D001041', 'MESH:D001039', 'MESH:D001037', 'MESH:D000849', 'MESH:C536029'], ['MESH:D005829'], ['MESH:C530914', 'MESH:C491080', 'MESH:C407043', 'MESH:C109221', 'MESH:C101410'], ['MESH:C404498'], ['MESH:D020961'], [], [], ['MESH:C527077', 'MESH:C423142'], ['MESH:D017397'], ['MESH:D038263', 'MESH:D038262', 'MESH:D020526', 'MESH:D020295', 'MESH:D020203', 'MESH:D016057', 'MESH:D014717', 'MESH:D002546', 'MESH:D001933', 'MESH:C567009', 'MESH:C537159', 'MESH:C535397'], [], ['MESH:D051028', 'MESH:D051025', 'MESH:D051020', 'MESH:D050998', 'MESH:D019253', 'MESH:C588369', 'MESH:C587944', 'MESH:C582872', 'MESH:C579095', 'MESH:C576156', 'MESH:C553190', 'MESH:C543826', 'MESH:C534046', 'MESH:C530279', 'MESH:C514486', 'MESH:C513344', 'MESH:C512829', 'MESH:C508686', 'MESH:C505650', 'MESH:C505362'], ['MESH:C546592', 'MESH:C539582', 'MESH:C513481', 'MESH:C460107'], ['MESH:C576247', 'MESH:C526904', 'MESH:C523016', 'MESH:C449760', 'MESH:C102926'], ['MESH:D049268'], ['MESH:D018709', 'MESH:C095557'], [], ['MESH:D008487'], [], ['MESH:D052919', 'MESH:D017359', 'MESH:D016607', 'MESH:D015058', 'MESH:D013173', 'MESH:D012674', 'MESH:D011285', 'MESH:D011219', 'MESH:D010590', 'MESH:D008300', 'MESH:D007005', 'MESH:D004128', 'MESH:D003538', 'MESH:C540315', 'MESH:C415597', 'MESH:C073344', 'MESH:C059672', 'MESH:C059671'], [], ['MESH:C508584'], [], ['MESH:D006356'], [], ['MESH:D005862', 'MESH:D003221'], ['MESH:C582177'], ['MESH:C574775', 'MESH:C563181', 'MESH:C508137', 'MESH:C492004', 'MESH:C115163'], [], ['MESH:C510149', 'MESH:C469349'], ['MESH:D058068', 'MESH:D020162', 'MESH:D017246', 'MESH:D013344', 'MESH:D009472', 'MESH:D007729', 'MESH:D007625', 'MESH:D007562', 'MESH:D006816', 'MESH:D000690'], ['MESH:D053329', 'MESH:D053318', 'MESH:D026503', 'MESH:D001057', 'MESH:C579624', 'MESH:C536595', 'MESH:C524718', 'MESH:C512365', 'MESH:C504713', 'MESH:C502425', 'MESH:C117630', 'MESH:C101077', 'MESH:C101076', 'MESH:C097349', 'MESH:C025121'], ['MESH:C100531'], [], ['MESH:D056324'], ['MESH:D020098', 'MESH:C577162', 'MESH:C572192', 'MESH:C571339', 'MESH:C571338', 'MESH:C571337', 'MESH:C542014', 'MESH:C521836', 'MESH:C506165', 'MESH:C480579', 'MESH:C474535', 'MESH:C460679', 'MESH:C419405', 'MESH:C114236', 'MESH:C080026', 'MESH:C078908', 'MESH:C073616', 'MESH:C071715', 'MESH:C067259', 'MESH:C057414'], ['MESH:C559371', 'MESH:C549531', 'MESH:C528955', 'MESH:C079743'], ['MESH:D029563'], [], [], [], [], ['MESH:D057096', 'MESH:D047971', 'MESH:D047970', 'MESH:D047969', 'MESH:D047968', 'MESH:D047014', 'MESH:D047013', 'MESH:D031171', 'MESH:D020960', 'MESH:D020866', 'MESH:D020258', 'MESH:D017819', 'MESH:D017815', 'MESH:D015655', 'MESH:D015632', 'MESH:D015116', 'MESH:D015115', 'MESH:D013744', 'MESH:D012530', 'MESH:D011112'], ['MESH:D005442', 'MESH:C077354'], [], ['MESH:D028243', 'MESH:D028227', 'MESH:D016657', 'MESH:C566299', 'MESH:C538248', 'MESH:C538209', 'MESH:C537944', 'MESH:C537459'], ['MESH:C459721', 'MESH:C114532'], [], [], ['MESH:D056487', 'MESH:D056486', 'MESH:D052678', 'MESH:D047508', 'MESH:D035923', 'MESH:D035922', 'MESH:D035921', 'MESH:D030041', 'MESH:D029407', 'MESH:D022362', 'MESH:D019701', 'MESH:D019698', 'MESH:D019694', 'MESH:D019693', 'MESH:D018963', 'MESH:D018937', 'MESH:D018936', 'MESH:D017957', 'MESH:D017919', 'MESH:D017918'], [], ['MESH:D009483'], ['MESH:C538209', 'MESH:C530674', 'MESH:C492300', 'MESH:C120083'], ['MESH:C560607', 'MESH:C516592', 'MESH:C501860'], [], ['MESH:D020920', 'MESH:D020919', 'MESH:D020189', 'MESH:D020178', 'MESH:D012893'], [], ['MESH:D015140'], ['MESH:C576248', 'MESH:C095114'], ['MESH:D017034', 'MESH:D005625', 'MESH:C579932', 'MESH:C566400', 'MESH:C565334', 'MESH:C563930', 'MESH:C563679'], ['MESH:D051360', 'MESH:C578513', 'MESH:C578016', 'MESH:C561480', 'MESH:C559068', 'MESH:C557751', 'MESH:C556901', 'MESH:C553404', 'MESH:C553403', 'MESH:C549613', 'MESH:C525110', 'MESH:C505603', 'MESH:C503753', 'MESH:C502815', 'MESH:C495908', 'MESH:C495907', 'MESH:C495906', 'MESH:C495905', 'MESH:C495904', 'MESH:C492235'], ['MESH:D035583', 'MESH:D017809', 'MESH:D002363'], ['MESH:D064200', 'MESH:D064198', 'MESH:D064196', 'MESH:D064195', 'MESH:D064194', 'MESH:D064191', 'MESH:D064190', 'MESH:D064173', 'MESH:D025601', 'MESH:D020016', 'MESH:D017951', 'MESH:D017491', 'MESH:D011125', 'MESH:D005736', 'MESH:D000260', 'MESH:C588005', 'MESH:C587666', 'MESH:C577471', 'MESH:C577371', 'MESH:C577343'], ['MESH:D065348', 'MESH:D064527', 'MESH:D058252', 'MESH:D056684', 'MESH:D054366', 'MESH:D050860', 'MESH:D050696', 'MESH:D048548', 'MESH:D047508', 'MESH:D046828', 'MESH:D034902', 'MESH:D034901', 'MESH:D032444', 'MESH:D032388', 'MESH:D032132', 'MESH:D031804', 'MESH:D031654', 'MESH:D031603', 'MESH:D031567', 'MESH:D031450'], ['MESH:D015899'], ['MESH:C504420', 'MESH:C472324', 'MESH:C457780', 'MESH:C457779', 'MESH:C430565', 'MESH:C428724', 'MESH:C423466', 'MESH:C412628', 'MESH:C406009', 'MESH:C120905', 'MESH:C118952', 'MESH:C116786', 'MESH:C113547', 'MESH:C111923', 'MESH:C104453', 'MESH:C102009', 'MESH:C100568', 'MESH:C098653', 'MESH:C098592', 'MESH:C097212'], ['MESH:D051299', 'MESH:D051298', 'MESH:D051271', 'MESH:D051270', 'MESH:D020773', 'MESH:D020325', 'MESH:D018781', 'MESH:D014653', 'MESH:D008881', 'MESH:D006261', 'MESH:D003027', 'MESH:C566117'], ['MESH:D060825'], ['MESH:C575863', 'MESH:C564221', 'MESH:C542344', 'MESH:C538238', 'MESH:C497713'], [], ['MESH:C407822'], [], ['MESH:D052248', 'MESH:C521947', 'MESH:C496322', 'MESH:C496321', 'MESH:C496320', 'MESH:C440015'], ['MESH:C106179', 'MESH:C091732'], [], ['MESH:C515029', 'MESH:C505112', 'MESH:C096127'], [], ['MESH:C578813', 'MESH:C478063', 'MESH:C055049'], ['MESH:C490476', 'MESH:C117709'], [], ['MESH:C568845', 'MESH:C502872', 'MESH:C102924'], ['MESH:C424714'], ['MESH:D056564', 'MESH:C524448', 'MESH:C488368', 'MESH:C470545', 'MESH:C447939'], [], [], [], [], ['MESH:C486357', 'MESH:C108113'], [], [], [], ['MESH:D056651', 'MESH:D056547', 'MESH:D017966', 'MESH:C558391', 'MESH:C482091', 'MESH:C038104'], ['MESH:D054022'], ['MESH:C531617', 'MESH:C491962', 'MESH:C491961', 'MESH:C491960', 'MESH:C470429', 'MESH:C114678', 'MESH:C109415'], ['MESH:C588369', 'MESH:C534046', 'MESH:C492980'], ['MESH:D066127', 'MESH:D065708', 'MESH:D063748', 'MESH:D059466', 'MESH:D056784', 'MESH:D053529', 'MESH:D052438', 'MESH:D052436', 'MESH:D050643', 'MESH:D050072', 'MESH:D046848', 'MESH:D044465', 'MESH:D033021', 'MESH:D032108', 'MESH:D031583', 'MESH:D031226', 'MESH:D031180', 'MESH:D029780', 'MESH:D029222', 'MESH:D020912'], ['MESH:C498296'], ['MESH:D015225'], [], ['MESH:C570099', 'MESH:C489083', 'MESH:C050361'], [], ['MESH:C579712', 'MESH:C569300', 'MESH:C566897', 'MESH:C548063', 'MESH:C531102', 'MESH:C495229', 'MESH:C489708', 'MESH:C103905', 'MESH:C103884', 'MESH:C090221', 'MESH:C079796', 'MESH:C046432'], [], ['MESH:C575907', 'MESH:C530591', 'MESH:C494789', 'MESH:C486645', 'MESH:C475476', 'MESH:C095307'], [], [], [], ['MESH:D050759', 'MESH:C569563', 'MESH:C540084', 'MESH:C515913', 'MESH:C515912', 'MESH:C515911', 'MESH:C515910', 'MESH:C515909', 'MESH:C515907', 'MESH:C515906', 'MESH:C515905', 'MESH:C494524', 'MESH:C493958', 'MESH:C493957', 'MESH:C493956', 'MESH:C492065', 'MESH:C486708', 'MESH:C443802', 'MESH:C429007', 'MESH:C415366'], [], [], [], [], [], ['MESH:D000544', 'MESH:C567463', 'MESH:C567022', 'MESH:C567000', 'MESH:C566999', 'MESH:C566998', 'MESH:C566578', 'MESH:C566465', 'MESH:C566299', 'MESH:C566298', 'MESH:C565728', 'MESH:C565325', 'MESH:C565251', 'MESH:C565228', 'MESH:C565078', 'MESH:C564622', 'MESH:C564330', 'MESH:C564329', 'MESH:C563834', 'MESH:C545487'], ['MESH:C559969', 'MESH:C498194', 'MESH:C475154'], [], ['MESH:D019053'], ['MESH:D020780', 'MESH:C579270', 'MESH:C572337', 'MESH:C567771', 'MESH:C535531', 'MESH:C501830'], ['MESH:C486720', 'MESH:C447159'], [], [], [], [], [], ['MESH:C490897', 'MESH:C490895', 'MESH:C490894', 'MESH:C490893'], [], ['MESH:C115000', 'MESH:C010169'], ['MESH:D065886', 'MESH:D056912', 'MESH:D039721', 'MESH:D020817', 'MESH:D020018', 'MESH:D019967', 'MESH:D019965', 'MESH:D019962', 'MESH:D019957', 'MESH:D019956', 'MESH:D019955', 'MESH:D019263', 'MESH:D019052', 'MESH:D014190', 'MESH:D013981', 'MESH:D013342', 'MESH:D013001', 'MESH:D012561', 'MESH:D011618', 'MESH:D010378'], ['MESH:D051836', 'MESH:C549499', 'MESH:C524669', 'MESH:C522513', 'MESH:C522512', 'MESH:C514115', 'MESH:C511143', 'MESH:C496313', 'MESH:C494203', 'MESH:C493047', 'MESH:C479740', 'MESH:C442367', 'MESH:C422583', 'MESH:C414862', 'MESH:C408506', 'MESH:C404391', 'MESH:C117283', 'MESH:C110714', 'MESH:C106324', 'MESH:C103146'], ['MESH:D008019'], [], ['MESH:R002492', 'MESH:R002491', 'MESH:R000697', 'MESH:D063647', 'MESH:D060425', 'MESH:D059333', 'MESH:D056784', 'MESH:D020945', 'MESH:D020943', 'MESH:D020863', 'MESH:D020852', 'MESH:D020818', 'MESH:D020809', 'MESH:D020808', 'MESH:D020807', 'MESH:D020806', 'MESH:D020805', 'MESH:D020787', 'MESH:D020786', 'MESH:D020785'], ['MESH:C486216', 'MESH:C470319', 'MESH:C085108'], [], ['MESH:D034062', 'MESH:D007319'], ['MESH:D007807'], ['MESH:C507700', 'MESH:C501181', 'MESH:C501180', 'MESH:C456622', 'MESH:C438390', 'MESH:C096192', 'MESH:C091515', 'MESH:C066709'], [], ['MESH:D061217', 'MESH:D019440', 'MESH:D015431', 'MESH:D004038'], ['MESH:D020232', 'MESH:D014715'], [], ['MESH:D017706', 'MESH:D017315', 'MESH:D000806', 'MESH:D000804', 'MESH:C587670', 'MESH:C579679', 'MESH:C576416', 'MESH:C557485', 'MESH:C543181', 'MESH:C542017', 'MESH:C537048', 'MESH:C533638', 'MESH:C522402', 'MESH:C521214', 'MESH:C521205', 'MESH:C521204', 'MESH:C488034', 'MESH:C485988', 'MESH:C481274', 'MESH:C476595'], ['MESH:C528411', 'MESH:C514895', 'MESH:C114545'], ['MESH:C579167', 'MESH:C579166', 'MESH:C579165', 'MESH:C488355'], [], ['MESH:D020938', 'MESH:D020937', 'MESH:D020270', 'MESH:D017029', 'MESH:D013036', 'MESH:D012640', 'MESH:D004834', 'MESH:D004832', 'MESH:D004831', 'MESH:D004830', 'MESH:D004829', 'MESH:D004828', 'MESH:D004827', 'MESH:D003294', 'MESH:C584145', 'MESH:C566367', 'MESH:C546391', 'MESH:C544649', 'MESH:C537708', 'MESH:C513545'], [], ['MESH:D053700', 'MESH:D016209', 'MESH:C508606', 'MESH:C492798'], [], ['MESH:D065927', 'MESH:D061405', 'MESH:D059629', 'MESH:D057139', 'MESH:D055119', 'MESH:D055105', 'MESH:D054082', 'MESH:D053805', 'MESH:D050936', 'MESH:D050218', 'MESH:D049629', 'MESH:D020280', 'MESH:D019980', 'MESH:D019934', 'MESH:D019794', 'MESH:D018873', 'MESH:D018629', 'MESH:D018414', 'MESH:D017292', 'MESH:D017093'], [], ['MESH:C485509', 'MESH:C462023', 'MESH:C406738', 'MESH:C116864', 'MESH:C090505'], [], ['MESH:D065886', 'MESH:D019965', 'MESH:D001523'], ['MESH:D010054'], [], ['MESH:D014717', 'MESH:D004244', 'MESH:C538049'], [], ['MESH:C498500', 'MESH:C495243', 'MESH:C495242', 'MESH:C106952'], [], [], ['MESH:D018891', 'MESH:C564353'], ['MESH:C587771', 'MESH:C424166', 'MESH:C094999'], [], ['MESH:D006179'], [], [], ['MESH:D025803', 'MESH:D019942', 'MESH:D019941', 'MESH:C417743'], ['MESH:C582554', 'MESH:C536654', 'MESH:C521898', 'MESH:C511267'], ['MESH:C485251', 'MESH:C114109'], ['MESH:D016009'], ['MESH:D019578', 'MESH:C537381'], [], [], [], [], [], [], [], [], [], [], ['MESH:D008659'], ['MESH:D020961', 'MESH:C565077', 'MESH:C538637'], ['MESH:D002525'], [], ['MESH:R004337', 'MESH:Q000628', 'MESH:Q000493', 'MESH:Q000188', 'MESH:Q000187', 'MESH:Q000178', 'MESH:D065906', 'MESH:D065767', 'MESH:D065606', 'MESH:D065546', 'MESH:D065132', 'MESH:D064807', 'MESH:D064793', 'MESH:D064750', 'MESH:D064747', 'MESH:D064690', 'MESH:D064423', 'MESH:D064420', 'MESH:D064368', 'MESH:D064226'], ['MESH:D016537', 'MESH:C470347', 'MESH:C103699', 'MESH:C061901'], ['MESH:D024821', 'MESH:D007333', 'MESH:C566531', 'MESH:C537629', 'MESH:C044579'], [], ['MESH:D057180', 'MESH:D057174'], ['MESH:D057180', 'MESH:C579991', 'MESH:C566288', 'MESH:C563476'], ['MESH:C531384', 'MESH:C501128', 'MESH:C501127', 'MESH:C501126', 'MESH:C110182'], ['MESH:D013702', 'MESH:D004833', 'MESH:C578337', 'MESH:C566903', 'MESH:C566902', 'MESH:C538521', 'MESH:C537297', 'MESH:C536956'], [], ['MESH:C575356', 'MESH:C530077'], []]\n"
     ]
    }
   ],
   "source": [
    "print(uid_lists)"
   ]
  },
  {
   "cell_type": "code",
   "execution_count": 52,
   "id": "f37adbc1",
   "metadata": {},
   "outputs": [],
   "source": [
    "# link the MeSH UIDs to the NIO dictionary \n",
    "## create an XML file that links NIO UIDs with PTC UIDs\n",
    "# <token id=\"AlzheimerOntology:Subtypes\" canonical=\"Alzheimer disease\">\n",
    "# \t\t<ptc id=\"MESH:D000544\"></ptc>\n",
    "# \t\t<ptc id=\"MESH:C567463\"></ptc>\n",
    "# </token>\n",
    "\n",
    "# create file\n",
    "xmldoc = minidom.Document()\n",
    "\n",
    "# creat root element\n",
    "root_element = xmldoc.createElement('linking_uids')\n",
    "xmldoc.appendChild(root_element)\n",
    "\n",
    "uid_cnt = len(token_ids[:205])  # test\n",
    "# uid_cnt = len(token_ids)  # test\n",
    "\n",
    "for i in range(uid_cnt):\n",
    "    token_id = token_ids[i]\n",
    "    productChild = xmldoc.createElement('nio')\n",
    "    productChild.setAttribute('id', token_id)  # attribute, value   \n",
    "    \n",
    "    productChild.setAttribute('canonical', canos[i])\n",
    "    root_element.appendChild(productChild)    \n",
    "    \n",
    "    for uid in uid_lists[i]:\n",
    "        product_grandChild = xmldoc.createElement('ptc')\n",
    "\n",
    "        # insert ptc uid into element\n",
    "        product_grandChild.setAttribute('id', uid)\n",
    "        productChild.appendChild(product_grandChild)     \n",
    "        \n",
    "xml_str = xmldoc.toprettyxml(indent =\"\\t\")\n",
    "\n",
    "# save file\n",
    "save_path_file = \"nio_ptc_uids.xml\"\n",
    "dict_path = \"/Users/yidesdo21/Projects/inputs/dictionary/\"\n",
    "\n",
    "with open(dict_path+save_path_file, \"w\") as f:\n",
    "    f.write(xml_str)        "
   ]
  },
  {
   "cell_type": "code",
   "execution_count": null,
   "id": "da72f16d",
   "metadata": {},
   "outputs": [],
   "source": []
  },
  {
   "cell_type": "code",
   "execution_count": null,
   "id": "1478d9bc",
   "metadata": {},
   "outputs": [],
   "source": []
  },
  {
   "cell_type": "code",
   "execution_count": null,
   "id": "f6b8bfcc",
   "metadata": {},
   "outputs": [],
   "source": []
  },
  {
   "cell_type": "code",
   "execution_count": null,
   "id": "eb21acf5",
   "metadata": {},
   "outputs": [],
   "source": []
  }
 ],
 "metadata": {
  "kernelspec": {
   "display_name": "Python 3",
   "language": "python",
   "name": "python3"
  },
  "language_info": {
   "codemirror_mode": {
    "name": "ipython",
    "version": 3
   },
   "file_extension": ".py",
   "mimetype": "text/x-python",
   "name": "python",
   "nbconvert_exporter": "python",
   "pygments_lexer": "ipython3",
   "version": "3.8.8"
  }
 },
 "nbformat": 4,
 "nbformat_minor": 5
}

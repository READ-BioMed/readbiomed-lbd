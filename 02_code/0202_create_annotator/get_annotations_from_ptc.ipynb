{
 "cells": [
  {
   "cell_type": "code",
   "execution_count": 23,
   "id": "9472c23e",
   "metadata": {},
   "outputs": [],
   "source": [
    "import requests\n",
    "import sys"
   ]
  },
  {
   "cell_type": "code",
   "execution_count": 13,
   "id": "ad7289a0",
   "metadata": {},
   "outputs": [],
   "source": [
    "path = \"/Users/yidesdo21/Projects/inputs/articles/04_ptc_api/\""
   ]
  },
  {
   "cell_type": "code",
   "execution_count": 14,
   "id": "1acc6aa0",
   "metadata": {},
   "outputs": [],
   "source": [
    "url = 'https://www.ncbi.nlm.nih.gov/research/pubtator-api/annotations/annotate/submit/Gene'\n",
    "payload = open(path+\"test.json\")\n",
    "headers = {'content-type': 'application/json', 'Accept-Charset': 'UTF-8'}\n",
    "r = requests.post(url, data=payload, headers=headers)"
   ]
  },
  {
   "cell_type": "code",
   "execution_count": 36,
   "id": "9c111e25",
   "metadata": {},
   "outputs": [],
   "source": [
    "session_id = r.content.decode(\"utf-8\")"
   ]
  },
  {
   "cell_type": "code",
   "execution_count": 39,
   "id": "abed53b0",
   "metadata": {},
   "outputs": [],
   "source": [
    "id_url = \"https://www.ncbi.nlm.nih.gov/research/pubtator-api/annotations/annotate/retrieve/\"+session_id\n",
    "r = requests.get(id_url)\n",
    "\n"
   ]
  },
  {
   "cell_type": "code",
   "execution_count": 41,
   "id": "f43ab05f",
   "metadata": {},
   "outputs": [
    {
     "data": {
      "text/plain": [
       "'{\"text\":\"{         &quot;text&quot;:&quot;Autosomal-dominant striatal degeneration is caused by a mutation in the phosphodiesterase 8B gene. Autosomal-dominant striatal degeneration (ADSD) is an autosomal-dominant movement disorder affecting the striatal part of the basal ganglia. ADSD is characterized by bradykinesia, dysarthria, and muscle rigidity. These symptoms resemble idiopathic Parkinson disease, but tremor is not present. Using genetic linkage analysis, we have mapped the causative genetic defect to a 3.25 megabase candidate region on chromosome 5q13.3-q14.1. A maximum LOD score of 4.1 (Theta = 0) was obtained at marker D5S1962. Here we show that ADSD is caused by a complex frameshift mutation (c.94G>C+c.95delT) in the phosphodiesterase 8B (PDE8B) gene, which results in a loss of enzymatic phosphodiesterase activity. We found that PDE8B is highly expressed in the brain, especially in the putamen, which is affected by ADSD. PDE8B degrades cyclic AMP, a second messenger implied in dopamine signaling. Dopamine is one of the main neurotransmitters involved in movement control and is deficient in Parkinson disease. We believe that the functional analysis of PDE8B will help to further elucidate the pathomechanism of ADSD as well as contribute to a better understanding of movement disorders.&quot;,         &quot;sourcedb&quot;: &quot;PubMed&quot;,         &quot;sourceid&quot;: &quot;20085714&quot; }\",\"denotations\":[{\"obj\":\"Gene:8622\",\"span\":{\"begin\":90,\"end\":110}},{\"obj\":\"Gene:8622\",\"span\":{\"begin\":714,\"end\":734}},{\"obj\":\"Gene:8622\",\"span\":{\"begin\":736,\"end\":741}},{\"obj\":\"Gene:8622\",\"span\":{\"begin\":828,\"end\":833}},{\"obj\":\"Gene:8622\",\"span\":{\"begin\":922,\"end\":927}},{\"obj\":\"Gene:8622\",\"span\":{\"begin\":1156,\"end\":1161}}]}'"
      ]
     },
     "execution_count": 41,
     "metadata": {},
     "output_type": "execute_result"
    }
   ],
   "source": [
    "r.content.decode(\"utf-8\")"
   ]
  },
  {
   "cell_type": "code",
   "execution_count": null,
   "id": "b35f79f4",
   "metadata": {},
   "outputs": [],
   "source": []
  },
  {
   "cell_type": "code",
   "execution_count": null,
   "id": "ce571f99",
   "metadata": {},
   "outputs": [],
   "source": []
  },
  {
   "cell_type": "code",
   "execution_count": null,
   "id": "517d29b6",
   "metadata": {},
   "outputs": [],
   "source": []
  }
 ],
 "metadata": {
  "kernelspec": {
   "display_name": "Python 3",
   "language": "python",
   "name": "python3"
  },
  "language_info": {
   "codemirror_mode": {
    "name": "ipython",
    "version": 3
   },
   "file_extension": ".py",
   "mimetype": "text/x-python",
   "name": "python",
   "nbconvert_exporter": "python",
   "pygments_lexer": "ipython3",
   "version": "3.8.8"
  }
 },
 "nbformat": 4,
 "nbformat_minor": 5
}

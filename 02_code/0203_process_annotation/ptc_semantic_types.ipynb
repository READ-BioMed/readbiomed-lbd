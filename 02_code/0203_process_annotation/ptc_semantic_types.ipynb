{
 "cells": [
  {
   "cell_type": "code",
   "execution_count": 2,
   "id": "fc94deb3",
   "metadata": {},
   "outputs": [],
   "source": [
    "from collections import defaultdict\n",
    "import os\n",
    "from itertools import combinations,groupby"
   ]
  },
  {
   "cell_type": "code",
   "execution_count": null,
   "id": "dce378a0",
   "metadata": {},
   "outputs": [],
   "source": []
  },
  {
   "cell_type": "code",
   "execution_count": 3,
   "id": "de224597",
   "metadata": {},
   "outputs": [],
   "source": [
    "file_name = \"all\"   # this line need to change when dealing with different dataset\n",
    "path = '/Users/yidesdo21/Projects/outputs/12_time_slicing/ptc_results/'\n",
    "\n",
    "ptc_dict = defaultdict(set)\n",
    "ptc_contents = list()\n",
    "pubtator_files = os.listdir(path)\n",
    "categories = ['CellLine','Chemical','Chromosome','DNAAcidChange','DNAMutation','Disease','Gene','ProteinAcidChange','ProteinMutation','RefSeq','SNP','Species']\n",
    "\n",
    "for pubtator_file in pubtator_files:\n",
    "    if pubtator_file.startswith(file_name) and pubtator_file.endswith(\".PubTator\"):\n",
    "        with open(path+pubtator_file) as f:\n",
    "            pmid_results = f.read().replace(\"\\t\", \" \").split(\"\\n\")\n",
    "\n",
    "            # group each article and corresponding annotations by using the split ''\n",
    "            pmid_groups = (list(g) for _, g in groupby(pmid_results, key=''.__ne__))\n",
    "            pmid_content = [a + b for a, b in zip(pmid_groups, pmid_groups)]\n",
    "\n",
    "            ptc_contents.extend(pmid_content)\n"
   ]
  },
  {
   "cell_type": "code",
   "execution_count": 4,
   "id": "ea2c45e7",
   "metadata": {},
   "outputs": [],
   "source": [
    "# Goal 01: create uid -- mention dictionary \n",
    "# Goal 02: create uid -- category dictionary\n",
    "ptc_mention_uid = defaultdict(set)\n",
    "ptc_category_uid = defaultdict(set)\n",
    "\n",
    "for p in ptc_contents:\n",
    "    # annotation output format: \"article id\" \"starting index\" \"ending index\" \"annotated text\" \"category\" \"uid\"\n",
    "    if len(p) > 3:   # exclude the articles when the length of the list is three, because they have no annotations\n",
    "        annos = p[2:-1]\n",
    "        \n",
    "        # loop for the annotations\n",
    "        \n",
    "        for anno in annos:\n",
    "            anno_split = anno.split(\" \")\n",
    "\n",
    "        # sometimes annotation is blank [\"\"], it is not valid annotations,\n",
    "        #      the blank annotation is ignored.\n",
    "            if len(anno_split) > 1:\n",
    "            # if the second to last index is not in the category, \n",
    "            #      then it means the UID might not be in the normal format.   \n",
    "#                 print(anno_split)\n",
    "            \n",
    "            \n",
    "                if anno_split[-2] not in categories:\n",
    "                    # change the category and uid index\n",
    "                    mention, category, uid = anno_split[-4], anno_split[-3], anno_split[-2]+\" \"+anno_split[-1]\n",
    "                else: \n",
    "                    mention, category, uid = anno_split[-3], anno_split[-2], anno_split[-1]\n",
    "                    \n",
    "#                 if category == \"Chromosome\":\n",
    "#                     print(anno_split)\n",
    "#                     print(p)\n",
    "#                     print(\"-------\")\n",
    "                \n",
    "                if uid not in [\"-\", \"\"]:\n",
    "                    if not (category in ['Gene'] and len(uid.split(\";\")) > 1):\n",
    "                        article_id = anno_split[0]   # this line will be run multiple times, but ignore this now\n",
    "                        ptc_mention_uid[uid].add(mention)\n",
    "                        ptc_category_uid[uid].add(category)\n",
    "                        ptc_dict[\"NLM\"+\"_\"+article_id].add(uid)"
   ]
  },
  {
   "cell_type": "code",
   "execution_count": 11,
   "id": "34ae3d78",
   "metadata": {},
   "outputs": [
    {
     "data": {
      "text/plain": [
       "{'129Sv',\n",
       " '129sv',\n",
       " 'BV',\n",
       " 'Mice',\n",
       " 'Mouse',\n",
       " 'Murine',\n",
       " 'Transgenic',\n",
       " 'mice',\n",
       " 'mouse',\n",
       " 'murine',\n",
       " 'subspecies',\n",
       " 'transgenic',\n",
       " 'transgenic-mice'}"
      ]
     },
     "execution_count": 11,
     "metadata": {},
     "output_type": "execute_result"
    }
   ],
   "source": [
    "ptc_mention_uid.get(\"10090\")"
   ]
  },
  {
   "cell_type": "code",
   "execution_count": 10,
   "id": "b881952e",
   "metadata": {},
   "outputs": [
    {
     "data": {
      "text/plain": [
       "{'Species'}"
      ]
     },
     "execution_count": 10,
     "metadata": {},
     "output_type": "execute_result"
    }
   ],
   "source": [
    "ptc_category_uid.get(\"10090\")"
   ]
  },
  {
   "cell_type": "code",
   "execution_count": 4,
   "id": "9b5b6965",
   "metadata": {
    "scrolled": false
   },
   "outputs": [
    {
     "name": "stdout",
     "output_type": "stream",
     "text": [
      "12721 {'Gene', 'Species'}\n",
      "837 {'Gene', 'Species'}\n",
      "20 {'Gene', 'Chromosome'}\n",
      "12 {'Gene', 'Chromosome'}\n",
      "4217 {'Gene', 'Species'}\n",
      "19 {'Gene', 'Chromosome'}\n",
      "5341 {'Gene', 'Species'}\n",
      "9 {'Gene', 'Chromosome'}\n",
      "2 {'Gene', 'Chromosome'}\n",
      "470 {'Gene', 'Species'}\n",
      "4513 {'Gene', 'Species'}\n",
      "9520 {'Gene', 'Species'}\n",
      "11034 {'Gene', 'Species'}\n",
      "11909 {'Gene', 'Species'}\n",
      "3567 {'Gene', 'Species'}\n",
      "4565 {'Gene', 'Species'}\n",
      "3627 {'Gene', 'Species'}\n",
      "1613 {'Gene', 'Species'}\n",
      "50507 {'Gene', 'Species'}\n",
      "1282 {'Gene', 'Species'}\n",
      "18 {'Gene', 'Chromosome'}\n",
      "5476 {'Gene', 'Species'}\n"
     ]
    }
   ],
   "source": [
    "# no need to preprocess it, it only means 12721 can be Gene, and also be Species\n",
    "#.  so the identifier 12721 should be viewed as double\n",
    "# some uids have the same number, but they are actually different\n",
    "# bc. they belong to different categories/types, the ptc doesn't sign the differences for these uids \n",
    "for k,v in ptc_category_uid.items():\n",
    "    if len(v) > 1:\n",
    "        print(k,v)"
   ]
  },
  {
   "cell_type": "code",
   "execution_count": null,
   "id": "2ea46f54",
   "metadata": {},
   "outputs": [],
   "source": [
    "## needs further preprocessing when applying the types to the texts\n",
    "## see in raw_data_and_evaluation.ipynb\n",
    "\n",
    "### codes copied from that notebook\n",
    "# semantic_nodes = defaultdict(list)\n",
    "# sem_node_cnt = OrderedDict()\n",
    "\n",
    "# for node in list(accum_v)[1:]:\n",
    "#     cate = uid_category.get(node)\n",
    "    \n",
    "#     # gives None results\n",
    "#     if node not in ['http://www.ifomis.org/bfo/1.1#Entity', 'rdfs:label', 'obo:IDO_0000666']:\n",
    "#         # corner cases:\n",
    "#         if cate in [\"ProteinMutation'}}\",\"ProteinMutation\",\"DNAMutation\",\"ProteinAcidChange\",\"DNAAcidChange\"]:\n",
    "#             semantic_nodes[\"Mutation\"].append(node)\n",
    "\n",
    "#         elif cate == \"Gene', 'Species\":  # it means the identifer appear both in Gene and Species types, so have to count twice\n",
    "#             semantic_nodes[\"Gene\"].append(node)\n",
    "#             semantic_nodes[\"Species\"].append(node)\n",
    "\n",
    "#         elif cate in [\"Gene', 'Chromosome\", \"Chromosome\"]:\n",
    "#             semantic_nodes[\"Gene\"].append(node)\n",
    "#     #         semantic_nodes[\"Chromosome\"].append(node)\n",
    "\n",
    "#         elif cate == \"RefSeq\":\n",
    "#             semantic_nodes[\"Mutation\"].append(node)\n",
    "\n",
    "#         else:\n",
    "#             semantic_nodes[cate].append(node)\n",
    "\n",
    "# for k,v in semantic_nodes.items():\n",
    "#     sem_node_cnt[k] = len(v)\n",
    "    \n"
   ]
  },
  {
   "cell_type": "code",
   "execution_count": null,
   "id": "f3fad251",
   "metadata": {},
   "outputs": [],
   "source": []
  },
  {
   "cell_type": "markdown",
   "id": "3807637b",
   "metadata": {},
   "source": [
    "### a list of uids that relate to amyloid, we filter them \n",
    "- 351, amyloid beta precursor protein [Homo sapiens (human)], Gene type,\n",
    "- 11820, include, amyloid beta (A4) precursor protein [Mus musculus (house mouse)], belongs to Gene type\n",
    "\n",
    "- MESH:D016657, exclude, Cerebral Amyloid Angiopathy, a pathology of AD, mentions include 'beta-amyloid'. But it is viewed as a Disease. Have 21 mentions in the testing feature network. I am not sure. Maybe we should exclude it. I'll exclude it because 1) 11820 and 351 have more than 1k mentions, and 2) this uid belongs to Disease type. \n",
    "- MESH:D000686, exclude, amyloidosis is a disorder\n",
    "- MESH:D009101, exclude, Multiple Myeloma is a disease\n",
    "- MESH:D000544, exclude, Alzheimer Disease\n",
    "- MESH:D003072, exclude, Cognition Disorders\n",
    "- MESH:D007859, exclude, Learning Disabilities\n"
   ]
  },
  {
   "cell_type": "code",
   "execution_count": 7,
   "id": "6a5550cc",
   "metadata": {},
   "outputs": [
    {
     "name": "stdout",
     "output_type": "stream",
     "text": [
      "MESH:D000686 {'amyloidosis', 'disorders', 'Inflammation', 'beta-amyloidosis', 'Amyloidosis', 'intracerebroventricular', 'astrogliosis', 'amyloidoses', 'beta-Amyloidosis', 'impairs', 'diseases', 'Abeta-amyloidosis', 'disease', 'amyloidosis-beta'}\n",
      "------------\n",
      "MESH:D009101 {'amyloidosis', 'myeloma', 'Myeloma'}\n",
      "------------\n",
      "MESH:D000544 {'ADNI', 'Changes', 'plaque', 'Fibrils', 'neurodegeneration', 'Coordinating', 'amyloidogenesis', \"Alzheimer's-disease-linked\", \"Alzheimer's\", 'hypothesis', 'neuritic', 'syndromes', 'DISEASE', 'deposits', 'aggregation', 'Society', 'subunits', 'Initiative', 'cognitive', 'toxicity', 'beta-Amyloidosis', 'disease', 'type', '(AD)dementia', 'beta-amyloidosis', 'syndrome', 'Defects', \"Alzheimer'sdisease\", 'Disease', 'sites', 'Pathology', 'Disorders', 'diseAse', 'Brain', 'deaths', 'deposition', 'lesions', 'leptomeninges', 'toxic', 'deficient', 'fAD', 'deficits', 'etiopathogenesis', 'ADD', 'accumulates', 'Parkinson', 'amyloidosis', 'Alzheimer', 'plaques', 'Composite', 'traits', 'hallmarks', 'disorders', 'ADAD', 'ALzheimer', 'pathologies', 'Emerges', 'AD', 'Dementia', 'PHF', 'bank', 'neuropathogenesis', 'CHANGES', 'SD', 'AD-S', 'cortical', 'synaptotoxicity', 'amyloids', 'senile', 'APPsw', 'vasculature', 'disease-linked', 'vascular', 'Neuropathology', 'deepens', 'CSF', 'abeta', 'amyloid-beta-deposits', 'Coordination', 'Coalition', 'Disease-Linked', 'tauopathies', 'AD-dementia', 'changes', 'LOAD', 'APPswe', 'Partnership', \"Alzheimer's-diseased\", 'amyloid', 'memory', 'DAT', 'Abeta', 'Disease-linked', 'pathology', 'FAD', \"disease's\", 'dysfunction', 'damage', 'deterioration', 'Drug', 'drug', 'neuropathology', 'iPSCs', 'epileptiform', 'lymphocytes', 'ADNP', 'neuropathologic', 'atrophy', 'tauopathy', 'Via', 'Alzheimer-type', \"Alzheimer'\", 'dysfunctions', 'Alzheimer-linked', 'proteinopathies', 'initiation', 'endophenotypes', 'dementia', 'cortex', 'disease5', 'Non-Alzheimer', \"Alzheimer's-disease\", 'Trials', 'bodies', 'neurons', 'AbetaPPswe', 'FTLD', 'SNPs', 'brain', 'sAD', 'neurodegenerative', 'neuropathologies', 'change', 'loss', 'brains', 'ADNC', 'cerebrospinal', 'disease-demented', 'hyperphosphorylation', 'vasculopathy', 'injury', 'beta', 'dementias', 'diseased', 'proteins', 'Alzheimer-disease', 'filamentous', 'Disease-A', 'neurotoxicity', 'degeneration', 'alzheimer', 'diseases', 'Neuronal'}\n",
      "------------\n",
      "11820 {'abeta', '(PS1APP', 'protein', 'A-beta', 'arcAbeta', 'amyloid-beta(Abeta)', 'A(beta)', '(Abeta)', 'AbetaPP', 'HSVAbeta', 'Abeta(N3pE', 'peptide', 'betaAPP', 'AbetaPPswe', 'beta-peptide', 'C99', 'aa', 'appican', 'Abeta(x-40', 'APP(WT)', 'Abeta', 'Protein', 'ArcAbeta', 'Abeta(ol)s', 'amyloid-precursor-protein', 'beta-APP', 'APP220-288', 'Abeta(pE3)', 'beta', 'fAbeta', '(pE(3)Abeta', 'Appican', 'Abeta(x-42', 'APP/Abeta', 'A&beta', 'APP', 'Abeta(pE3-42', 'mAbeta', 'Abetapp', 'Abeta(pE3'}\n",
      "------------\n",
      "MESH:D003072 {'plaque', 'neurodegeneration', 'difficulties', 'disturbances', 'Neurotoxicity', 'impairment', 'alterations', 'preHD', 'Decline', 'deficiency', 'malfunction', 'cognitive', 'beta-amyloid', 'HF', 'skills', 'disturbance', 'APP(695)SWE', 'disease', 'type', 'malfunctions', 'symptoms', 'deficit', 'syndrome', 'Disease', 'disorder', 'Learning', 'functions', 'Disorders', 'measurements', 'CIND', 'deposition', 'disabilities', 'occupations', 'deficits', 'schizophrenia', 'Change', 'lesion', 'impaired', 'AbetaPP', 'neurology', 'hallmark', 'impariment', 'function', 'amyloidosis', 'Alzheimer', 'Benefits', 'depend', 'CDS', 'Deficits', 'decline', 'failures', 'Composite', 'Disability', 'Deficit', 'degradation', 'Neuroinflammation', 'VCD', 'disorders', 'plasticity', 'defects', 'disability', 'neuroinflammatory', 'catalyzed', 'AD', 'Impairment', 'ADCI', 'Dementia', 'slowing', 'dysfunction7', 'decliners', 'behavior', 'synaptotoxicity', 'dissipated', 'neuroinflammation', 'HIV-positive', 'aberrations', 'obesity', 'learning', 'delay', 'problems', 'changes', 'Impairments', 'stage', 'Dysfunction', 'neurosciences', 'VCI', 'memory', 'long', 'Abeta', 'functioning', 'VCID', 'behaviors', 'dysfunction', 'composite', 'damage', 'deterioration', 'neuropathology', 'abnormalities', 'death', 'Cognitive', 'atrophy', 'Disorder', 'metabolism', 'declines', 'ability', 'defect', 'dysfunctions', 'A-MCI', 'status', 'autosomal-dominant', 'CI', 'dementia', 'flexibility', 'aMCI', 'MCI', 'regardless', 'abilities', 'inhibition', 'tightly', 'HCI', 'CD', 'brain', 'impairments', 'neurodegenerative', 'losses', 'loss', 'change', 'activity', 'dementias', 'mirror', 'benefits', 'neurotoxicity', 'degeneration', 'diseases', 'failure', 'cognition'}\n",
      "------------\n",
      "MESH:D007859 {'deficits', 'deficiencies', 'algorithm', 'impairment', 'regardless', 'learning', 'abilities', 'amyloidosis', 'Deficits', 'Dysfunction', 'decline', 'dysfunctional', 'impairments', 'Deficit', 'memory', 'skills', 'behaviors', 'learning-memory', 'disability', 'defects', 'dysfunction', 'injury', 'Impairment', 'damage', 'disease', 'learning/memory', 'atrophy', 'deficit', 'behavior', 'ability', 'neurogenesis', 'disorder', 'amnesic', 'functions', 'degeneration', 'dysfunctions', 'disabilities'}\n",
      "------------\n",
      "351 {\"Abeta'\", 'Amyloid-beta', 'SH-SY5Y-APP751', 'protein', 'A-beta', 'AbetaMTL', 'APP(V', 'PS', 'beta-peptide', 'precursor-protein', 'amyloid-Beta', 'Cu(II)/Abeta', '(anti-fAbeta', 'Abeta+', 'beta(1-40', 'peptide1-42', 'beta(Abeta)', 'Protein', 'hAPP/Abeta', '(NAbs-Abeta', 'APP/PS', 'beta-secretase', 'A-Beta', 'beta(1-42', 'CTF-gamma', 'APP/PK', 'Abeta(29-33p)]', '(A(beta)', 'APPI', '(Abeta13-26', 'Abeta(29-33r', 'Abeta(1', 'Abeta(n-42', '(Rh-Abeta', '(CTF)-gamma', 'Abeta(+)', 'CTFgamma', 'cross-beta-subunit', 'CTF', '(betaAPP)', '(APP)', 'protein(Abeta)', 'Abeta(20-29))', 'AbetaPP', 'HSVAbeta', 'Amyloid-beta,', 'p-TauSer-202', '(anti-oligoAbeta', 'Abeta(n-42)', 'a{beta', 'Abeta(M1-42', 'Abeta(X-38', 'hAbeta(H13F', 'Abeta(1-42G33V', 'APP-wt', 'APP(WT)', 'APP770', 'hAbeta', 'Amyloidbeta', 'chain', '(1-40', 'amyloid-precursor-protein', 'Abeta(X-40', 'Beta', '(Abeta)42', 'AbetaPPs', 'hAbetaPP', 'betaPP', 'APP/Abeta', 'peptide(1-42', 'APPsw', 'CVAP', '(Abeta(1-42', '(Abeta33-42', 'alpha-beta', 'Peptide', 'PROTEIN', 'Abeta/Cu(II)', 'alpha/beta', 'abeta', '(betaA)', '(Abeta)', 'QDAbeta', '(revAbeta)', 'Abeta?', '0', '(C99', 'a', '(NTE-Abeta', 'APPswe', 'beta-amyloid-peptide', 'alpha', 'Abeta(17-42))', 'amyloid-beta', 'AA', 'Abeta/APP', 'Abeta(N-42', 'Abeta', 'A[beta', '(1-42', 'beta-', 'PN2', '(p3)', 'Abeta(25-35)', '\"amyloid-beta', 'polypeptide', '1-42', 'hAPP', 'beta-protein', 'APP(695)', 'SH-SY5Y', 'Abeta([1-40', 'alpha5', 'Abeta(pE3', '1-40', 'APP-CTs', 'amyloid-(Abeta)', '(amyloid-beta', 'A(beta)', 'precursor', 'APP695', 'Abeta(X-42', 'peptide', 'hAbetaPPSL', '(Abeta(total)', 'aa', '(Alcalpha)', 'Abeta/Abeta(1-42', 'C', 'A', 'A{beta', 'beta', 'epsilon4', '(Abeta(42)', 'Abeta(x-42', 'Amyloid-Beta', 'KI', 'gene', 'holoprotein', 'amyloid-beta,', 'Abeta(Total)'}\n",
      "------------\n",
      "MESH:D028243 {'amyloidosis', 'disorders', 'beta-amyloidosis', 'HCAA', 'angiopathy', 'angiopathies'}\n",
      "------------\n",
      "MESH:D001927 {'hippocampal', 'deficits', 'impairment', 'hypoperfusion', 'Encephalopathy', 'microhemorrhages', 'encephalopathy', 'encephalopathies', 'EC', 'abnormality', 'amyloidopathy', 'insulin', 'brain', 'homeostasis', 'impairs', 'deformities', 'hypometabolism', 'brains', 'disorders', 'ischaemia', 'dysfunction', 'disease', 'abnormalities', 'syndrome', 'disorder', 'dysfunctions', 'diseases', 'lesions', 'microhemorrhage'}\n",
      "------------\n",
      "MESH:D002544 {'infarcts', 'Stroke', 'proteopathies', 'infarct', 'hypoperfusion', 'stroke', 'hemostasis', 'microhemorrhages', 'amyloidopathy', 'microinfarcts', 'infarction', 'hAbeta', 'Abeta', 'hypometabolism', 'Infarction', 'hyperemic', 'disorders', 'infarctions', 'neuropathology', 'proteopathy', 'syndrome', 'CMIs', 'CMI', 'IS', 'microhemorrhage'}\n",
      "------------\n",
      "MESH:D016657 {'Inflammation', 'inflammation', 'microvasculopathies', 'CAAs', 'deposits', 'CAA', 'microhaemorrhages', 'angiopathy', 'CAAH', 'damage', 'CAA-ri', 'deposition', 'angiopathies', 'Angiopathy', 'cerebrovascular', 'microhemorrhage', 'beta-amyloid', 'hemorrhage'}\n",
      "------------\n",
      "MESH:C538248 {'amyloidosis', 'Amyloidosis', 'beta-amyloidosis', 'deficits', 'angiopathy', 'Abeta-amyloidosis'}\n",
      "------------\n",
      "MESH:D058495 {'haploinsufficiency', 'haploinsufficient', 'Haploinsufficiency', 'AT-1', 'abnormalities', 'beta-amyloid'}\n",
      "------------\n",
      "MESH:D028227 {'amyloidosis', 'FAP', 'polyneuropathies', 'polyneuropathy', 'abnormalities', 'diseases', 'disease', 'Abeta', 'Cu(II)Abeta'}\n",
      "------------\n",
      "MESH:C564461 {'amyloidosis'}\n",
      "------------\n",
      "MESH:C562642 {'amyloidosis'}\n",
      "------------\n",
      "MESH:D000075363 {'amyloidosis'}\n",
      "------------\n",
      "MESH:D010195 {'parenchyma', 'amyloidopathy', 'edema', 'secretion', 'accumulation', 'pancreatic'}\n",
      "------------\n",
      "MESH:C566236 {'amyloidosis', 'AA-amyloidosis'}\n",
      "------------\n",
      "MESH:D028226 {'amyloidosis'}\n",
      "------------\n",
      "114693 {'amyloid-beta'}\n",
      "------------\n",
      "MESH:D012173 {'pathologies', 'amyloidopathy', 'pigmented'}\n",
      "------------\n",
      "362245 {'LC3-II', 'II/I', 'amyloid-beta', 'I', 'LC3II'}\n",
      "------------\n",
      "MESH:C567782 {'amyloidosis'}\n",
      "------------\n",
      "24\n"
     ]
    }
   ],
   "source": [
    "## task: find the uids that contain the β-amyloid plaques\n",
    "cnt = 0\n",
    "\n",
    "for k,vs in ptc_mention_uid.items():\n",
    "    vs_join = \" \".join(vs)\n",
    "    if \"amyloid\" in vs_join:\n",
    "        print(k,vs)\n",
    "        cnt += 1\n",
    "        print(\"------------\")\n",
    "        \n",
    "print(cnt)"
   ]
  },
  {
   "cell_type": "code",
   "execution_count": null,
   "id": "56451534",
   "metadata": {},
   "outputs": [],
   "source": []
  },
  {
   "cell_type": "code",
   "execution_count": null,
   "id": "2b099b7f",
   "metadata": {},
   "outputs": [],
   "source": []
  },
  {
   "cell_type": "code",
   "execution_count": 11,
   "id": "6f337fd0",
   "metadata": {},
   "outputs": [
    {
     "data": {
      "text/plain": [
       "{'H1299'}"
      ]
     },
     "execution_count": 11,
     "metadata": {},
     "output_type": "execute_result"
    }
   ],
   "source": [
    "ptc_mention_uid.get(\"CVCL_0060;NCBITaxID:9606\")"
   ]
  },
  {
   "cell_type": "code",
   "execution_count": null,
   "id": "4122937d",
   "metadata": {},
   "outputs": [],
   "source": []
  },
  {
   "cell_type": "code",
   "execution_count": null,
   "id": "c9e1a2cd",
   "metadata": {},
   "outputs": [],
   "source": []
  }
 ],
 "metadata": {
  "kernelspec": {
   "display_name": "Python 3",
   "language": "python",
   "name": "python3"
  },
  "language_info": {
   "codemirror_mode": {
    "name": "ipython",
    "version": 3
   },
   "file_extension": ".py",
   "mimetype": "text/x-python",
   "name": "python",
   "nbconvert_exporter": "python",
   "pygments_lexer": "ipython3",
   "version": "3.8.8"
  }
 },
 "nbformat": 4,
 "nbformat_minor": 5
}

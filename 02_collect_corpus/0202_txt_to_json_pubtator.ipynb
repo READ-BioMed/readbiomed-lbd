{
 "cells": [
  {
   "cell_type": "code",
   "execution_count": null,
   "id": "9ca2f887",
   "metadata": {},
   "outputs": [],
   "source": [
    "\"\"\"\n",
    "This notebook is used to 1) turn the txt format articles to the json and PubTator formats for the PubTator Central annotator, and 2) turn the txt format articles to separated txt articles for the NIO annotator.\n",
    "\n",
    "- txt format: \"[PMCID].[database].[id].[Title].[Abstract].\"\n",
    "- json format: {\"sourcedb\":\"database\",\"sourceid\":\"id\",\"text\":\"Abstract\"}\n",
    "- PubTator format:\n",
    "    - [id]|t|[title]\n",
    "    - [id]|a|[abstract]\n",
    "\"\"\""
   ]
  },
  {
   "cell_type": "code",
   "execution_count": 8,
   "id": "c3248c56",
   "metadata": {},
   "outputs": [],
   "source": [
    "import json\n",
    "path = \"./Projects/ptc/Code.Python/txt_to_json/ten_recent.txt\"  # \"ten_recent.txt\" can be changed\n",
    "output_path = \"./Projects/ptc/Code.Python/input/\""
   ]
  },
  {
   "cell_type": "code",
   "execution_count": 10,
   "id": "c0d2f752",
   "metadata": {},
   "outputs": [],
   "source": [
    "with open(path,encoding=\"utf-8-sig\") as f:\n",
    "    contents = f.read().replace(\"\\t\", \"\").splitlines()\n",
    "\n",
    "sepa_content = list()\n",
    "for i in range(len(contents)):\n",
    "    if i%3 == 0:\n",
    "        new = list()\n",
    "        new.append(contents[i])\n",
    "    elif i%3 == 1:\n",
    "        new.append(contents[i])\n",
    "    elif i%3 == 2:\n",
    "        sepa_content.append(new)\n",
    "        "
   ]
  },
  {
   "cell_type": "code",
   "execution_count": 19,
   "id": "69e49263",
   "metadata": {},
   "outputs": [],
   "source": [
    "## save as json\n",
    "artitle_num = len(sepa_content)\n",
    "articles = list()\n",
    "article_names = list()\n",
    "\n",
    "for i in range(artitle_num):\n",
    "    art_dict = dict()\n",
    "    article = sepa_content[i]\n",
    "    src_title,abstract = article[0].split(\".\"),article[1]\n",
    "    \n",
    "    if src_title[0].startswith(\"PMC\"):   # have full text annotations in PTC\n",
    "        source_db = src_title[1]\n",
    "        source_id = src_title[2]\n",
    "        text = src_title[3]+\". \"+abstract\n",
    "    \n",
    "    elif src_title[0] == \"NLM\":\n",
    "        source_db = src_title[0]\n",
    "        source_id = src_title[1]\n",
    "        text = src_title[2]+\". \"+abstract\n",
    "    \n",
    "    elif src_title[0].startswith(\"CCC\"): \n",
    "        db_id = src_title[0].split(\":\")\n",
    "        source_db = db_id[0]\n",
    "        source_id = db_id[1]\n",
    "        text = src_title[1]+\". \"+abstract\n",
    "    \n",
    "    else:\n",
    "        print(\"Other database:\", src_title)\n",
    "        continue\n",
    "\n",
    "    art_dict[\"sourcedb\"] = source_db\n",
    "    art_dict[\"sourceid\"] = source_id\n",
    "    art_dict[\"text\"] = text  \n",
    "    \n",
    "    article_names.append(source_db+\"_\"+source_id)\n",
    "    articles.append(art_dict)\n",
    "\n",
    "with open(output_path+\"ten_recent.json\", 'w') as json_file:\n",
    "    json.dump(articles, json_file, indent = 4)\n",
    "    "
   ]
  },
  {
   "cell_type": "code",
   "execution_count": 23,
   "id": "bd1fbbf2",
   "metadata": {},
   "outputs": [],
   "source": [
    "## save as PubTator\n",
    "with open(\"./Projects/ptc/Code.Python/input/ex.PubTator\") as f:\n",
    "    contents = f.read()"
   ]
  },
  {
   "cell_type": "code",
   "execution_count": 26,
   "id": "93fa0800",
   "metadata": {},
   "outputs": [],
   "source": [
    "artitle_num = len(sepa_content)\n",
    "txts = \"\"\n",
    "\n",
    "for i in range(artitle_num):\n",
    "    article = sepa_content[i]\n",
    "    src_title,abstract = article[0].split(\".\"),article[1]\n",
    "\n",
    "    if src_title[0].startswith(\"PMC\"):   # have full text annotations in PTC\n",
    "        source_id = src_title[2]\n",
    "        title = src_title[3]\n",
    "        \n",
    "    elif src_title[0] == \"NLM\":\n",
    "        source_id = src_title[1]\n",
    "        title = src_title[2] \n",
    "    \n",
    "    elif src_title[0].startswith(\"CCC\"): \n",
    "        db_id = src_title[0].split(\":\")\n",
    "        source_id = db_id[1]\n",
    "        title = src_title[1]\n",
    "    \n",
    "    else:\n",
    "        print(\"Other database:\", src_title)\n",
    "        break\n",
    "    \n",
    "    txts += source_id+\"|t|\"+title+\"\\n\"+source_id+\"|a|\"+abstract+\"\\n\"+\"\\n\"\n",
    "    \n",
    "f = open(output_path+\"ten_recent.PubTator\", \"w\")\n",
    "f.write(txts)\n",
    "f.close()"
   ]
  },
  {
   "cell_type": "code",
   "execution_count": 27,
   "id": "9e913ec6",
   "metadata": {},
   "outputs": [],
   "source": [
    "## for NIO, turn the txt format articles to separated txt articles\n",
    "nio_path = \"./Projects/inputs/articles/04_ptc_ten_recent/articles-txt-format/\""
   ]
  },
  {
   "cell_type": "code",
   "execution_count": 44,
   "id": "d837ec9d",
   "metadata": {},
   "outputs": [],
   "source": [
    "for i in range(len(sepa_content)):\n",
    "    file_name = article_names[i]\n",
    "    with open(nio_path+file_name+\".txt\", 'w') as f:\n",
    "        content = sepa_content[i]\n",
    "        title = content[0].split(\".\")[-2]\n",
    "        abstract = content[1]\n",
    "        f.write(title+\".\"+abstract)"
   ]
  }
 ],
 "metadata": {
  "kernelspec": {
   "display_name": "Python 3",
   "language": "python",
   "name": "python3"
  },
  "language_info": {
   "codemirror_mode": {
    "name": "ipython",
    "version": 3
   },
   "file_extension": ".py",
   "mimetype": "text/x-python",
   "name": "python",
   "nbconvert_exporter": "python",
   "pygments_lexer": "ipython3",
   "version": "3.8.8"
  }
 },
 "nbformat": 4,
 "nbformat_minor": 5
}

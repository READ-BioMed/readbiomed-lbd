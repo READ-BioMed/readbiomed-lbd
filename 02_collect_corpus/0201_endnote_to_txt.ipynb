{
 "cells": [
  {
   "cell_type": "code",
   "execution_count": null,
   "id": "6c9c23a8",
   "metadata": {},
   "outputs": [],
   "source": [
    "\"\"\"\n",
    "This notebook is used to turn the endnote outputs to txt formats.\n",
    "\n",
    "- endnote outputs: AD bibliography-SavedTK-Converted.txt\n",
    "\"\"\""
   ]
  },
  {
   "cell_type": "code",
   "execution_count": 1,
   "id": "e3a8f0be",
   "metadata": {},
   "outputs": [],
   "source": [
    "path = \"./Projects/inputs/AD bibliography-SavedTK-Converted.txt\"\n",
    "folder_path = \"./Projects/inputs/articles-txt-format/\""
   ]
  },
  {
   "cell_type": "code",
   "execution_count": 2,
   "id": "07ade6fc",
   "metadata": {},
   "outputs": [],
   "source": [
    "with open(path) as f:\n",
    "    contents = f.read().replace(\"\\t\", \"\").splitlines()"
   ]
  },
  {
   "cell_type": "code",
   "execution_count": 5,
   "id": "d6687575",
   "metadata": {},
   "outputs": [],
   "source": [
    "sepa_content = list()\n",
    "for i in range(len(contents)):\n",
    "    if i%3 == 0:\n",
    "        new = list()\n",
    "        new.append(contents[i])\n",
    "    elif i%3 == 1:\n",
    "        new.append(contents[i])\n",
    "    elif i%3 == 2:\n",
    "#         new.append(contents[i])\n",
    "        sepa_content.append(new)\n",
    "        "
   ]
  },
  {
   "cell_type": "code",
   "execution_count": 17,
   "id": "ccdd28a3",
   "metadata": {},
   "outputs": [],
   "source": [
    "for i in range(len(sepa_content)):\n",
    "    file_name = str(i)\n",
    "    with open(folder_path+file_name+\".txt\", 'w') as f:\n",
    "        f.write(\" \".join(sepa_content[i]))"
   ]
  }
 ],
 "metadata": {
  "kernelspec": {
   "display_name": "Python 3",
   "language": "python",
   "name": "python3"
  },
  "language_info": {
   "codemirror_mode": {
    "name": "ipython",
    "version": 3
   },
   "file_extension": ".py",
   "mimetype": "text/x-python",
   "name": "python",
   "nbconvert_exporter": "python",
   "pygments_lexer": "ipython3",
   "version": "3.8.8"
  }
 },
 "nbformat": 4,
 "nbformat_minor": 5
}

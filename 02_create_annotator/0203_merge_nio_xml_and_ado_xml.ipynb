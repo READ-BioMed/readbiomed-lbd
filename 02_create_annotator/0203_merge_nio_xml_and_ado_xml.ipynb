{
 "cells": [
  {
   "cell_type": "code",
   "execution_count": null,
   "id": "474a3f6f",
   "metadata": {},
   "outputs": [],
   "source": [
    "\"\"\"\n",
    "This notebook is used to merge the nio dictionary and the ado dictionary together\n",
    "\n",
    "\"\"\""
   ]
  },
  {
   "cell_type": "code",
   "execution_count": 1,
   "id": "846d2bc9",
   "metadata": {},
   "outputs": [],
   "source": [
    "import xmltodict\n",
    "import copy\n",
    "from collections import OrderedDict"
   ]
  },
  {
   "cell_type": "code",
   "execution_count": 2,
   "id": "b72fbf4d",
   "metadata": {},
   "outputs": [],
   "source": [
    "xml_path = \"/Users/yidesdo21/Projects/inputs/dictionary/\"\n",
    "\n",
    "with open(xml_path+\"ado_case.xml\") as f:\n",
    "    ado_xml = f.read()\n",
    "    \n",
    "with open(xml_path+\"nio_case.xml\") as f:\n",
    "    nio_xml = f.read()\n",
    "\n",
    "ado_parsed = xmltodict.parse(ado_xml)\n",
    "nio_parsed = xmltodict.parse(nio_xml)\n",
    "ado_dict = ado_parsed[\"synonym\"][\"token\"]\n",
    "nio_dict = nio_parsed[\"synonym\"][\"token\"]"
   ]
  },
  {
   "cell_type": "code",
   "execution_count": 4,
   "id": "3e563850",
   "metadata": {},
   "outputs": [
    {
     "name": "stdout",
     "output_type": "stream",
     "text": [
      "3755\n"
     ]
    }
   ],
   "source": [
    "nio_ids = set()\n",
    "for nio_concept in nio_dict:\n",
    "#     nio_id = nio_concept[\"@id\"]\n",
    "    nio_ids.add(nio_concept[\"@id\"])\n",
    "#     if nio_id.split(\":\")[0] == \"AlzheimerOntology\":   \n",
    "#         nio_ids.add(nio_id)\n",
    "print(len(nio_ids))    "
   ]
  },
  {
   "cell_type": "code",
   "execution_count": 50,
   "id": "0f05c43d",
   "metadata": {},
   "outputs": [],
   "source": [
    "# the intersected concepts for ado and nio\n",
    "mutual_ids = set()\n",
    "\n",
    "for ado_concept in ado_dict:\n",
    "    ado_id = ado_concept[\"@id\"]\n",
    "    if ado_id.split(\":\")[0] == \"AlzheimerOntology\": \n",
    "        if ado_id in nio_ids:\n",
    "            mutual_ids.add(ado_id)"
   ]
  },
  {
   "cell_type": "code",
   "execution_count": 51,
   "id": "4ba08e90",
   "metadata": {},
   "outputs": [],
   "source": [
    "nio_mutual_concepts = list()\n",
    "ado_mutual_concepts = list()\n",
    "\n",
    "for nio_concept in nio_dict:\n",
    "    nio_id = nio_concept[\"@id\"]\n",
    "    if nio_id in mutual_ids:\n",
    "        nio_mutual_concepts.append(nio_concept)\n",
    "        \n",
    "for ado_concept in ado_dict:\n",
    "    ado_id = ado_concept[\"@id\"]\n",
    "    if ado_id in mutual_ids:\n",
    "        ado_mutual_concepts.append(ado_concept)"
   ]
  },
  {
   "cell_type": "code",
   "execution_count": 52,
   "id": "6247dbee",
   "metadata": {},
   "outputs": [],
   "source": [
    "mutual_concepts = list()\n",
    "for nio_mutual_concept in nio_mutual_concepts:\n",
    "    mutual_id, mutual_cano = nio_mutual_concept[\"@id\"], nio_mutual_concept[\"@canonical\"]\n",
    "    for ado_mutual_concept in ado_mutual_concepts:\n",
    "        ado_mutual_id = ado_mutual_concept[\"@id\"]\n",
    "        if ado_mutual_id == mutual_id:\n",
    "#             print(ado_mutual_id)\n",
    "            nio_vars, ado_vars = nio_mutual_concept[\"variant\"], ado_mutual_concept[\"variant\"]\n",
    "#             print(nio_vars)\n",
    "#             print(ado_vars)\n",
    "#             print(\"----------\")\n",
    "            mutual_vars = copy.deepcopy(nio_vars)\n",
    "            for ado_var in ado_vars:\n",
    "                if ado_var not in nio_vars:\n",
    "                    print(ado_var)\n",
    "                    mutual_vars.append(ado_var)\n",
    "    \n",
    "    mutual_concept = OrderedDict([('@id', mutual_id),\n",
    "                                  ('@canonical', mutual_cano),\n",
    "                                  ('variant', mutual_vars)])    \n",
    "    mutual_concepts.append(mutual_concept)"
   ]
  },
  {
   "cell_type": "code",
   "execution_count": 5,
   "id": "cc8281e9",
   "metadata": {},
   "outputs": [],
   "source": [
    "merged_dict = copy.deepcopy(nio_dict)\n",
    "corner_case = None\n",
    "# nio_ids.remove(\"NDDUO:prevalence\")  # avoid duplications in the merged dictionary \n",
    "\n",
    "for ado_concept in ado_dict:\n",
    "    ado_id = ado_concept[\"@id\"]\n",
    "    \n",
    "    if ado_id not in nio_ids and ado_id != \"NDDUO:Prevalence\":\n",
    "        merged_dict.append(ado_concept)\n",
    "        \n",
    "    if ado_id == \"NDDUO:Prevalence\":\n",
    "        corner_case = ado_concept\n",
    "\n",
    "for idx, concept in enumerate(merged_dict):\n",
    "    if concept[\"@id\"] == \"NDDUO:prevalence\":\n",
    "        merged_dict[idx] = corner_case    "
   ]
  },
  {
   "cell_type": "code",
   "execution_count": 7,
   "id": "4bd12be2",
   "metadata": {},
   "outputs": [],
   "source": [
    "# turn the dictionary into xml\n",
    "mydict = {\n",
    "    'synonym': {\n",
    "    \"token\": merged_dict}}\n",
    "\n",
    "xml_str = xmltodict.unparse(mydict, pretty=True)"
   ]
  },
  {
   "cell_type": "code",
   "execution_count": 10,
   "id": "09e37e47",
   "metadata": {},
   "outputs": [],
   "source": [
    "# save file\n",
    "dict_path = \"/Users/yidesdo21/Projects/inputs/dictionary/\"\n",
    "save_path_file = \"nio_ado_case.xml\"    \n",
    "\n",
    "with open(dict_path+save_path_file, \"w\") as f:\n",
    "    f.write(xml_str)"
   ]
  },
  {
   "cell_type": "code",
   "execution_count": null,
   "id": "2a995ebd",
   "metadata": {},
   "outputs": [],
   "source": []
  }
 ],
 "metadata": {
  "kernelspec": {
   "display_name": "Python 3",
   "language": "python",
   "name": "python3"
  },
  "language_info": {
   "codemirror_mode": {
    "name": "ipython",
    "version": 3
   },
   "file_extension": ".py",
   "mimetype": "text/x-python",
   "name": "python",
   "nbconvert_exporter": "python",
   "pygments_lexer": "ipython3",
   "version": "3.8.8"
  }
 },
 "nbformat": 4,
 "nbformat_minor": 5
}

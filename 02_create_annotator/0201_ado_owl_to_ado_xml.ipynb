{
 "cells": [
  {
   "cell_type": "code",
   "execution_count": null,
   "id": "7b7b3435",
   "metadata": {},
   "outputs": [],
   "source": [
    "\"\"\"\n",
    "This notebook is used to extract the <token, id, canonical, variants> triple from the ado.owl\n",
    "\n",
    "\"\"\""
   ]
  },
  {
   "cell_type": "code",
   "execution_count": null,
   "id": "d9ae6ac3",
   "metadata": {},
   "outputs": [],
   "source": [
    "from bs4 import BeautifulSoup\n",
    "from xml.dom import minidom\n",
    "import xmltodict\n",
    "from collections import Counter, OrderedDict\n",
    "from collections.abc import Mapping"
   ]
  },
  {
   "cell_type": "code",
   "execution_count": 1,
   "id": "b9496bfe",
   "metadata": {},
   "outputs": [],
   "source": [
    "ado_path = \"/Users/yidesdo21/Projects/inputs/ontologies/Alzheimer Ontology v15R-xml_merged.owl\"\n",
    "\n",
    "with open(ado_path) as f:\n",
    "    contents = f.read()\n",
    "#     print(contents)\n",
    "\n",
    "soup = BeautifulSoup(contents, 'html.parser')"
   ]
  },
  {
   "cell_type": "code",
   "execution_count": 18,
   "id": "4815d5c0",
   "metadata": {
    "scrolled": true
   },
   "outputs": [],
   "source": [
    "# create file\n",
    "xmldoc = minidom.Document()\n",
    "\n",
    "# creat root element\n",
    "root_element = xmldoc.createElement('synonym')\n",
    "xmldoc.appendChild(root_element)\n",
    "\n",
    "\n",
    "for owl_class in soup.find_all(\"owl:class\"):\n",
    "    if not owl_class.findParent('owl:equivalentclass') and not owl_class.findParent('rdfs:subclassof'):\n",
    "        rdf_about = owl_class[\"rdf:about\"].replace(\"&\", \"\")\n",
    "        ontology = rdf_about.split(\";\")[0]\n",
    "        token_id = rdf_about.replace(\";\", \":\")\n",
    "        \n",
    "        productChild = xmldoc.createElement('token')\n",
    "        productChild.setAttribute('id', token_id)  # attribute, value\n",
    "\n",
    "        for child in owl_class.contents:\n",
    "            variants = set()\n",
    "            if child.name == \"rdfs:label\": \n",
    "                cano = child.get_text()\n",
    "#                 cano = child.get_text().lower()\n",
    "\n",
    "                if cano not in variants:   # avoid duplications in the variant base \n",
    "                    variants.add(cano)\n",
    "\n",
    "                    productChild.setAttribute('canonical', cano)\n",
    "                    root_element.appendChild(productChild)\n",
    "\n",
    "                    # create child element, the canonical also has to be in the variant\n",
    "                    product_grandChild = xmldoc.createElement('variant')\n",
    "\n",
    "                    # insert user data into element\n",
    "                    product_grandChild.setAttribute('base', cano)\n",
    "                    productChild.appendChild(product_grandChild) \n",
    "                \n",
    "#                 id_cano.append((token_id, cano))\n",
    "                \n",
    "            if child.name == \"NDDUO:Synonym\".lower():   # because beautifulsoup lowercase the children names\n",
    "                syno = child.get_text()\n",
    "#                 syno = child.get_text().lower()\n",
    "#                 print(syno)\n",
    "                \n",
    "                if syno not in variants:  # avoid duplications in the variant base\n",
    "                    variants.add(syno)\n",
    "                    \n",
    "                    # create child element\n",
    "                    product_grandChild = xmldoc.createElement('variant')\n",
    "\n",
    "                    # insert user data into element\n",
    "                    product_grandChild.setAttribute('base', syno)\n",
    "                    productChild.appendChild(product_grandChild)                  \n",
    "                \n",
    "#                 id_syno.append((token_id, syno))\n",
    "        \n",
    "xml_str = xmldoc.toprettyxml(indent =\"\\t\")\n",
    "\n",
    "# save file\n",
    "save_path_file = \"ado_case.xml\"\n",
    "dict_path = \"/Users/yidesdo21/Projects/inputs/dictionary/\"\n",
    "\n",
    "with open(dict_path+save_path_file, \"w\") as f:\n",
    "    f.write(xml_str)        \n"
   ]
  }
 ],
 "metadata": {
  "kernelspec": {
   "display_name": "Python 3",
   "language": "python",
   "name": "python3"
  },
  "language_info": {
   "codemirror_mode": {
    "name": "ipython",
    "version": 3
   },
   "file_extension": ".py",
   "mimetype": "text/x-python",
   "name": "python",
   "nbconvert_exporter": "python",
   "pygments_lexer": "ipython3",
   "version": "3.8.8"
  }
 },
 "nbformat": 4,
 "nbformat_minor": 5
}
